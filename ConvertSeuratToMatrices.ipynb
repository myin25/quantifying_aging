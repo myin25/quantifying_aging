{
 "cells": [
  {
   "cell_type": "code",
   "execution_count": 1,
   "id": "593d1fab-5dc8-4057-98f6-f4922bcd950a",
   "metadata": {},
   "outputs": [
    {
     "name": "stderr",
     "output_type": "stream",
     "text": [
      "── \u001b[1mAttaching core tidyverse packages\u001b[22m ──────────────────────── tidyverse 2.0.0 ──\n",
      "\u001b[32m✔\u001b[39m \u001b[34mdplyr    \u001b[39m 1.1.4     \u001b[32m✔\u001b[39m \u001b[34mreadr    \u001b[39m 2.1.4\n",
      "\u001b[32m✔\u001b[39m \u001b[34mforcats  \u001b[39m 1.0.0     \u001b[32m✔\u001b[39m \u001b[34mstringr  \u001b[39m 1.5.1\n",
      "\u001b[32m✔\u001b[39m \u001b[34mlubridate\u001b[39m 1.9.3     \u001b[32m✔\u001b[39m \u001b[34mtibble   \u001b[39m 3.2.1\n",
      "\u001b[32m✔\u001b[39m \u001b[34mpurrr    \u001b[39m 1.0.2     \u001b[32m✔\u001b[39m \u001b[34mtidyr    \u001b[39m 1.3.0\n",
      "── \u001b[1mConflicts\u001b[22m ────────────────────────────────────────── tidyverse_conflicts() ──\n",
      "\u001b[31m✖\u001b[39m \u001b[34mdplyr\u001b[39m::\u001b[32mfilter()\u001b[39m masks \u001b[34mstats\u001b[39m::filter()\n",
      "\u001b[31m✖\u001b[39m \u001b[34mdplyr\u001b[39m::\u001b[32mlag()\u001b[39m    masks \u001b[34mstats\u001b[39m::lag()\n",
      "\u001b[36mℹ\u001b[39m Use the conflicted package (\u001b[3m\u001b[34m<http://conflicted.r-lib.org/>\u001b[39m\u001b[23m) to force all conflicts to become errors\n",
      "Attaching SeuratObject\n",
      "\n",
      "‘SeuratObject’ was built with package ‘Matrix’ 1.6.1.1 but the current\n",
      "version is 1.6.4; it is recomended that you reinstall ‘SeuratObject’ as\n",
      "the ABI for ‘Matrix’ may have changed\n",
      "\n"
     ]
    }
   ],
   "source": [
    "library(ggplot2)\n",
    "library(tidyverse)\n",
    "library(lubridate)\n",
    "library(Seurat)"
   ]
  },
  {
   "cell_type": "code",
   "execution_count": 2,
   "id": "c2f2953c-83fb-4aa7-8f9d-af4336f2fb95",
   "metadata": {},
   "outputs": [
    {
     "name": "stderr",
     "output_type": "stream",
     "text": [
      "\n",
      "Attaching package: ‘Matrix’\n",
      "\n",
      "\n",
      "The following objects are masked from ‘package:tidyr’:\n",
      "\n",
      "    expand, pack, unpack\n",
      "\n",
      "\n"
     ]
    }
   ],
   "source": [
    "library(Matrix)"
   ]
  },
  {
   "cell_type": "code",
   "execution_count": 3,
   "id": "f2776db7-bb80-497a-8539-937e7174de75",
   "metadata": {},
   "outputs": [],
   "source": [
    "filename <- \"/gpfs/home/meyin/published_data/exercise/seurat.SVZ.annotated.2020-04-27.rds?download=1\"\n",
    "data <- readRDS(filename)"
   ]
  },
  {
   "cell_type": "code",
   "execution_count": 4,
   "id": "b476bbdb-3c9f-46e3-8532-ee85e2fbfbd2",
   "metadata": {},
   "outputs": [],
   "source": [
    "metadata <- data@meta.data %>% filter(data@meta.data$Celltype.LowRes != \"Doublet\")"
   ]
  },
  {
   "cell_type": "code",
   "execution_count": 5,
   "id": "c8a9adae-4742-464e-a24e-414dbec946e1",
   "metadata": {},
   "outputs": [],
   "source": [
    "seurat_list <- SplitObject(data, split.by = \"ID\")"
   ]
  },
  {
   "cell_type": "code",
   "execution_count": 6,
   "id": "e5730e6c-c24f-467e-8926-41fb15c0c3da",
   "metadata": {},
   "outputs": [],
   "source": [
    "initial_matrices <- lapply(seurat_list, function(x) GetAssayData(x, slot = \"data\"))"
   ]
  },
  {
   "cell_type": "code",
   "execution_count": null,
   "id": "1f2eddf1-8d5f-4f3a-8f6d-0f05bea5cf32",
   "metadata": {},
   "outputs": [],
   "source": [
    "output_directory <- \"/gpfs/home/meyin/published_data/matrices\"\n",
    "\n",
    "for (i in seq_along(initial_matrices)) {\n",
    "  file_name <- paste0(output_directory, \"/sparse_matrix_\", i + 1, \".mtx\")\n",
    "  writeMM(initial_matrices[[i]], file_name)\n",
    "}"
   ]
  },
  {
   "cell_type": "code",
   "execution_count": 7,
   "id": "17e6c429-05ff-40b4-8fc7-401b20b39e67",
   "metadata": {},
   "outputs": [],
   "source": [
    "read_matrix <- function(file) {\n",
    "  as.matrix(readMM(file))\n",
    "}"
   ]
  },
  {
   "cell_type": "code",
   "execution_count": 18,
   "id": "25fd3fc3-34be-4fe3-afc5-5c34870448ff",
   "metadata": {},
   "outputs": [],
   "source": [
    "old_control_files <- c(\"/gpfs/home/meyin/published_data/matrices/old_control/sparse_matrix_2.mtx\", \n",
    "                       \"/gpfs/home/meyin/published_data/matrices/old_control/sparse_matrix_5.mtx\", \n",
    "                       \"/gpfs/home/meyin/published_data/matrices/old_control/sparse_matrix_7.mtx\")\n",
    "\n",
    "# Read all matrices into a list\n",
    "matrices <- lapply(old_control_files, read_matrix)\n",
    "\n",
    "matrix <- cbind(matrices[[1]], matrices[[2]], matrices[[3]])\n",
    "\n",
    "write.csv(matrix, \"old_control.csv\", row.names = FALSE)\n"
   ]
  },
  {
   "cell_type": "code",
   "execution_count": 19,
   "id": "f1cc0197-2198-4e6e-9815-fcbdd92c66a9",
   "metadata": {},
   "outputs": [],
   "source": [
    "old_exercise_files <- c(\"/gpfs/home/meyin/published_data/matrices/old_exercise/sparse_matrix_3.mtx\", \n",
    "                        \"/gpfs/home/meyin/published_data/matrices/old_exercise/sparse_matrix_4.mtx\", \n",
    "                        \"/gpfs/home/meyin/published_data/matrices/old_exercise/sparse_matrix_6.mtx\", \n",
    "                        \"/gpfs/home/meyin/published_data/matrices/old_exercise/sparse_matrix_8.mtx\")\n",
    "\n",
    "# Read all matrices into a list\n",
    "matrices <- lapply(old_exercise_files, read_matrix)\n",
    "\n",
    "matrix <- cbind(matrices[[1]], matrices[[2]], matrices[[3]], matrices[[4]])\n",
    "\n",
    "write.csv(matrix, \"old_exercise.csv\", row.names = FALSE)\n"
   ]
  },
  {
   "cell_type": "code",
   "execution_count": 20,
   "id": "3f0e7b03-e42b-46ec-b849-a2f3881901a4",
   "metadata": {},
   "outputs": [
    {
     "name": "stderr",
     "output_type": "stream",
     "text": [
      "Warning message in asMethod(object):\n",
      "“sparse->dense coercion: allocating vector of size 1.1 GiB”\n"
     ]
    }
   ],
   "source": [
    "young_control_files <- c(\"/gpfs/home/meyin/published_data/matrices/young_control/sparse_matrix_9.mtx\", \n",
    "                         \"/gpfs/home/meyin/published_data/matrices/young_control/sparse_matrix_10.mtx\", \n",
    "                         \"/gpfs/home/meyin/published_data/matrices/young_control/sparse_matrix_13.mtx\", \n",
    "                         \"/gpfs/home/meyin/published_data/matrices/young_control/sparse_matrix_15.mtx\")\n",
    "\n",
    "# Read all matrices into a list\n",
    "matrices <- lapply(young_control_files, read_matrix)\n",
    "\n",
    "matrix <- cbind(matrices[[1]], matrices[[2]], matrices[[3]], matrices[[4]])\n",
    "\n",
    "write.csv(matrix, \"young_control.csv\", row.names = FALSE)\n"
   ]
  },
  {
   "cell_type": "code",
   "execution_count": 21,
   "id": "dcae6506-770d-44a3-8f73-08747544466e",
   "metadata": {},
   "outputs": [
    {
     "name": "stderr",
     "output_type": "stream",
     "text": [
      "Warning message in asMethod(object):\n",
      "“sparse->dense coercion: allocating vector of size 1.0 GiB”\n"
     ]
    }
   ],
   "source": [
    "young_exercise_files <- c(\"/gpfs/home/meyin/published_data/matrices/young_exercise/sparse_matrix_11.mtx\", \n",
    "                          \"/gpfs/home/meyin/published_data/matrices/young_exercise/sparse_matrix_12.mtx\", \n",
    "                          \"/gpfs/home/meyin/published_data/matrices/young_exercise/sparse_matrix_14.mtx\", \n",
    "                          \"/gpfs/home/meyin/published_data/matrices/young_exercise/sparse_matrix_16.mtx\")\n",
    "\n",
    "# Read all matrices into a list\n",
    "matrices <- lapply(young_exercise_files, read_matrix)\n",
    "\n",
    "matrix <- cbind(matrices[[1]], matrices[[2]], matrices[[3]], matrices[[4]])\n",
    "\n",
    "write.csv(matrix, \"young_exercise.csv\", row.names = FALSE)\n"
   ]
  },
  {
   "cell_type": "code",
   "execution_count": null,
   "id": "1d4bca07-d43f-4d0b-9d07-7cba7e51a855",
   "metadata": {},
   "outputs": [],
   "source": []
  }
 ],
 "metadata": {
  "kernelspec": {
   "display_name": "R4.0.0",
   "language": "R",
   "name": "ir"
  },
  "language_info": {
   "codemirror_mode": "r",
   "file_extension": ".r",
   "mimetype": "text/x-r-source",
   "name": "R",
   "pygments_lexer": "r",
   "version": "4.0.0"
  }
 },
 "nbformat": 4,
 "nbformat_minor": 5
}

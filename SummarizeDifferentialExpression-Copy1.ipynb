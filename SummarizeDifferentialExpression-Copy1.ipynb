{
 "cells": [
  {
   "cell_type": "markdown",
   "id": "e0a703ce-c31e-485b-91e8-09b6d850dcf4",
   "metadata": {},
   "source": [
    "Notebook summary:\n",
    "- First look at exercise data\n",
    "- Examines possible values for each column\n",
    "- Quality control: Check levels of RNA (including mitochondrial RNA) and genes across the 4 test groups to make sure they're relatively similar and aren't contaminated\n",
    "- Calculates transcriptional noise\n",
    "- Plots included in the notebook:\n",
    "    Bar plot: used for quality control and p values of\n",
    "    Volcano plot: plots log fold between two groups"
   ]
  },
  {
   "cell_type": "code",
   "execution_count": 1,
   "id": "ba47b808-2255-4fd6-b65d-21d8987da3c8",
   "metadata": {},
   "outputs": [
    {
     "name": "stderr",
     "output_type": "stream",
     "text": [
      "── \u001b[1mAttaching core tidyverse packages\u001b[22m ──────────────────────── tidyverse 2.0.0 ──\n",
      "\u001b[32m✔\u001b[39m \u001b[34mdplyr    \u001b[39m 1.1.4     \u001b[32m✔\u001b[39m \u001b[34mreadr    \u001b[39m 2.1.4\n",
      "\u001b[32m✔\u001b[39m \u001b[34mforcats  \u001b[39m 1.0.0     \u001b[32m✔\u001b[39m \u001b[34mstringr  \u001b[39m 1.5.1\n",
      "\u001b[32m✔\u001b[39m \u001b[34mlubridate\u001b[39m 1.9.3     \u001b[32m✔\u001b[39m \u001b[34mtibble   \u001b[39m 3.2.1\n",
      "\u001b[32m✔\u001b[39m \u001b[34mpurrr    \u001b[39m 1.0.2     \u001b[32m✔\u001b[39m \u001b[34mtidyr    \u001b[39m 1.3.0\n",
      "── \u001b[1mConflicts\u001b[22m ────────────────────────────────────────── tidyverse_conflicts() ──\n",
      "\u001b[31m✖\u001b[39m \u001b[34mdplyr\u001b[39m::\u001b[32mfilter()\u001b[39m masks \u001b[34mstats\u001b[39m::filter()\n",
      "\u001b[31m✖\u001b[39m \u001b[34mdplyr\u001b[39m::\u001b[32mlag()\u001b[39m    masks \u001b[34mstats\u001b[39m::lag()\n",
      "\u001b[36mℹ\u001b[39m Use the conflicted package (\u001b[3m\u001b[34m<http://conflicted.r-lib.org/>\u001b[39m\u001b[23m) to force all conflicts to become errors\n",
      "Attaching SeuratObject\n",
      "\n",
      "‘SeuratObject’ was built with package ‘Matrix’ 1.6.1.1 but the current\n",
      "version is 1.6.4; it is recomended that you reinstall ‘SeuratObject’ as\n",
      "the ABI for ‘Matrix’ may have changed\n",
      "\n"
     ]
    }
   ],
   "source": [
    "library(ggplot2)\n",
    "library(tidyverse)\n",
    "library(lubridate)\n",
    "library(Seurat)"
   ]
  },
  {
   "cell_type": "code",
   "execution_count": 2,
   "id": "1cbb52c6-c44c-4791-a83a-7f4d14f5b951",
   "metadata": {},
   "outputs": [],
   "source": [
    "library(pheatmap)"
   ]
  },
  {
   "cell_type": "code",
   "execution_count": null,
   "id": "1c3c5643-948c-476a-a2c6-c2d5d61444ba",
   "metadata": {
    "scrolled": true
   },
   "outputs": [],
   "source": [
    "filename <- \"/gpfs/home/meyin/published_data/parabiosis/pb_combined.rds?download=1\"\n",
    "data <- readRDS(filename)"
   ]
  },
  {
   "cell_type": "code",
   "execution_count": null,
   "id": "e1298923-681d-4cc3-bda9-4018c61ddeb0",
   "metadata": {},
   "outputs": [],
   "source": [
    "# Quality Control"
   ]
  },
  {
   "cell_type": "code",
   "execution_count": null,
   "id": "5f41ee40-c3cc-4f4e-a417-6b7a3923af35",
   "metadata": {},
   "outputs": [],
   "source": [
    "metadata <- data@meta.data %>% filter(data@meta.data$Celltype != \"Doublet\")"
   ]
  },
  {
   "cell_type": "code",
   "execution_count": 5,
   "id": "d038b2eb-e6d8-452c-9a77-07d522b70810",
   "metadata": {},
   "outputs": [
    {
     "data": {
      "text/html": [
       "<table class=\"dataframe\">\n",
       "<caption>A data.frame: 6 × 22</caption>\n",
       "<thead>\n",
       "\t<tr><th></th><th scope=col>orig.ident</th><th scope=col>nCount_RNA</th><th scope=col>nFeature_RNA</th><th scope=col>percent.mt</th><th scope=col>nCount_SCT</th><th scope=col>nFeature_SCT</th><th scope=col>SCT_snn_res.0.4</th><th scope=col>seurat_clusters</th><th scope=col>ID</th><th scope=col>Tissue</th><th scope=col>⋯</th><th scope=col>Condition</th><th scope=col>Weight</th><th scope=col>Age</th><th scope=col>AgeCond</th><th scope=col>Dissection</th><th scope=col>S.Score</th><th scope=col>G2M.Score</th><th scope=col>Phase</th><th scope=col>Celltype</th><th scope=col>Celltype.LowRes</th></tr>\n",
       "\t<tr><th></th><th scope=col>&lt;chr&gt;</th><th scope=col>&lt;dbl&gt;</th><th scope=col>&lt;int&gt;</th><th scope=col>&lt;dbl&gt;</th><th scope=col>&lt;dbl&gt;</th><th scope=col>&lt;int&gt;</th><th scope=col>&lt;fct&gt;</th><th scope=col>&lt;fct&gt;</th><th scope=col>&lt;chr&gt;</th><th scope=col>&lt;chr&gt;</th><th scope=col>⋯</th><th scope=col>&lt;chr&gt;</th><th scope=col>&lt;dbl&gt;</th><th scope=col>&lt;chr&gt;</th><th scope=col>&lt;chr&gt;</th><th scope=col>&lt;chr&gt;</th><th scope=col>&lt;dbl&gt;</th><th scope=col>&lt;dbl&gt;</th><th scope=col>&lt;fct&gt;</th><th scope=col>&lt;fct&gt;</th><th scope=col>&lt;fct&gt;</th></tr>\n",
       "</thead>\n",
       "<tbody>\n",
       "\t<tr><th scope=row>AAACCCAAGCCTTTCC_1</th><td>O2_SVZ_R2_D1_Control_33.6</td><td> 6084</td><td>2418</td><td>5.046022</td><td>6152</td><td>2418</td><td>1 </td><td>1 </td><td>O2</td><td>SVZ</td><td>⋯</td><td>Control</td><td>33.6</td><td>O</td><td>O_Control</td><td>MB</td><td>-0.04462565</td><td>-0.09184528</td><td>G1</td><td>Astrocyte    </td><td>Astrocyte_qNSC</td></tr>\n",
       "\t<tr><th scope=row>AAACCCAAGCGCCGTT_1</th><td>O2_SVZ_R2_D1_Control_33.6</td><td> 9814</td><td>3131</td><td>5.726513</td><td>7086</td><td>3088</td><td>6 </td><td>6 </td><td>O2</td><td>SVZ</td><td>⋯</td><td>Control</td><td>33.6</td><td>O</td><td>O_Control</td><td>MB</td><td>-0.01115904</td><td>-0.11240861</td><td>G1</td><td>Oligodendro_2</td><td>Oligodendro   </td></tr>\n",
       "\t<tr><th scope=row>AAACCCACATGCACTA_1</th><td>O2_SVZ_R2_D1_Control_33.6</td><td>11254</td><td>2829</td><td>6.140039</td><td>6983</td><td>2586</td><td>0 </td><td>0 </td><td>O2</td><td>SVZ</td><td>⋯</td><td>Control</td><td>33.6</td><td>O</td><td>O_Control</td><td>MB</td><td>-0.05598174</td><td>-0.10543268</td><td>G1</td><td>Microglia_1  </td><td>Microglia     </td></tr>\n",
       "\t<tr><th scope=row>AAACCCAGTACCGTCG_1</th><td>O2_SVZ_R2_D1_Control_33.6</td><td>11185</td><td>3357</td><td>6.785874</td><td>7120</td><td>3146</td><td>4 </td><td>4 </td><td>O2</td><td>SVZ</td><td>⋯</td><td>Control</td><td>33.6</td><td>O</td><td>O_Control</td><td>MB</td><td>-0.11305243</td><td>-0.08205005</td><td>G1</td><td>Oligodendro_1</td><td>Oligodendro   </td></tr>\n",
       "\t<tr><th scope=row>AAACCCAGTCACCGCA_1</th><td>O2_SVZ_R2_D1_Control_33.6</td><td> 5932</td><td>2677</td><td>3.371544</td><td>6019</td><td>2677</td><td>10</td><td>10</td><td>O2</td><td>SVZ</td><td>⋯</td><td>Control</td><td>33.6</td><td>O</td><td>O_Control</td><td>MB</td><td>-0.09697635</td><td>-0.16882901</td><td>G1</td><td>Pericyte     </td><td>Mural         </td></tr>\n",
       "\t<tr><th scope=row>AAACCCAGTCCTACAA_1</th><td>O2_SVZ_R2_D1_Control_33.6</td><td> 9204</td><td>3124</td><td>4.019991</td><td>7183</td><td>3100</td><td>1 </td><td>1 </td><td>O2</td><td>SVZ</td><td>⋯</td><td>Control</td><td>33.6</td><td>O</td><td>O_Control</td><td>MB</td><td>-0.06732660</td><td>-0.08756857</td><td>G1</td><td>Astrocyte    </td><td>Astrocyte_qNSC</td></tr>\n",
       "</tbody>\n",
       "</table>\n"
      ],
      "text/latex": [
       "A data.frame: 6 × 22\n",
       "\\begin{tabular}{r|lllllllllllllllllllll}\n",
       "  & orig.ident & nCount\\_RNA & nFeature\\_RNA & percent.mt & nCount\\_SCT & nFeature\\_SCT & SCT\\_snn\\_res.0.4 & seurat\\_clusters & ID & Tissue & ⋯ & Condition & Weight & Age & AgeCond & Dissection & S.Score & G2M.Score & Phase & Celltype & Celltype.LowRes\\\\\n",
       "  & <chr> & <dbl> & <int> & <dbl> & <dbl> & <int> & <fct> & <fct> & <chr> & <chr> & ⋯ & <chr> & <dbl> & <chr> & <chr> & <chr> & <dbl> & <dbl> & <fct> & <fct> & <fct>\\\\\n",
       "\\hline\n",
       "\tAAACCCAAGCCTTTCC\\_1 & O2\\_SVZ\\_R2\\_D1\\_Control\\_33.6 &  6084 & 2418 & 5.046022 & 6152 & 2418 & 1  & 1  & O2 & SVZ & ⋯ & Control & 33.6 & O & O\\_Control & MB & -0.04462565 & -0.09184528 & G1 & Astrocyte     & Astrocyte\\_qNSC\\\\\n",
       "\tAAACCCAAGCGCCGTT\\_1 & O2\\_SVZ\\_R2\\_D1\\_Control\\_33.6 &  9814 & 3131 & 5.726513 & 7086 & 3088 & 6  & 6  & O2 & SVZ & ⋯ & Control & 33.6 & O & O\\_Control & MB & -0.01115904 & -0.11240861 & G1 & Oligodendro\\_2 & Oligodendro   \\\\\n",
       "\tAAACCCACATGCACTA\\_1 & O2\\_SVZ\\_R2\\_D1\\_Control\\_33.6 & 11254 & 2829 & 6.140039 & 6983 & 2586 & 0  & 0  & O2 & SVZ & ⋯ & Control & 33.6 & O & O\\_Control & MB & -0.05598174 & -0.10543268 & G1 & Microglia\\_1   & Microglia     \\\\\n",
       "\tAAACCCAGTACCGTCG\\_1 & O2\\_SVZ\\_R2\\_D1\\_Control\\_33.6 & 11185 & 3357 & 6.785874 & 7120 & 3146 & 4  & 4  & O2 & SVZ & ⋯ & Control & 33.6 & O & O\\_Control & MB & -0.11305243 & -0.08205005 & G1 & Oligodendro\\_1 & Oligodendro   \\\\\n",
       "\tAAACCCAGTCACCGCA\\_1 & O2\\_SVZ\\_R2\\_D1\\_Control\\_33.6 &  5932 & 2677 & 3.371544 & 6019 & 2677 & 10 & 10 & O2 & SVZ & ⋯ & Control & 33.6 & O & O\\_Control & MB & -0.09697635 & -0.16882901 & G1 & Pericyte      & Mural         \\\\\n",
       "\tAAACCCAGTCCTACAA\\_1 & O2\\_SVZ\\_R2\\_D1\\_Control\\_33.6 &  9204 & 3124 & 4.019991 & 7183 & 3100 & 1  & 1  & O2 & SVZ & ⋯ & Control & 33.6 & O & O\\_Control & MB & -0.06732660 & -0.08756857 & G1 & Astrocyte     & Astrocyte\\_qNSC\\\\\n",
       "\\end{tabular}\n"
      ],
      "text/markdown": [
       "\n",
       "A data.frame: 6 × 22\n",
       "\n",
       "| <!--/--> | orig.ident &lt;chr&gt; | nCount_RNA &lt;dbl&gt; | nFeature_RNA &lt;int&gt; | percent.mt &lt;dbl&gt; | nCount_SCT &lt;dbl&gt; | nFeature_SCT &lt;int&gt; | SCT_snn_res.0.4 &lt;fct&gt; | seurat_clusters &lt;fct&gt; | ID &lt;chr&gt; | Tissue &lt;chr&gt; | ⋯ ⋯ | Condition &lt;chr&gt; | Weight &lt;dbl&gt; | Age &lt;chr&gt; | AgeCond &lt;chr&gt; | Dissection &lt;chr&gt; | S.Score &lt;dbl&gt; | G2M.Score &lt;dbl&gt; | Phase &lt;fct&gt; | Celltype &lt;fct&gt; | Celltype.LowRes &lt;fct&gt; |\n",
       "|---|---|---|---|---|---|---|---|---|---|---|---|---|---|---|---|---|---|---|---|---|---|\n",
       "| AAACCCAAGCCTTTCC_1 | O2_SVZ_R2_D1_Control_33.6 |  6084 | 2418 | 5.046022 | 6152 | 2418 | 1  | 1  | O2 | SVZ | ⋯ | Control | 33.6 | O | O_Control | MB | -0.04462565 | -0.09184528 | G1 | Astrocyte     | Astrocyte_qNSC |\n",
       "| AAACCCAAGCGCCGTT_1 | O2_SVZ_R2_D1_Control_33.6 |  9814 | 3131 | 5.726513 | 7086 | 3088 | 6  | 6  | O2 | SVZ | ⋯ | Control | 33.6 | O | O_Control | MB | -0.01115904 | -0.11240861 | G1 | Oligodendro_2 | Oligodendro    |\n",
       "| AAACCCACATGCACTA_1 | O2_SVZ_R2_D1_Control_33.6 | 11254 | 2829 | 6.140039 | 6983 | 2586 | 0  | 0  | O2 | SVZ | ⋯ | Control | 33.6 | O | O_Control | MB | -0.05598174 | -0.10543268 | G1 | Microglia_1   | Microglia      |\n",
       "| AAACCCAGTACCGTCG_1 | O2_SVZ_R2_D1_Control_33.6 | 11185 | 3357 | 6.785874 | 7120 | 3146 | 4  | 4  | O2 | SVZ | ⋯ | Control | 33.6 | O | O_Control | MB | -0.11305243 | -0.08205005 | G1 | Oligodendro_1 | Oligodendro    |\n",
       "| AAACCCAGTCACCGCA_1 | O2_SVZ_R2_D1_Control_33.6 |  5932 | 2677 | 3.371544 | 6019 | 2677 | 10 | 10 | O2 | SVZ | ⋯ | Control | 33.6 | O | O_Control | MB | -0.09697635 | -0.16882901 | G1 | Pericyte      | Mural          |\n",
       "| AAACCCAGTCCTACAA_1 | O2_SVZ_R2_D1_Control_33.6 |  9204 | 3124 | 4.019991 | 7183 | 3100 | 1  | 1  | O2 | SVZ | ⋯ | Control | 33.6 | O | O_Control | MB | -0.06732660 | -0.08756857 | G1 | Astrocyte     | Astrocyte_qNSC |\n",
       "\n"
      ],
      "text/plain": [
       "                   orig.ident                nCount_RNA nFeature_RNA percent.mt\n",
       "AAACCCAAGCCTTTCC_1 O2_SVZ_R2_D1_Control_33.6  6084      2418         5.046022  \n",
       "AAACCCAAGCGCCGTT_1 O2_SVZ_R2_D1_Control_33.6  9814      3131         5.726513  \n",
       "AAACCCACATGCACTA_1 O2_SVZ_R2_D1_Control_33.6 11254      2829         6.140039  \n",
       "AAACCCAGTACCGTCG_1 O2_SVZ_R2_D1_Control_33.6 11185      3357         6.785874  \n",
       "AAACCCAGTCACCGCA_1 O2_SVZ_R2_D1_Control_33.6  5932      2677         3.371544  \n",
       "AAACCCAGTCCTACAA_1 O2_SVZ_R2_D1_Control_33.6  9204      3124         4.019991  \n",
       "                   nCount_SCT nFeature_SCT SCT_snn_res.0.4 seurat_clusters ID\n",
       "AAACCCAAGCCTTTCC_1 6152       2418         1               1               O2\n",
       "AAACCCAAGCGCCGTT_1 7086       3088         6               6               O2\n",
       "AAACCCACATGCACTA_1 6983       2586         0               0               O2\n",
       "AAACCCAGTACCGTCG_1 7120       3146         4               4               O2\n",
       "AAACCCAGTCACCGCA_1 6019       2677         10              10              O2\n",
       "AAACCCAGTCCTACAA_1 7183       3100         1               1               O2\n",
       "                   Tissue ⋯ Condition Weight Age AgeCond   Dissection\n",
       "AAACCCAAGCCTTTCC_1 SVZ    ⋯ Control   33.6   O   O_Control MB        \n",
       "AAACCCAAGCGCCGTT_1 SVZ    ⋯ Control   33.6   O   O_Control MB        \n",
       "AAACCCACATGCACTA_1 SVZ    ⋯ Control   33.6   O   O_Control MB        \n",
       "AAACCCAGTACCGTCG_1 SVZ    ⋯ Control   33.6   O   O_Control MB        \n",
       "AAACCCAGTCACCGCA_1 SVZ    ⋯ Control   33.6   O   O_Control MB        \n",
       "AAACCCAGTCCTACAA_1 SVZ    ⋯ Control   33.6   O   O_Control MB        \n",
       "                   S.Score     G2M.Score   Phase Celltype      Celltype.LowRes\n",
       "AAACCCAAGCCTTTCC_1 -0.04462565 -0.09184528 G1    Astrocyte     Astrocyte_qNSC \n",
       "AAACCCAAGCGCCGTT_1 -0.01115904 -0.11240861 G1    Oligodendro_2 Oligodendro    \n",
       "AAACCCACATGCACTA_1 -0.05598174 -0.10543268 G1    Microglia_1   Microglia      \n",
       "AAACCCAGTACCGTCG_1 -0.11305243 -0.08205005 G1    Oligodendro_1 Oligodendro    \n",
       "AAACCCAGTCACCGCA_1 -0.09697635 -0.16882901 G1    Pericyte      Mural          \n",
       "AAACCCAGTCCTACAA_1 -0.06732660 -0.08756857 G1    Astrocyte     Astrocyte_qNSC "
      ]
     },
     "metadata": {},
     "output_type": "display_data"
    }
   ],
   "source": [
    "# Split off Old Control data\n",
    "ocontroldata <- metadata %>% filter(AgeCond==\"O_Control\")\n",
    "head(ocontroldata)"
   ]
  },
  {
   "cell_type": "code",
   "execution_count": 6,
   "id": "b9182b39-4da7-481d-a4cb-31302035ecc1",
   "metadata": {},
   "outputs": [
    {
     "data": {
      "text/html": [
       "<table class=\"dataframe\">\n",
       "<caption>A data.frame: 6 × 22</caption>\n",
       "<thead>\n",
       "\t<tr><th></th><th scope=col>orig.ident</th><th scope=col>nCount_RNA</th><th scope=col>nFeature_RNA</th><th scope=col>percent.mt</th><th scope=col>nCount_SCT</th><th scope=col>nFeature_SCT</th><th scope=col>SCT_snn_res.0.4</th><th scope=col>seurat_clusters</th><th scope=col>ID</th><th scope=col>Tissue</th><th scope=col>⋯</th><th scope=col>Condition</th><th scope=col>Weight</th><th scope=col>Age</th><th scope=col>AgeCond</th><th scope=col>Dissection</th><th scope=col>S.Score</th><th scope=col>G2M.Score</th><th scope=col>Phase</th><th scope=col>Celltype</th><th scope=col>Celltype.LowRes</th></tr>\n",
       "\t<tr><th></th><th scope=col>&lt;chr&gt;</th><th scope=col>&lt;dbl&gt;</th><th scope=col>&lt;int&gt;</th><th scope=col>&lt;dbl&gt;</th><th scope=col>&lt;dbl&gt;</th><th scope=col>&lt;int&gt;</th><th scope=col>&lt;fct&gt;</th><th scope=col>&lt;fct&gt;</th><th scope=col>&lt;chr&gt;</th><th scope=col>&lt;chr&gt;</th><th scope=col>⋯</th><th scope=col>&lt;chr&gt;</th><th scope=col>&lt;dbl&gt;</th><th scope=col>&lt;chr&gt;</th><th scope=col>&lt;chr&gt;</th><th scope=col>&lt;chr&gt;</th><th scope=col>&lt;dbl&gt;</th><th scope=col>&lt;dbl&gt;</th><th scope=col>&lt;fct&gt;</th><th scope=col>&lt;fct&gt;</th><th scope=col>&lt;fct&gt;</th></tr>\n",
       "</thead>\n",
       "<tbody>\n",
       "\t<tr><th scope=row>AAACCCAAGTAATCCC_2</th><td>O3_SVZ_R2_D1_Exercise_39.3</td><td>7667</td><td>2780</td><td>3.678101</td><td>6903</td><td>2780</td><td>4 </td><td>4 </td><td>O3</td><td>SVZ</td><td>⋯</td><td>Exercise</td><td>39.3</td><td>O</td><td>O_Exercise</td><td>LX</td><td>-0.01244319</td><td>-0.08772334</td><td>G1</td><td>Oligodendro_1</td><td>Oligodendro</td></tr>\n",
       "\t<tr><th scope=row>AAACCCACAGTTAGGG_2</th><td>O3_SVZ_R2_D1_Exercise_39.3</td><td>4144</td><td>1216</td><td>2.364865</td><td>5891</td><td>1216</td><td>11</td><td>11</td><td>O3</td><td>SVZ</td><td>⋯</td><td>Exercise</td><td>39.3</td><td>O</td><td>O_Exercise</td><td>LX</td><td>-0.03928175</td><td>-0.11331559</td><td>G1</td><td>Microglia_2  </td><td>Microglia  </td></tr>\n",
       "\t<tr><th scope=row>AAACCCATCGGACGTC_2</th><td>O3_SVZ_R2_D1_Exercise_39.3</td><td>8899</td><td>3906</td><td>4.056636</td><td>7330</td><td>3894</td><td>12</td><td>12</td><td>O3</td><td>SVZ</td><td>⋯</td><td>Exercise</td><td>39.3</td><td>O</td><td>O_Exercise</td><td>LX</td><td>-0.10379217</td><td>-0.12068935</td><td>G1</td><td>OPC_1        </td><td>OPC        </td></tr>\n",
       "\t<tr><th scope=row>AAACGAACACAAGCCC_2</th><td>O3_SVZ_R2_D1_Exercise_39.3</td><td>2071</td><td>1141</td><td>9.512313</td><td>5185</td><td>1454</td><td>5 </td><td>5 </td><td>O3</td><td>SVZ</td><td>⋯</td><td>Exercise</td><td>39.3</td><td>O</td><td>O_Exercise</td><td>LX</td><td> 0.02454746</td><td>-0.06933995</td><td>S </td><td>Neuroblast_2 </td><td>Neuroblast </td></tr>\n",
       "\t<tr><th scope=row>AAACGAACACGGGTAA_2</th><td>O3_SVZ_R2_D1_Exercise_39.3</td><td>9916</td><td>2765</td><td>5.859217</td><td>6967</td><td>2678</td><td>0 </td><td>0 </td><td>O3</td><td>SVZ</td><td>⋯</td><td>Exercise</td><td>39.3</td><td>O</td><td>O_Exercise</td><td>LX</td><td>-0.05692550</td><td>-0.14237267</td><td>G1</td><td>Microglia_1  </td><td>Microglia  </td></tr>\n",
       "\t<tr><th scope=row>AAACGAAGTGCCTGAC_2</th><td>O3_SVZ_R2_D1_Exercise_39.3</td><td>9036</td><td>3053</td><td>3.253652</td><td>7087</td><td>3043</td><td>3 </td><td>3 </td><td>O3</td><td>SVZ</td><td>⋯</td><td>Exercise</td><td>39.3</td><td>O</td><td>O_Exercise</td><td>LX</td><td> 0.06551872</td><td>-0.09270917</td><td>S </td><td>Neuroblast_1 </td><td>Neuroblast </td></tr>\n",
       "</tbody>\n",
       "</table>\n"
      ],
      "text/latex": [
       "A data.frame: 6 × 22\n",
       "\\begin{tabular}{r|lllllllllllllllllllll}\n",
       "  & orig.ident & nCount\\_RNA & nFeature\\_RNA & percent.mt & nCount\\_SCT & nFeature\\_SCT & SCT\\_snn\\_res.0.4 & seurat\\_clusters & ID & Tissue & ⋯ & Condition & Weight & Age & AgeCond & Dissection & S.Score & G2M.Score & Phase & Celltype & Celltype.LowRes\\\\\n",
       "  & <chr> & <dbl> & <int> & <dbl> & <dbl> & <int> & <fct> & <fct> & <chr> & <chr> & ⋯ & <chr> & <dbl> & <chr> & <chr> & <chr> & <dbl> & <dbl> & <fct> & <fct> & <fct>\\\\\n",
       "\\hline\n",
       "\tAAACCCAAGTAATCCC\\_2 & O3\\_SVZ\\_R2\\_D1\\_Exercise\\_39.3 & 7667 & 2780 & 3.678101 & 6903 & 2780 & 4  & 4  & O3 & SVZ & ⋯ & Exercise & 39.3 & O & O\\_Exercise & LX & -0.01244319 & -0.08772334 & G1 & Oligodendro\\_1 & Oligodendro\\\\\n",
       "\tAAACCCACAGTTAGGG\\_2 & O3\\_SVZ\\_R2\\_D1\\_Exercise\\_39.3 & 4144 & 1216 & 2.364865 & 5891 & 1216 & 11 & 11 & O3 & SVZ & ⋯ & Exercise & 39.3 & O & O\\_Exercise & LX & -0.03928175 & -0.11331559 & G1 & Microglia\\_2   & Microglia  \\\\\n",
       "\tAAACCCATCGGACGTC\\_2 & O3\\_SVZ\\_R2\\_D1\\_Exercise\\_39.3 & 8899 & 3906 & 4.056636 & 7330 & 3894 & 12 & 12 & O3 & SVZ & ⋯ & Exercise & 39.3 & O & O\\_Exercise & LX & -0.10379217 & -0.12068935 & G1 & OPC\\_1         & OPC        \\\\\n",
       "\tAAACGAACACAAGCCC\\_2 & O3\\_SVZ\\_R2\\_D1\\_Exercise\\_39.3 & 2071 & 1141 & 9.512313 & 5185 & 1454 & 5  & 5  & O3 & SVZ & ⋯ & Exercise & 39.3 & O & O\\_Exercise & LX &  0.02454746 & -0.06933995 & S  & Neuroblast\\_2  & Neuroblast \\\\\n",
       "\tAAACGAACACGGGTAA\\_2 & O3\\_SVZ\\_R2\\_D1\\_Exercise\\_39.3 & 9916 & 2765 & 5.859217 & 6967 & 2678 & 0  & 0  & O3 & SVZ & ⋯ & Exercise & 39.3 & O & O\\_Exercise & LX & -0.05692550 & -0.14237267 & G1 & Microglia\\_1   & Microglia  \\\\\n",
       "\tAAACGAAGTGCCTGAC\\_2 & O3\\_SVZ\\_R2\\_D1\\_Exercise\\_39.3 & 9036 & 3053 & 3.253652 & 7087 & 3043 & 3  & 3  & O3 & SVZ & ⋯ & Exercise & 39.3 & O & O\\_Exercise & LX &  0.06551872 & -0.09270917 & S  & Neuroblast\\_1  & Neuroblast \\\\\n",
       "\\end{tabular}\n"
      ],
      "text/markdown": [
       "\n",
       "A data.frame: 6 × 22\n",
       "\n",
       "| <!--/--> | orig.ident &lt;chr&gt; | nCount_RNA &lt;dbl&gt; | nFeature_RNA &lt;int&gt; | percent.mt &lt;dbl&gt; | nCount_SCT &lt;dbl&gt; | nFeature_SCT &lt;int&gt; | SCT_snn_res.0.4 &lt;fct&gt; | seurat_clusters &lt;fct&gt; | ID &lt;chr&gt; | Tissue &lt;chr&gt; | ⋯ ⋯ | Condition &lt;chr&gt; | Weight &lt;dbl&gt; | Age &lt;chr&gt; | AgeCond &lt;chr&gt; | Dissection &lt;chr&gt; | S.Score &lt;dbl&gt; | G2M.Score &lt;dbl&gt; | Phase &lt;fct&gt; | Celltype &lt;fct&gt; | Celltype.LowRes &lt;fct&gt; |\n",
       "|---|---|---|---|---|---|---|---|---|---|---|---|---|---|---|---|---|---|---|---|---|---|\n",
       "| AAACCCAAGTAATCCC_2 | O3_SVZ_R2_D1_Exercise_39.3 | 7667 | 2780 | 3.678101 | 6903 | 2780 | 4  | 4  | O3 | SVZ | ⋯ | Exercise | 39.3 | O | O_Exercise | LX | -0.01244319 | -0.08772334 | G1 | Oligodendro_1 | Oligodendro |\n",
       "| AAACCCACAGTTAGGG_2 | O3_SVZ_R2_D1_Exercise_39.3 | 4144 | 1216 | 2.364865 | 5891 | 1216 | 11 | 11 | O3 | SVZ | ⋯ | Exercise | 39.3 | O | O_Exercise | LX | -0.03928175 | -0.11331559 | G1 | Microglia_2   | Microglia   |\n",
       "| AAACCCATCGGACGTC_2 | O3_SVZ_R2_D1_Exercise_39.3 | 8899 | 3906 | 4.056636 | 7330 | 3894 | 12 | 12 | O3 | SVZ | ⋯ | Exercise | 39.3 | O | O_Exercise | LX | -0.10379217 | -0.12068935 | G1 | OPC_1         | OPC         |\n",
       "| AAACGAACACAAGCCC_2 | O3_SVZ_R2_D1_Exercise_39.3 | 2071 | 1141 | 9.512313 | 5185 | 1454 | 5  | 5  | O3 | SVZ | ⋯ | Exercise | 39.3 | O | O_Exercise | LX |  0.02454746 | -0.06933995 | S  | Neuroblast_2  | Neuroblast  |\n",
       "| AAACGAACACGGGTAA_2 | O3_SVZ_R2_D1_Exercise_39.3 | 9916 | 2765 | 5.859217 | 6967 | 2678 | 0  | 0  | O3 | SVZ | ⋯ | Exercise | 39.3 | O | O_Exercise | LX | -0.05692550 | -0.14237267 | G1 | Microglia_1   | Microglia   |\n",
       "| AAACGAAGTGCCTGAC_2 | O3_SVZ_R2_D1_Exercise_39.3 | 9036 | 3053 | 3.253652 | 7087 | 3043 | 3  | 3  | O3 | SVZ | ⋯ | Exercise | 39.3 | O | O_Exercise | LX |  0.06551872 | -0.09270917 | S  | Neuroblast_1  | Neuroblast  |\n",
       "\n"
      ],
      "text/plain": [
       "                   orig.ident                 nCount_RNA nFeature_RNA\n",
       "AAACCCAAGTAATCCC_2 O3_SVZ_R2_D1_Exercise_39.3 7667       2780        \n",
       "AAACCCACAGTTAGGG_2 O3_SVZ_R2_D1_Exercise_39.3 4144       1216        \n",
       "AAACCCATCGGACGTC_2 O3_SVZ_R2_D1_Exercise_39.3 8899       3906        \n",
       "AAACGAACACAAGCCC_2 O3_SVZ_R2_D1_Exercise_39.3 2071       1141        \n",
       "AAACGAACACGGGTAA_2 O3_SVZ_R2_D1_Exercise_39.3 9916       2765        \n",
       "AAACGAAGTGCCTGAC_2 O3_SVZ_R2_D1_Exercise_39.3 9036       3053        \n",
       "                   percent.mt nCount_SCT nFeature_SCT SCT_snn_res.0.4\n",
       "AAACCCAAGTAATCCC_2 3.678101   6903       2780         4              \n",
       "AAACCCACAGTTAGGG_2 2.364865   5891       1216         11             \n",
       "AAACCCATCGGACGTC_2 4.056636   7330       3894         12             \n",
       "AAACGAACACAAGCCC_2 9.512313   5185       1454         5              \n",
       "AAACGAACACGGGTAA_2 5.859217   6967       2678         0              \n",
       "AAACGAAGTGCCTGAC_2 3.253652   7087       3043         3              \n",
       "                   seurat_clusters ID Tissue ⋯ Condition Weight Age AgeCond   \n",
       "AAACCCAAGTAATCCC_2 4               O3 SVZ    ⋯ Exercise  39.3   O   O_Exercise\n",
       "AAACCCACAGTTAGGG_2 11              O3 SVZ    ⋯ Exercise  39.3   O   O_Exercise\n",
       "AAACCCATCGGACGTC_2 12              O3 SVZ    ⋯ Exercise  39.3   O   O_Exercise\n",
       "AAACGAACACAAGCCC_2 5               O3 SVZ    ⋯ Exercise  39.3   O   O_Exercise\n",
       "AAACGAACACGGGTAA_2 0               O3 SVZ    ⋯ Exercise  39.3   O   O_Exercise\n",
       "AAACGAAGTGCCTGAC_2 3               O3 SVZ    ⋯ Exercise  39.3   O   O_Exercise\n",
       "                   Dissection S.Score     G2M.Score   Phase Celltype     \n",
       "AAACCCAAGTAATCCC_2 LX         -0.01244319 -0.08772334 G1    Oligodendro_1\n",
       "AAACCCACAGTTAGGG_2 LX         -0.03928175 -0.11331559 G1    Microglia_2  \n",
       "AAACCCATCGGACGTC_2 LX         -0.10379217 -0.12068935 G1    OPC_1        \n",
       "AAACGAACACAAGCCC_2 LX          0.02454746 -0.06933995 S     Neuroblast_2 \n",
       "AAACGAACACGGGTAA_2 LX         -0.05692550 -0.14237267 G1    Microglia_1  \n",
       "AAACGAAGTGCCTGAC_2 LX          0.06551872 -0.09270917 S     Neuroblast_1 \n",
       "                   Celltype.LowRes\n",
       "AAACCCAAGTAATCCC_2 Oligodendro    \n",
       "AAACCCACAGTTAGGG_2 Microglia      \n",
       "AAACCCATCGGACGTC_2 OPC            \n",
       "AAACGAACACAAGCCC_2 Neuroblast     \n",
       "AAACGAACACGGGTAA_2 Microglia      \n",
       "AAACGAAGTGCCTGAC_2 Neuroblast     "
      ]
     },
     "metadata": {},
     "output_type": "display_data"
    }
   ],
   "source": [
    "# Split off Old Exercise data\n",
    "oexercisedata <- metadata %>% filter(AgeCond==\"O_Exercise\")\n",
    "head(oexercisedata)"
   ]
  },
  {
   "cell_type": "code",
   "execution_count": 7,
   "id": "d65067df-780a-4647-916a-9f023be6b6c4",
   "metadata": {},
   "outputs": [
    {
     "data": {
      "text/html": [
       "<table class=\"dataframe\">\n",
       "<caption>A data.frame: 6 × 22</caption>\n",
       "<thead>\n",
       "\t<tr><th></th><th scope=col>orig.ident</th><th scope=col>nCount_RNA</th><th scope=col>nFeature_RNA</th><th scope=col>percent.mt</th><th scope=col>nCount_SCT</th><th scope=col>nFeature_SCT</th><th scope=col>SCT_snn_res.0.4</th><th scope=col>seurat_clusters</th><th scope=col>ID</th><th scope=col>Tissue</th><th scope=col>⋯</th><th scope=col>Condition</th><th scope=col>Weight</th><th scope=col>Age</th><th scope=col>AgeCond</th><th scope=col>Dissection</th><th scope=col>S.Score</th><th scope=col>G2M.Score</th><th scope=col>Phase</th><th scope=col>Celltype</th><th scope=col>Celltype.LowRes</th></tr>\n",
       "\t<tr><th></th><th scope=col>&lt;chr&gt;</th><th scope=col>&lt;dbl&gt;</th><th scope=col>&lt;int&gt;</th><th scope=col>&lt;dbl&gt;</th><th scope=col>&lt;dbl&gt;</th><th scope=col>&lt;int&gt;</th><th scope=col>&lt;fct&gt;</th><th scope=col>&lt;fct&gt;</th><th scope=col>&lt;chr&gt;</th><th scope=col>&lt;chr&gt;</th><th scope=col>⋯</th><th scope=col>&lt;chr&gt;</th><th scope=col>&lt;dbl&gt;</th><th scope=col>&lt;chr&gt;</th><th scope=col>&lt;chr&gt;</th><th scope=col>&lt;chr&gt;</th><th scope=col>&lt;dbl&gt;</th><th scope=col>&lt;dbl&gt;</th><th scope=col>&lt;fct&gt;</th><th scope=col>&lt;fct&gt;</th><th scope=col>&lt;fct&gt;</th></tr>\n",
       "</thead>\n",
       "<tbody>\n",
       "\t<tr><th scope=row>AAACCCAAGATGTTCC_8</th><td>Y1_SVZ_R2_D1_Control_NA</td><td> 6980</td><td>2601</td><td>6.461318</td><td>6688</td><td>2601</td><td>6 </td><td>6 </td><td>Y1</td><td>SVZ</td><td>⋯</td><td>Control</td><td>NA</td><td>Y</td><td>Y_Control</td><td>LX</td><td>-0.03108034</td><td>-0.05122604</td><td>G1</td><td>Oligodendro_2</td><td>Oligodendro</td></tr>\n",
       "\t<tr><th scope=row>AAACGAAGTGAGTGAC_8</th><td>Y1_SVZ_R2_D1_Control_NA</td><td> 9338</td><td>3132</td><td>5.418719</td><td>7092</td><td>3114</td><td>7 </td><td>7 </td><td>Y1</td><td>SVZ</td><td>⋯</td><td>Control</td><td>NA</td><td>Y</td><td>Y_Control</td><td>LX</td><td>-0.12070416</td><td>-0.06269443</td><td>G1</td><td>Oligodendro_3</td><td>Oligodendro</td></tr>\n",
       "\t<tr><th scope=row>AAACGAATCGGTGTAT_8</th><td>Y1_SVZ_R2_D1_Control_NA</td><td> 8562</td><td>3818</td><td>2.861481</td><td>7285</td><td>3818</td><td>12</td><td>12</td><td>Y1</td><td>SVZ</td><td>⋯</td><td>Control</td><td>NA</td><td>Y</td><td>Y_Control</td><td>LX</td><td>-0.15204941</td><td>-0.17137536</td><td>G1</td><td>OPC_1        </td><td>OPC        </td></tr>\n",
       "\t<tr><th scope=row>AAACGCTCAAGCAGGT_8</th><td>Y1_SVZ_R2_D1_Control_NA</td><td>10187</td><td>2871</td><td>2.139982</td><td>7005</td><td>2763</td><td>0 </td><td>0 </td><td>Y1</td><td>SVZ</td><td>⋯</td><td>Control</td><td>NA</td><td>Y</td><td>Y_Control</td><td>LX</td><td>-0.04820906</td><td>-0.14978192</td><td>G1</td><td>Microglia_1  </td><td>Microglia  </td></tr>\n",
       "\t<tr><th scope=row>AAACGCTGTGAGCAGT_8</th><td>Y1_SVZ_R2_D1_Control_NA</td><td>10832</td><td>3362</td><td>4.080502</td><td>7127</td><td>3197</td><td>7 </td><td>7 </td><td>Y1</td><td>SVZ</td><td>⋯</td><td>Control</td><td>NA</td><td>Y</td><td>Y_Control</td><td>LX</td><td>-0.10569370</td><td>-0.06074451</td><td>G1</td><td>Oligodendro_3</td><td>Oligodendro</td></tr>\n",
       "\t<tr><th scope=row>AAACGCTTCAAAGGTA_8</th><td>Y1_SVZ_R2_D1_Control_NA</td><td> 8233</td><td>2963</td><td>1.506134</td><td>7043</td><td>2963</td><td>0 </td><td>0 </td><td>Y1</td><td>SVZ</td><td>⋯</td><td>Control</td><td>NA</td><td>Y</td><td>Y_Control</td><td>LX</td><td>-0.06411290</td><td>-0.09856547</td><td>G1</td><td>Microglia_1  </td><td>Microglia  </td></tr>\n",
       "</tbody>\n",
       "</table>\n"
      ],
      "text/latex": [
       "A data.frame: 6 × 22\n",
       "\\begin{tabular}{r|lllllllllllllllllllll}\n",
       "  & orig.ident & nCount\\_RNA & nFeature\\_RNA & percent.mt & nCount\\_SCT & nFeature\\_SCT & SCT\\_snn\\_res.0.4 & seurat\\_clusters & ID & Tissue & ⋯ & Condition & Weight & Age & AgeCond & Dissection & S.Score & G2M.Score & Phase & Celltype & Celltype.LowRes\\\\\n",
       "  & <chr> & <dbl> & <int> & <dbl> & <dbl> & <int> & <fct> & <fct> & <chr> & <chr> & ⋯ & <chr> & <dbl> & <chr> & <chr> & <chr> & <dbl> & <dbl> & <fct> & <fct> & <fct>\\\\\n",
       "\\hline\n",
       "\tAAACCCAAGATGTTCC\\_8 & Y1\\_SVZ\\_R2\\_D1\\_Control\\_NA &  6980 & 2601 & 6.461318 & 6688 & 2601 & 6  & 6  & Y1 & SVZ & ⋯ & Control & NA & Y & Y\\_Control & LX & -0.03108034 & -0.05122604 & G1 & Oligodendro\\_2 & Oligodendro\\\\\n",
       "\tAAACGAAGTGAGTGAC\\_8 & Y1\\_SVZ\\_R2\\_D1\\_Control\\_NA &  9338 & 3132 & 5.418719 & 7092 & 3114 & 7  & 7  & Y1 & SVZ & ⋯ & Control & NA & Y & Y\\_Control & LX & -0.12070416 & -0.06269443 & G1 & Oligodendro\\_3 & Oligodendro\\\\\n",
       "\tAAACGAATCGGTGTAT\\_8 & Y1\\_SVZ\\_R2\\_D1\\_Control\\_NA &  8562 & 3818 & 2.861481 & 7285 & 3818 & 12 & 12 & Y1 & SVZ & ⋯ & Control & NA & Y & Y\\_Control & LX & -0.15204941 & -0.17137536 & G1 & OPC\\_1         & OPC        \\\\\n",
       "\tAAACGCTCAAGCAGGT\\_8 & Y1\\_SVZ\\_R2\\_D1\\_Control\\_NA & 10187 & 2871 & 2.139982 & 7005 & 2763 & 0  & 0  & Y1 & SVZ & ⋯ & Control & NA & Y & Y\\_Control & LX & -0.04820906 & -0.14978192 & G1 & Microglia\\_1   & Microglia  \\\\\n",
       "\tAAACGCTGTGAGCAGT\\_8 & Y1\\_SVZ\\_R2\\_D1\\_Control\\_NA & 10832 & 3362 & 4.080502 & 7127 & 3197 & 7  & 7  & Y1 & SVZ & ⋯ & Control & NA & Y & Y\\_Control & LX & -0.10569370 & -0.06074451 & G1 & Oligodendro\\_3 & Oligodendro\\\\\n",
       "\tAAACGCTTCAAAGGTA\\_8 & Y1\\_SVZ\\_R2\\_D1\\_Control\\_NA &  8233 & 2963 & 1.506134 & 7043 & 2963 & 0  & 0  & Y1 & SVZ & ⋯ & Control & NA & Y & Y\\_Control & LX & -0.06411290 & -0.09856547 & G1 & Microglia\\_1   & Microglia  \\\\\n",
       "\\end{tabular}\n"
      ],
      "text/markdown": [
       "\n",
       "A data.frame: 6 × 22\n",
       "\n",
       "| <!--/--> | orig.ident &lt;chr&gt; | nCount_RNA &lt;dbl&gt; | nFeature_RNA &lt;int&gt; | percent.mt &lt;dbl&gt; | nCount_SCT &lt;dbl&gt; | nFeature_SCT &lt;int&gt; | SCT_snn_res.0.4 &lt;fct&gt; | seurat_clusters &lt;fct&gt; | ID &lt;chr&gt; | Tissue &lt;chr&gt; | ⋯ ⋯ | Condition &lt;chr&gt; | Weight &lt;dbl&gt; | Age &lt;chr&gt; | AgeCond &lt;chr&gt; | Dissection &lt;chr&gt; | S.Score &lt;dbl&gt; | G2M.Score &lt;dbl&gt; | Phase &lt;fct&gt; | Celltype &lt;fct&gt; | Celltype.LowRes &lt;fct&gt; |\n",
       "|---|---|---|---|---|---|---|---|---|---|---|---|---|---|---|---|---|---|---|---|---|---|\n",
       "| AAACCCAAGATGTTCC_8 | Y1_SVZ_R2_D1_Control_NA |  6980 | 2601 | 6.461318 | 6688 | 2601 | 6  | 6  | Y1 | SVZ | ⋯ | Control | NA | Y | Y_Control | LX | -0.03108034 | -0.05122604 | G1 | Oligodendro_2 | Oligodendro |\n",
       "| AAACGAAGTGAGTGAC_8 | Y1_SVZ_R2_D1_Control_NA |  9338 | 3132 | 5.418719 | 7092 | 3114 | 7  | 7  | Y1 | SVZ | ⋯ | Control | NA | Y | Y_Control | LX | -0.12070416 | -0.06269443 | G1 | Oligodendro_3 | Oligodendro |\n",
       "| AAACGAATCGGTGTAT_8 | Y1_SVZ_R2_D1_Control_NA |  8562 | 3818 | 2.861481 | 7285 | 3818 | 12 | 12 | Y1 | SVZ | ⋯ | Control | NA | Y | Y_Control | LX | -0.15204941 | -0.17137536 | G1 | OPC_1         | OPC         |\n",
       "| AAACGCTCAAGCAGGT_8 | Y1_SVZ_R2_D1_Control_NA | 10187 | 2871 | 2.139982 | 7005 | 2763 | 0  | 0  | Y1 | SVZ | ⋯ | Control | NA | Y | Y_Control | LX | -0.04820906 | -0.14978192 | G1 | Microglia_1   | Microglia   |\n",
       "| AAACGCTGTGAGCAGT_8 | Y1_SVZ_R2_D1_Control_NA | 10832 | 3362 | 4.080502 | 7127 | 3197 | 7  | 7  | Y1 | SVZ | ⋯ | Control | NA | Y | Y_Control | LX | -0.10569370 | -0.06074451 | G1 | Oligodendro_3 | Oligodendro |\n",
       "| AAACGCTTCAAAGGTA_8 | Y1_SVZ_R2_D1_Control_NA |  8233 | 2963 | 1.506134 | 7043 | 2963 | 0  | 0  | Y1 | SVZ | ⋯ | Control | NA | Y | Y_Control | LX | -0.06411290 | -0.09856547 | G1 | Microglia_1   | Microglia   |\n",
       "\n"
      ],
      "text/plain": [
       "                   orig.ident              nCount_RNA nFeature_RNA percent.mt\n",
       "AAACCCAAGATGTTCC_8 Y1_SVZ_R2_D1_Control_NA  6980      2601         6.461318  \n",
       "AAACGAAGTGAGTGAC_8 Y1_SVZ_R2_D1_Control_NA  9338      3132         5.418719  \n",
       "AAACGAATCGGTGTAT_8 Y1_SVZ_R2_D1_Control_NA  8562      3818         2.861481  \n",
       "AAACGCTCAAGCAGGT_8 Y1_SVZ_R2_D1_Control_NA 10187      2871         2.139982  \n",
       "AAACGCTGTGAGCAGT_8 Y1_SVZ_R2_D1_Control_NA 10832      3362         4.080502  \n",
       "AAACGCTTCAAAGGTA_8 Y1_SVZ_R2_D1_Control_NA  8233      2963         1.506134  \n",
       "                   nCount_SCT nFeature_SCT SCT_snn_res.0.4 seurat_clusters ID\n",
       "AAACCCAAGATGTTCC_8 6688       2601         6               6               Y1\n",
       "AAACGAAGTGAGTGAC_8 7092       3114         7               7               Y1\n",
       "AAACGAATCGGTGTAT_8 7285       3818         12              12              Y1\n",
       "AAACGCTCAAGCAGGT_8 7005       2763         0               0               Y1\n",
       "AAACGCTGTGAGCAGT_8 7127       3197         7               7               Y1\n",
       "AAACGCTTCAAAGGTA_8 7043       2963         0               0               Y1\n",
       "                   Tissue ⋯ Condition Weight Age AgeCond   Dissection\n",
       "AAACCCAAGATGTTCC_8 SVZ    ⋯ Control   NA     Y   Y_Control LX        \n",
       "AAACGAAGTGAGTGAC_8 SVZ    ⋯ Control   NA     Y   Y_Control LX        \n",
       "AAACGAATCGGTGTAT_8 SVZ    ⋯ Control   NA     Y   Y_Control LX        \n",
       "AAACGCTCAAGCAGGT_8 SVZ    ⋯ Control   NA     Y   Y_Control LX        \n",
       "AAACGCTGTGAGCAGT_8 SVZ    ⋯ Control   NA     Y   Y_Control LX        \n",
       "AAACGCTTCAAAGGTA_8 SVZ    ⋯ Control   NA     Y   Y_Control LX        \n",
       "                   S.Score     G2M.Score   Phase Celltype      Celltype.LowRes\n",
       "AAACCCAAGATGTTCC_8 -0.03108034 -0.05122604 G1    Oligodendro_2 Oligodendro    \n",
       "AAACGAAGTGAGTGAC_8 -0.12070416 -0.06269443 G1    Oligodendro_3 Oligodendro    \n",
       "AAACGAATCGGTGTAT_8 -0.15204941 -0.17137536 G1    OPC_1         OPC            \n",
       "AAACGCTCAAGCAGGT_8 -0.04820906 -0.14978192 G1    Microglia_1   Microglia      \n",
       "AAACGCTGTGAGCAGT_8 -0.10569370 -0.06074451 G1    Oligodendro_3 Oligodendro    \n",
       "AAACGCTTCAAAGGTA_8 -0.06411290 -0.09856547 G1    Microglia_1   Microglia      "
      ]
     },
     "metadata": {},
     "output_type": "display_data"
    }
   ],
   "source": [
    "# Split off Young Control data\n",
    "ycontroldata <- metadata %>% filter(AgeCond==\"Y_Control\")\n",
    "head(ycontroldata)"
   ]
  },
  {
   "cell_type": "code",
   "execution_count": 8,
   "id": "68dd24b2-59ac-4633-9874-1779c6fc775f",
   "metadata": {},
   "outputs": [
    {
     "data": {
      "text/html": [
       "<table class=\"dataframe\">\n",
       "<caption>A data.frame: 6 × 22</caption>\n",
       "<thead>\n",
       "\t<tr><th></th><th scope=col>orig.ident</th><th scope=col>nCount_RNA</th><th scope=col>nFeature_RNA</th><th scope=col>percent.mt</th><th scope=col>nCount_SCT</th><th scope=col>nFeature_SCT</th><th scope=col>SCT_snn_res.0.4</th><th scope=col>seurat_clusters</th><th scope=col>ID</th><th scope=col>Tissue</th><th scope=col>⋯</th><th scope=col>Condition</th><th scope=col>Weight</th><th scope=col>Age</th><th scope=col>AgeCond</th><th scope=col>Dissection</th><th scope=col>S.Score</th><th scope=col>G2M.Score</th><th scope=col>Phase</th><th scope=col>Celltype</th><th scope=col>Celltype.LowRes</th></tr>\n",
       "\t<tr><th></th><th scope=col>&lt;chr&gt;</th><th scope=col>&lt;dbl&gt;</th><th scope=col>&lt;int&gt;</th><th scope=col>&lt;dbl&gt;</th><th scope=col>&lt;dbl&gt;</th><th scope=col>&lt;int&gt;</th><th scope=col>&lt;fct&gt;</th><th scope=col>&lt;fct&gt;</th><th scope=col>&lt;chr&gt;</th><th scope=col>&lt;chr&gt;</th><th scope=col>⋯</th><th scope=col>&lt;chr&gt;</th><th scope=col>&lt;dbl&gt;</th><th scope=col>&lt;chr&gt;</th><th scope=col>&lt;chr&gt;</th><th scope=col>&lt;chr&gt;</th><th scope=col>&lt;dbl&gt;</th><th scope=col>&lt;dbl&gt;</th><th scope=col>&lt;fct&gt;</th><th scope=col>&lt;fct&gt;</th><th scope=col>&lt;fct&gt;</th></tr>\n",
       "</thead>\n",
       "<tbody>\n",
       "\t<tr><th scope=row>AAACCCACAAAGAGTT_10</th><td>Y3_SVZ_R2_D1_Exercise_28.5</td><td> 4097</td><td>1896</td><td>4.271418</td><td>5614</td><td>1898</td><td>5 </td><td>5 </td><td>Y3</td><td>SVZ</td><td>⋯</td><td>Exercise</td><td>28.5</td><td>Y</td><td>Y_Exercise</td><td>LX</td><td>-0.04153015</td><td>-0.04423017</td><td>G1</td><td>Neuroblast_2</td><td>Neuroblast    </td></tr>\n",
       "\t<tr><th scope=row>AAACCCATCGTAACAC_10</th><td>Y3_SVZ_R2_D1_Exercise_28.5</td><td> 4738</td><td>1737</td><td>3.102575</td><td>5753</td><td>1737</td><td>0 </td><td>0 </td><td>Y3</td><td>SVZ</td><td>⋯</td><td>Exercise</td><td>28.5</td><td>Y</td><td>Y_Exercise</td><td>LX</td><td>-0.04494784</td><td>-0.04581744</td><td>G1</td><td>Microglia_1 </td><td>Microglia     </td></tr>\n",
       "\t<tr><th scope=row>AAACGAAAGCATGGGT_10</th><td>Y3_SVZ_R2_D1_Exercise_28.5</td><td> 3362</td><td>1739</td><td>6.276026</td><td>5492</td><td>1759</td><td>2 </td><td>2 </td><td>Y3</td><td>SVZ</td><td>⋯</td><td>Exercise</td><td>28.5</td><td>Y</td><td>Y_Exercise</td><td>LX</td><td>-0.01337188</td><td>-0.09990717</td><td>G1</td><td>Endothelial </td><td>Endothelial   </td></tr>\n",
       "\t<tr><th scope=row>AAACGAAAGGGCGAGA_10</th><td>Y3_SVZ_R2_D1_Exercise_28.5</td><td> 3562</td><td>1254</td><td>5.951713</td><td>5702</td><td>1282</td><td>16</td><td>16</td><td>Y3</td><td>SVZ</td><td>⋯</td><td>Exercise</td><td>28.5</td><td>Y</td><td>Y_Exercise</td><td>LX</td><td>-0.04018425</td><td>-0.04866340</td><td>G1</td><td>Macrophage  </td><td>Macrophage    </td></tr>\n",
       "\t<tr><th scope=row>AAACGAACAGAGTCTT_10</th><td>Y3_SVZ_R2_D1_Exercise_28.5</td><td>40896</td><td>6251</td><td>4.328052</td><td>7698</td><td>2714</td><td>15</td><td>15</td><td>Y3</td><td>SVZ</td><td>⋯</td><td>Exercise</td><td>28.5</td><td>Y</td><td>Y_Exercise</td><td>LX</td><td>-0.12138571</td><td>-0.13272230</td><td>G1</td><td>OPC_2       </td><td>OPC           </td></tr>\n",
       "\t<tr><th scope=row>AAACGAAGTGTACATC_10</th><td>Y3_SVZ_R2_D1_Exercise_28.5</td><td> 3284</td><td>1637</td><td>6.851401</td><td>5387</td><td>1709</td><td>1 </td><td>1 </td><td>Y3</td><td>SVZ</td><td>⋯</td><td>Exercise</td><td>28.5</td><td>Y</td><td>Y_Exercise</td><td>LX</td><td>-0.01694074</td><td>-0.05768578</td><td>G1</td><td>Astrocyte   </td><td>Astrocyte_qNSC</td></tr>\n",
       "</tbody>\n",
       "</table>\n"
      ],
      "text/latex": [
       "A data.frame: 6 × 22\n",
       "\\begin{tabular}{r|lllllllllllllllllllll}\n",
       "  & orig.ident & nCount\\_RNA & nFeature\\_RNA & percent.mt & nCount\\_SCT & nFeature\\_SCT & SCT\\_snn\\_res.0.4 & seurat\\_clusters & ID & Tissue & ⋯ & Condition & Weight & Age & AgeCond & Dissection & S.Score & G2M.Score & Phase & Celltype & Celltype.LowRes\\\\\n",
       "  & <chr> & <dbl> & <int> & <dbl> & <dbl> & <int> & <fct> & <fct> & <chr> & <chr> & ⋯ & <chr> & <dbl> & <chr> & <chr> & <chr> & <dbl> & <dbl> & <fct> & <fct> & <fct>\\\\\n",
       "\\hline\n",
       "\tAAACCCACAAAGAGTT\\_10 & Y3\\_SVZ\\_R2\\_D1\\_Exercise\\_28.5 &  4097 & 1896 & 4.271418 & 5614 & 1898 & 5  & 5  & Y3 & SVZ & ⋯ & Exercise & 28.5 & Y & Y\\_Exercise & LX & -0.04153015 & -0.04423017 & G1 & Neuroblast\\_2 & Neuroblast    \\\\\n",
       "\tAAACCCATCGTAACAC\\_10 & Y3\\_SVZ\\_R2\\_D1\\_Exercise\\_28.5 &  4738 & 1737 & 3.102575 & 5753 & 1737 & 0  & 0  & Y3 & SVZ & ⋯ & Exercise & 28.5 & Y & Y\\_Exercise & LX & -0.04494784 & -0.04581744 & G1 & Microglia\\_1  & Microglia     \\\\\n",
       "\tAAACGAAAGCATGGGT\\_10 & Y3\\_SVZ\\_R2\\_D1\\_Exercise\\_28.5 &  3362 & 1739 & 6.276026 & 5492 & 1759 & 2  & 2  & Y3 & SVZ & ⋯ & Exercise & 28.5 & Y & Y\\_Exercise & LX & -0.01337188 & -0.09990717 & G1 & Endothelial  & Endothelial   \\\\\n",
       "\tAAACGAAAGGGCGAGA\\_10 & Y3\\_SVZ\\_R2\\_D1\\_Exercise\\_28.5 &  3562 & 1254 & 5.951713 & 5702 & 1282 & 16 & 16 & Y3 & SVZ & ⋯ & Exercise & 28.5 & Y & Y\\_Exercise & LX & -0.04018425 & -0.04866340 & G1 & Macrophage   & Macrophage    \\\\\n",
       "\tAAACGAACAGAGTCTT\\_10 & Y3\\_SVZ\\_R2\\_D1\\_Exercise\\_28.5 & 40896 & 6251 & 4.328052 & 7698 & 2714 & 15 & 15 & Y3 & SVZ & ⋯ & Exercise & 28.5 & Y & Y\\_Exercise & LX & -0.12138571 & -0.13272230 & G1 & OPC\\_2        & OPC           \\\\\n",
       "\tAAACGAAGTGTACATC\\_10 & Y3\\_SVZ\\_R2\\_D1\\_Exercise\\_28.5 &  3284 & 1637 & 6.851401 & 5387 & 1709 & 1  & 1  & Y3 & SVZ & ⋯ & Exercise & 28.5 & Y & Y\\_Exercise & LX & -0.01694074 & -0.05768578 & G1 & Astrocyte    & Astrocyte\\_qNSC\\\\\n",
       "\\end{tabular}\n"
      ],
      "text/markdown": [
       "\n",
       "A data.frame: 6 × 22\n",
       "\n",
       "| <!--/--> | orig.ident &lt;chr&gt; | nCount_RNA &lt;dbl&gt; | nFeature_RNA &lt;int&gt; | percent.mt &lt;dbl&gt; | nCount_SCT &lt;dbl&gt; | nFeature_SCT &lt;int&gt; | SCT_snn_res.0.4 &lt;fct&gt; | seurat_clusters &lt;fct&gt; | ID &lt;chr&gt; | Tissue &lt;chr&gt; | ⋯ ⋯ | Condition &lt;chr&gt; | Weight &lt;dbl&gt; | Age &lt;chr&gt; | AgeCond &lt;chr&gt; | Dissection &lt;chr&gt; | S.Score &lt;dbl&gt; | G2M.Score &lt;dbl&gt; | Phase &lt;fct&gt; | Celltype &lt;fct&gt; | Celltype.LowRes &lt;fct&gt; |\n",
       "|---|---|---|---|---|---|---|---|---|---|---|---|---|---|---|---|---|---|---|---|---|---|\n",
       "| AAACCCACAAAGAGTT_10 | Y3_SVZ_R2_D1_Exercise_28.5 |  4097 | 1896 | 4.271418 | 5614 | 1898 | 5  | 5  | Y3 | SVZ | ⋯ | Exercise | 28.5 | Y | Y_Exercise | LX | -0.04153015 | -0.04423017 | G1 | Neuroblast_2 | Neuroblast     |\n",
       "| AAACCCATCGTAACAC_10 | Y3_SVZ_R2_D1_Exercise_28.5 |  4738 | 1737 | 3.102575 | 5753 | 1737 | 0  | 0  | Y3 | SVZ | ⋯ | Exercise | 28.5 | Y | Y_Exercise | LX | -0.04494784 | -0.04581744 | G1 | Microglia_1  | Microglia      |\n",
       "| AAACGAAAGCATGGGT_10 | Y3_SVZ_R2_D1_Exercise_28.5 |  3362 | 1739 | 6.276026 | 5492 | 1759 | 2  | 2  | Y3 | SVZ | ⋯ | Exercise | 28.5 | Y | Y_Exercise | LX | -0.01337188 | -0.09990717 | G1 | Endothelial  | Endothelial    |\n",
       "| AAACGAAAGGGCGAGA_10 | Y3_SVZ_R2_D1_Exercise_28.5 |  3562 | 1254 | 5.951713 | 5702 | 1282 | 16 | 16 | Y3 | SVZ | ⋯ | Exercise | 28.5 | Y | Y_Exercise | LX | -0.04018425 | -0.04866340 | G1 | Macrophage   | Macrophage     |\n",
       "| AAACGAACAGAGTCTT_10 | Y3_SVZ_R2_D1_Exercise_28.5 | 40896 | 6251 | 4.328052 | 7698 | 2714 | 15 | 15 | Y3 | SVZ | ⋯ | Exercise | 28.5 | Y | Y_Exercise | LX | -0.12138571 | -0.13272230 | G1 | OPC_2        | OPC            |\n",
       "| AAACGAAGTGTACATC_10 | Y3_SVZ_R2_D1_Exercise_28.5 |  3284 | 1637 | 6.851401 | 5387 | 1709 | 1  | 1  | Y3 | SVZ | ⋯ | Exercise | 28.5 | Y | Y_Exercise | LX | -0.01694074 | -0.05768578 | G1 | Astrocyte    | Astrocyte_qNSC |\n",
       "\n"
      ],
      "text/plain": [
       "                    orig.ident                 nCount_RNA nFeature_RNA\n",
       "AAACCCACAAAGAGTT_10 Y3_SVZ_R2_D1_Exercise_28.5  4097      1896        \n",
       "AAACCCATCGTAACAC_10 Y3_SVZ_R2_D1_Exercise_28.5  4738      1737        \n",
       "AAACGAAAGCATGGGT_10 Y3_SVZ_R2_D1_Exercise_28.5  3362      1739        \n",
       "AAACGAAAGGGCGAGA_10 Y3_SVZ_R2_D1_Exercise_28.5  3562      1254        \n",
       "AAACGAACAGAGTCTT_10 Y3_SVZ_R2_D1_Exercise_28.5 40896      6251        \n",
       "AAACGAAGTGTACATC_10 Y3_SVZ_R2_D1_Exercise_28.5  3284      1637        \n",
       "                    percent.mt nCount_SCT nFeature_SCT SCT_snn_res.0.4\n",
       "AAACCCACAAAGAGTT_10 4.271418   5614       1898         5              \n",
       "AAACCCATCGTAACAC_10 3.102575   5753       1737         0              \n",
       "AAACGAAAGCATGGGT_10 6.276026   5492       1759         2              \n",
       "AAACGAAAGGGCGAGA_10 5.951713   5702       1282         16             \n",
       "AAACGAACAGAGTCTT_10 4.328052   7698       2714         15             \n",
       "AAACGAAGTGTACATC_10 6.851401   5387       1709         1              \n",
       "                    seurat_clusters ID Tissue ⋯ Condition Weight Age AgeCond   \n",
       "AAACCCACAAAGAGTT_10 5               Y3 SVZ    ⋯ Exercise  28.5   Y   Y_Exercise\n",
       "AAACCCATCGTAACAC_10 0               Y3 SVZ    ⋯ Exercise  28.5   Y   Y_Exercise\n",
       "AAACGAAAGCATGGGT_10 2               Y3 SVZ    ⋯ Exercise  28.5   Y   Y_Exercise\n",
       "AAACGAAAGGGCGAGA_10 16              Y3 SVZ    ⋯ Exercise  28.5   Y   Y_Exercise\n",
       "AAACGAACAGAGTCTT_10 15              Y3 SVZ    ⋯ Exercise  28.5   Y   Y_Exercise\n",
       "AAACGAAGTGTACATC_10 1               Y3 SVZ    ⋯ Exercise  28.5   Y   Y_Exercise\n",
       "                    Dissection S.Score     G2M.Score   Phase Celltype    \n",
       "AAACCCACAAAGAGTT_10 LX         -0.04153015 -0.04423017 G1    Neuroblast_2\n",
       "AAACCCATCGTAACAC_10 LX         -0.04494784 -0.04581744 G1    Microglia_1 \n",
       "AAACGAAAGCATGGGT_10 LX         -0.01337188 -0.09990717 G1    Endothelial \n",
       "AAACGAAAGGGCGAGA_10 LX         -0.04018425 -0.04866340 G1    Macrophage  \n",
       "AAACGAACAGAGTCTT_10 LX         -0.12138571 -0.13272230 G1    OPC_2       \n",
       "AAACGAAGTGTACATC_10 LX         -0.01694074 -0.05768578 G1    Astrocyte   \n",
       "                    Celltype.LowRes\n",
       "AAACCCACAAAGAGTT_10 Neuroblast     \n",
       "AAACCCATCGTAACAC_10 Microglia      \n",
       "AAACGAAAGCATGGGT_10 Endothelial    \n",
       "AAACGAAAGGGCGAGA_10 Macrophage     \n",
       "AAACGAACAGAGTCTT_10 OPC            \n",
       "AAACGAAGTGTACATC_10 Astrocyte_qNSC "
      ]
     },
     "metadata": {},
     "output_type": "display_data"
    }
   ],
   "source": [
    "# Split off Young Exercise data\n",
    "yexercisedata <- metadata %>% filter(AgeCond==\"Y_Exercise\")\n",
    "head(yexercisedata)"
   ]
  },
  {
   "cell_type": "code",
   "execution_count": 9,
   "id": "b9c9cfd6-68a9-4ed5-9ea9-919aba3b29ab",
   "metadata": {},
   "outputs": [],
   "source": [
    "# Look at differences in transcriptional noise in different cell types + see how they change with age"
   ]
  },
  {
   "cell_type": "code",
   "execution_count": 10,
   "id": "da83411a-9dab-48c6-8e68-798032d6c745",
   "metadata": {},
   "outputs": [],
   "source": [
    "seurat_list <- SplitObject(data, split.by = \"ID\")"
   ]
  },
  {
   "cell_type": "code",
   "execution_count": 11,
   "id": "8f012796-e1f4-4a8e-97e7-c8cf1057f8fe",
   "metadata": {},
   "outputs": [],
   "source": [
    "initial_matrices <- lapply(seurat_list, function(x) GetAssayData(x, slot = \"data\"))"
   ]
  },
  {
   "cell_type": "code",
   "execution_count": 12,
   "id": "03051624-6d9c-4b0d-aeaa-13eac13fc2c4",
   "metadata": {},
   "outputs": [
    {
     "data": {
      "image/png": "[encoded data removed]",
      "text/plain": [
       "Plot with title “Transcriptional Noise AAG+PoE across Cell IDs”"
      ]
     },
     "metadata": {
      "image/png": {
       "height": 420,
       "width": 420
      }
     },
     "output_type": "display_data"
    }
   ],
   "source": [
    "# Find transcriptional noise across all individuals and compare\n",
    "noiselist <- c();\n",
    "\n",
    "idlist <- c(\"O2\", \"O3\", \"O4\", \"O5\", \"O6\", \"O7\", \"O8\", \"Y1\", \"Y2\", \"Y3\", \"Y4\", \"Y5\", \"Y6\", \"Y7\", \"Y8\");\n",
    "\n",
    "experimentalgroup <- c(\"old control\", \"old exercise\", \"old exercise\", \"old control\", \"old exercise\", \"old control\", \"old exercise\", \n",
    "         \"young control\", \"young control\", \"young exercise\", \"young exercise\", \"young control\", \"young exercise\", \"young control\", \"young exercise\");\n",
    "\n",
    "cols <- c(\"violet\", \"lavender\", \"lavender\", \"violet\", \"lavender\", \"violet\", \"lavender\",\n",
    "          \"red\", \"red\", \"pink\", \"pink\", \"red\", \"pink\", \"red\", \"pink\")\n",
    "\n",
    "for (x in 1:15) {\n",
    "    noise <- (seurat_list[[x]]$nCount_SCT %>% sd())/(seurat_list[[x]]$nCount_SCT %>% mean())\n",
    "    noiselist <- c(noiselist, noise)\n",
    "}\n",
    "\n",
    "barplot(main=paste(\"Transcriptional Noise AAG+PoE across Cell IDs\"),\n",
    "        height=noiselist, \n",
    "        ylim = c(0, round(max(noiselist), 2)),\n",
    "        names = idlist,\n",
    "        col = cols)\n"
   ]
  },
  {
   "cell_type": "code",
   "execution_count": 13,
   "id": "9c670246-8ddc-4c00-8966-f7c75104ce6a",
   "metadata": {},
   "outputs": [],
   "source": [
    "calculateNoise <- function(gene){\n",
    "sd(gene)/mean(gene)\n",
    "}"
   ]
  },
  {
   "cell_type": "code",
   "execution_count": 14,
   "id": "12605cc7-4c51-4843-ab72-90f840f56add",
   "metadata": {},
   "outputs": [
    {
     "name": "stderr",
     "output_type": "stream",
     "text": [
      "Warning message in asMethod(object):\n",
      "“sparse->dense coercion: allocating vector of size 1.1 GiB”\n",
      "Warning message in asMethod(object):\n",
      "“sparse->dense coercion: allocating vector of size 1.0 GiB”\n"
     ]
    }
   ],
   "source": [
    "# For each matrix in initial_matrices, go row by row (gene by gene) and calculate noise for that gene\n",
    "noiseDistributions <- lapply(initial_matrices, function(matrix) {\n",
    "apply(matrix, MARGIN = 2, FUN = calculateNoise)\n",
    "})"
   ]
  },
  {
   "cell_type": "code",
   "execution_count": 15,
   "id": "07fe6dbe-faf1-4038-b905-3c1504aac1cc",
   "metadata": {},
   "outputs": [],
   "source": [
    "# Convect noiseDistributions to a dataframe again\n",
    "noiseDistributions_asDF <- do.call(rbind, lapply(seq_along(noiseDistributions), function(i) {\n",
    "  data.frame(ID = names(noiseDistributions)[i], Value = noiseDistributions[[i]])\n",
    "}))"
   ]
  },
  {
   "cell_type": "code",
   "execution_count": 16,
   "id": "8f21000c-fdf5-4df5-a068-3fd6f1c94488",
   "metadata": {},
   "outputs": [
    {
     "data": {
      "text/html": [
       "<table class=\"dataframe\">\n",
       "<caption>A data.frame: 6 × 2</caption>\n",
       "<thead>\n",
       "\t<tr><th></th><th scope=col>ID</th><th scope=col>Value</th></tr>\n",
       "\t<tr><th></th><th scope=col>&lt;chr&gt;</th><th scope=col>&lt;dbl&gt;</th></tr>\n",
       "</thead>\n",
       "<tbody>\n",
       "\t<tr><th scope=row>AAACCCAAGCCTTTCC_1</th><td>O2</td><td>2.862303</td></tr>\n",
       "\t<tr><th scope=row>AAACCCAAGCGCCGTT_1</th><td>O2</td><td>2.509027</td></tr>\n",
       "\t<tr><th scope=row>AAACCCACATGCACTA_1</th><td>O2</td><td>2.916677</td></tr>\n",
       "\t<tr><th scope=row>AAACCCAGTACCGTCG_1</th><td>O2</td><td>2.493363</td></tr>\n",
       "\t<tr><th scope=row>AAACCCAGTCACCGCA_1</th><td>O2</td><td>2.667899</td></tr>\n",
       "\t<tr><th scope=row>AAACCCAGTCCTACAA_1</th><td>O2</td><td>2.471349</td></tr>\n",
       "</tbody>\n",
       "</table>\n"
      ],
      "text/latex": [
       "A data.frame: 6 × 2\n",
       "\\begin{tabular}{r|ll}\n",
       "  & ID & Value\\\\\n",
       "  & <chr> & <dbl>\\\\\n",
       "\\hline\n",
       "\tAAACCCAAGCCTTTCC\\_1 & O2 & 2.862303\\\\\n",
       "\tAAACCCAAGCGCCGTT\\_1 & O2 & 2.509027\\\\\n",
       "\tAAACCCACATGCACTA\\_1 & O2 & 2.916677\\\\\n",
       "\tAAACCCAGTACCGTCG\\_1 & O2 & 2.493363\\\\\n",
       "\tAAACCCAGTCACCGCA\\_1 & O2 & 2.667899\\\\\n",
       "\tAAACCCAGTCCTACAA\\_1 & O2 & 2.471349\\\\\n",
       "\\end{tabular}\n"
      ],
      "text/markdown": [
       "\n",
       "A data.frame: 6 × 2\n",
       "\n",
       "| <!--/--> | ID &lt;chr&gt; | Value &lt;dbl&gt; |\n",
       "|---|---|---|\n",
       "| AAACCCAAGCCTTTCC_1 | O2 | 2.862303 |\n",
       "| AAACCCAAGCGCCGTT_1 | O2 | 2.509027 |\n",
       "| AAACCCACATGCACTA_1 | O2 | 2.916677 |\n",
       "| AAACCCAGTACCGTCG_1 | O2 | 2.493363 |\n",
       "| AAACCCAGTCACCGCA_1 | O2 | 2.667899 |\n",
       "| AAACCCAGTCCTACAA_1 | O2 | 2.471349 |\n",
       "\n"
      ],
      "text/plain": [
       "                   ID Value   \n",
       "AAACCCAAGCCTTTCC_1 O2 2.862303\n",
       "AAACCCAAGCGCCGTT_1 O2 2.509027\n",
       "AAACCCACATGCACTA_1 O2 2.916677\n",
       "AAACCCAGTACCGTCG_1 O2 2.493363\n",
       "AAACCCAGTCACCGCA_1 O2 2.667899\n",
       "AAACCCAGTCCTACAA_1 O2 2.471349"
      ]
     },
     "metadata": {},
     "output_type": "display_data"
    }
   ],
   "source": [
    "head(noiseDistributions_asDF)"
   ]
  },
  {
   "cell_type": "code",
   "execution_count": 17,
   "id": "383741d5-3945-46dc-aeb5-041664262f51",
   "metadata": {
    "scrolled": true
   },
   "outputs": [
    {
     "data": {
      "text/html": [
       "<table class=\"dataframe\">\n",
       "<caption>A tibble: 15 × 2</caption>\n",
       "<thead>\n",
       "\t<tr><th scope=col>ID</th><th scope=col>MedianValue</th></tr>\n",
       "\t<tr><th scope=col>&lt;chr&gt;</th><th scope=col>&lt;dbl&gt;</th></tr>\n",
       "</thead>\n",
       "<tbody>\n",
       "\t<tr><td>O2</td><td>2.793473</td></tr>\n",
       "\t<tr><td>O3</td><td>2.806000</td></tr>\n",
       "\t<tr><td>O4</td><td>2.642484</td></tr>\n",
       "\t<tr><td>O5</td><td>2.849036</td></tr>\n",
       "\t<tr><td>O6</td><td>2.813532</td></tr>\n",
       "\t<tr><td>O7</td><td>3.038761</td></tr>\n",
       "\t<tr><td>O8</td><td>3.010058</td></tr>\n",
       "\t<tr><td>Y1</td><td>2.663116</td></tr>\n",
       "\t<tr><td>Y2</td><td>2.907050</td></tr>\n",
       "\t<tr><td>Y3</td><td>2.821365</td></tr>\n",
       "\t<tr><td>Y4</td><td>2.795631</td></tr>\n",
       "\t<tr><td>Y5</td><td>3.091844</td></tr>\n",
       "\t<tr><td>Y6</td><td>2.962114</td></tr>\n",
       "\t<tr><td>Y7</td><td>2.883874</td></tr>\n",
       "\t<tr><td>Y8</td><td>3.037867</td></tr>\n",
       "</tbody>\n",
       "</table>\n"
      ],
      "text/latex": [
       "A tibble: 15 × 2\n",
       "\\begin{tabular}{ll}\n",
       " ID & MedianValue\\\\\n",
       " <chr> & <dbl>\\\\\n",
       "\\hline\n",
       "\t O2 & 2.793473\\\\\n",
       "\t O3 & 2.806000\\\\\n",
       "\t O4 & 2.642484\\\\\n",
       "\t O5 & 2.849036\\\\\n",
       "\t O6 & 2.813532\\\\\n",
       "\t O7 & 3.038761\\\\\n",
       "\t O8 & 3.010058\\\\\n",
       "\t Y1 & 2.663116\\\\\n",
       "\t Y2 & 2.907050\\\\\n",
       "\t Y3 & 2.821365\\\\\n",
       "\t Y4 & 2.795631\\\\\n",
       "\t Y5 & 3.091844\\\\\n",
       "\t Y6 & 2.962114\\\\\n",
       "\t Y7 & 2.883874\\\\\n",
       "\t Y8 & 3.037867\\\\\n",
       "\\end{tabular}\n"
      ],
      "text/markdown": [
       "\n",
       "A tibble: 15 × 2\n",
       "\n",
       "| ID &lt;chr&gt; | MedianValue &lt;dbl&gt; |\n",
       "|---|---|\n",
       "| O2 | 2.793473 |\n",
       "| O3 | 2.806000 |\n",
       "| O4 | 2.642484 |\n",
       "| O5 | 2.849036 |\n",
       "| O6 | 2.813532 |\n",
       "| O7 | 3.038761 |\n",
       "| O8 | 3.010058 |\n",
       "| Y1 | 2.663116 |\n",
       "| Y2 | 2.907050 |\n",
       "| Y3 | 2.821365 |\n",
       "| Y4 | 2.795631 |\n",
       "| Y5 | 3.091844 |\n",
       "| Y6 | 2.962114 |\n",
       "| Y7 | 2.883874 |\n",
       "| Y8 | 3.037867 |\n",
       "\n"
      ],
      "text/plain": [
       "   ID MedianValue\n",
       "1  O2 2.793473   \n",
       "2  O3 2.806000   \n",
       "3  O4 2.642484   \n",
       "4  O5 2.849036   \n",
       "5  O6 2.813532   \n",
       "6  O7 3.038761   \n",
       "7  O8 3.010058   \n",
       "8  Y1 2.663116   \n",
       "9  Y2 2.907050   \n",
       "10 Y3 2.821365   \n",
       "11 Y4 2.795631   \n",
       "12 Y5 3.091844   \n",
       "13 Y6 2.962114   \n",
       "14 Y7 2.883874   \n",
       "15 Y8 3.037867   "
      ]
     },
     "metadata": {},
     "output_type": "display_data"
    }
   ],
   "source": [
    "medians <- noiseDistributions_asDF %>%\n",
    "  group_by(ID) %>%\n",
    "  summarize(MedianValue = median(Value, na.rm = TRUE))\n",
    "medians"
   ]
  },
  {
   "cell_type": "code",
   "execution_count": 18,
   "id": "d2a7298a-2b0f-4b8e-b51a-d2cdcc67805d",
   "metadata": {},
   "outputs": [],
   "source": [
    "medians <- medians %>%\n",
    "  mutate(ExperimentalGroup = experimentalgroup)"
   ]
  },
  {
   "cell_type": "code",
   "execution_count": 19,
   "id": "47dc1e97-31e0-44c8-b193-55afcd080ea2",
   "metadata": {},
   "outputs": [],
   "source": [
    "idstoname <- function(ids) {\n",
    "    ids <- unlist(strsplit(ids, \"/\"))\n",
    "    genenames <- mapIds(org.Mm.eg.db, keys = ids, column = \"SYMBOL\", keytype = \"ENTREZID\", multiVals = \"first\")\n",
    "    paste(genenames, collapse = \"/\")\n",
    "}"
   ]
  },
  {
   "cell_type": "code",
   "execution_count": 111,
   "id": "ac48753b-0da8-4e40-841a-d82be3a812cb",
   "metadata": {},
   "outputs": [],
   "source": [
    "differentially_expressed_genes_old <- c()\n",
    "differentially_expressed_genes_young <- c()\n",
    "\n",
    "list_of_cell_specific_de_results_OLD <- data.frame()\n",
    "list_of_cell_specific_de_results_YOUNG <- data.frame()\n",
    "\n",
    "significant_genes_celltype_specific_OLD <- c()\n",
    "significant_genes_celltype_specific_YOUNG <- c()"
   ]
  },
  {
   "cell_type": "code",
   "execution_count": 33,
   "id": "eb3872f7-5ac0-4bf3-b7da-d85d22196cc6",
   "metadata": {},
   "outputs": [],
   "source": [
    "celltypes <- unique(data@meta.data$Celltype.LowRes)"
   ]
  },
  {
   "cell_type": "code",
   "execution_count": null,
   "id": "f7ea8c59-39a8-4e68-9d5e-f5adef902bb1",
   "metadata": {},
   "outputs": [],
   "source": [
    "controlid <- c(\"O2\", \"O5\", \"O7\")\n",
    "exerciseid <- c(\"O3\", \"O4\", \"O6\", \"O8\")\n",
    "controlname <- \"OldControl\"\n",
    "exercisename <- \"OldExercise\"\n",
    "prefix <- \"Old\"\n",
    "\n",
    "metadata$group <- ifelse(metadata$ID %in% controlid, controlname, \n",
    "                     ifelse(metadata$ID %in% exerciseid, exercisename, NA))\n",
    "data@meta.data <- metadata\n",
    "\n",
    "# get list of important genes for old\n",
    "old_de_results <- FindMarkers(data, ident.1 = exercisename, ident.2 = controlname, group.by = \"group\", logfc.threshold = 0)\n",
    "old_de_results <- old_de_results %>%\n",
    "                mutate(significant = ifelse(p_val_adj < 0.005 & abs(avg_log2FC) > 0.25, \"yes\", \"no\"))\n",
    "\n",
    "old_significant_data <- old_de_results %>% filter(significant == \"yes\")\n",
    "\n",
    "old_significant_genes <- rownames(old_significant_data)"
   ]
  },
  {
   "cell_type": "code",
   "execution_count": 71,
   "id": "58b150a6-4cf7-4353-a5cd-bbdaf57bd638",
   "metadata": {},
   "outputs": [
    {
     "name": "stdout",
     "output_type": "stream",
     "text": [
      "[1] \"Astrocyte_qNSC\"\n",
      "[1] \"Oligodendro\"\n",
      "[1] \"Microglia\"\n",
      "[1] \"Mural\"\n",
      "[1] \"Endothelial\"\n",
      "[1] \"aNSC_NPC\"\n",
      "[1] \"Neuroblast\"\n",
      "[1] \"Macrophage\"\n",
      "[1] \"OPC\"\n",
      "[1] \"Neuronal\"\n",
      "[1] \"T_Cell\"\n",
      "[1] \"Vascular_Leptomeningeal\"\n",
      "[1] \"Epithelial\"\n",
      "[1] \"Ependymal\"\n"
     ]
    }
   ],
   "source": [
    "# iterate through all cell types, get the de_results, add to list of de results\n",
    "for (celltype in celltypes) {\n",
    "    prefix <- \"Old\"\n",
    "\n",
    "    print(celltype)\n",
    "    prefix = paste(celltype, prefix)\n",
    "    \n",
    "    de_results <- FindMarkers(subset(data, subset = Celltype.LowRes == celltype), ident.1 = exercisename, ident.2 = controlname, group.by = \"group\", logfc.threshold = 0)\n",
    "    de_results <- de_results %>%\n",
    "                    mutate(significant = ifelse(p_val_adj < 0.005 & abs(avg_log2FC) > 0.25, \"yes\", \"no\"))\n",
    "    significantdata <- de_results %>% filter(significant == \"yes\")\n",
    "    \n",
    "    significantgenes <- rownames(significantdata)\n",
    "\n",
    "    df_with_genes <- de_results %>%\n",
    "      rownames_to_column(var = \"gene\")\n",
    "    \n",
    "    df_with_genes <- df_with_genes %>%\n",
    "      filter(gene %in% old_significant_genes)\n",
    "    \n",
    "    df_with_genes[\"Cell_Type\"] <- celltype\n",
    "    \n",
    "    list_of_cell_specific_de_results_OLD <- rbind(list_of_cell_specific_de_results_OLD, df_with_genes)\n",
    "    \n",
    "    significant_genes_celltype_specific_OLD <- c(significant_genes_celltype_specific_OLD, significantgenes)\n",
    "}"
   ]
  },
  {
   "cell_type": "code",
   "execution_count": 99,
   "id": "36092399-d8d2-4ce0-a285-d5b1ba600da2",
   "metadata": {},
   "outputs": [],
   "source": [
    "wide_data <- list_of_cell_specific_de_results_OLD %>%\n",
    "  select(gene, Cell_Type, avg_log2FC) %>%\n",
    "  pivot_wider(names_from = Cell_Type, values_from = avg_log2FC)\n",
    "\n",
    "wide_data <- wide_data %>%\n",
    "  mutate(across(everything(), ~ replace_na(., 0)))\n",
    "\n",
    "wide_data_df <- as.data.frame(wide_data)\n",
    "\n",
    "rownames(wide_data_df) <- wide_data_df$gene\n",
    "\n",
    "wide_data_df <- wide_data_df %>%\n",
    "  select(-gene)"
   ]
  },
  {
   "cell_type": "code",
   "execution_count": 108,
   "id": "e7179f71-e4f6-49ee-aac0-8bd901237973",
   "metadata": {},
   "outputs": [
    {
     "data": {
      "text/html": [
       "<style>\n",
       ".list-inline {list-style: none; margin:0; padding: 0}\n",
       ".list-inline>li {display: inline-block}\n",
       ".list-inline>li:not(:last-child)::after {content: \"\\00b7\"; padding: 0 .5ex}\n",
       "</style>\n",
       "<ol class=list-inline><li>107</li><li>14</li></ol>\n"
      ],
      "text/latex": [
       "\\begin{enumerate*}\n",
       "\\item 107\n",
       "\\item 14\n",
       "\\end{enumerate*}\n"
      ],
      "text/markdown": [
       "1. 107\n",
       "2. 14\n",
       "\n",
       "\n"
      ],
      "text/plain": [
       "[1] 107  14"
      ]
     },
     "metadata": {},
     "output_type": "display_data"
    }
   ],
   "source": [
    "dim(wide_data_df)"
   ]
  },
  {
   "cell_type": "code",
   "execution_count": 107,
   "id": "294b606d-fe7b-43e3-a3a7-d9dfc4fdf38a",
   "metadata": {},
   "outputs": [
    {
     "data": {
      "image/png": "[encoded data removed]",
      "text/plain": [
       "plot without title"
      ]
     },
     "metadata": {
      "image/png": {
       "height": 420,
       "width": 420
      }
     },
     "output_type": "display_data"
    }
   ],
   "source": [
    "pheatmap(as.matrix(wide_data_df), \n",
    "         scale = \"row\", \n",
    "         clustering_distance_rows = \"euclidean\", \n",
    "         clustering_distance_cols = \"euclidean\",\n",
    "         clustering_method = \"complete\",\n",
    "         fontsize_row = 2,\n",
    "         fontsize_col = 10 \n",
    ")"
   ]
  },
  {
   "cell_type": "code",
   "execution_count": null,
   "id": "8e1a61bd-dfa3-4006-bd88-766fcdcddb8c",
   "metadata": {
    "scrolled": true
   },
   "outputs": [],
   "source": [
    "controlid <- c(\"Y1\", \"Y2\", \"Y5\", \"Y7\")\n",
    "exerciseid <- c(\"Y3\", \"Y4\", \"Y6\", \"Y8\")\n",
    "controlname <- \"YoungControl\"\n",
    "exercisename <- \"YoungExercise\"\n",
    "prefix <- \"Young\"\n",
    "\n",
    "\n",
    "metadata$group <- ifelse(metadata$ID %in% controlid, controlname, \n",
    "                     ifelse(metadata$ID %in% exerciseid, exercisename, NA))\n",
    "data@meta.data <- metadata\n",
    "\n",
    "young_de_results <- FindMarkers(data, ident.1 = exercisename, ident.2 = controlname, group.by = \"group\", logfc.threshold = 0)\n",
    "young_de_results <- de_results %>%\n",
    "                mutate(significant = ifelse(p_val_adj < 0.005 & abs(avg_log2FC) > 0.25, \"yes\", \"no\"))\n",
    "\n",
    "young_significant_data <- young_de_results %>% filter(significant == \"yes\")\n",
    "\n",
    "young_significant_genes <- rownames(young_significant_data)\n",
    "\n",
    "\n",
    "# iterate through all cell types, get the de_results, add to list of de results\n",
    "for (celltype in celltypes) {\n",
    "    prefix <- \"Young\"\n",
    "\n",
    "    print(celltype)\n",
    "    prefix = paste(celltype, prefix)\n",
    "    \n",
    "    de_results <- FindMarkers(subset(data, subset = Celltype.LowRes == celltype), ident.1 = exercisename, ident.2 = controlname, group.by = \"group\", logfc.threshold = 0)\n",
    "    de_results <- de_results %>%\n",
    "                    mutate(significant = ifelse(p_val_adj < 0.005 & abs(avg_log2FC) > 0.25, \"yes\", \"no\"))\n",
    "    significantdata <- de_results %>% filter(significant == \"yes\")\n",
    "    \n",
    "    significantgenes <- rownames(significantdata)\n",
    "\n",
    "    significantgenes <- rownames(significantdata)\n",
    "\n",
    "    df_with_genes <- de_results %>%\n",
    "      rownames_to_column(var = \"gene\")\n",
    "    \n",
    "    df_with_genes <- df_with_genes %>%\n",
    "      filter(gene %in% young_significant_genes)\n",
    "    \n",
    "    df_with_genes[\"Cell_Type\"] <- celltype\n",
    "    \n",
    "    rbind(list_of_cell_specific_de_results_YOUNG, df_with_genes)\n",
    "    \n",
    "    significant_genes_celltype_specific_YOUNG <- c(significant_genes_celltype_specific_YOUNG, significantgenes)\n",
    "}"
   ]
  },
  {
   "cell_type": "code",
   "execution_count": null,
   "id": "112768d1-4e53-4e49-a0ef-7402ab8fa3f8",
   "metadata": {},
   "outputs": [],
   "source": [
    "# create a heatmap where each column has a specific cell type and each row has a specific gene"
   ]
  }
 ],
 "metadata": {
  "kernelspec": {
   "display_name": "R4.0.0",
   "language": "R",
   "name": "ir"
  },
  "language_info": {
   "codemirror_mode": "r",
   "file_extension": ".r",
   "mimetype": "text/x-r-source",
   "name": "R",
   "pygments_lexer": "r",
   "version": "4.0.0"
  }
 },
 "nbformat": 4,
 "nbformat_minor": 5
}

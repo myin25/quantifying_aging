{
 "cells": [
  {
   "cell_type": "code",
   "execution_count": 1,
   "id": "427d0675-8f87-4ed8-9c81-563811f30442",
   "metadata": {},
   "outputs": [],
   "source": [
    "# Imports:\n",
    "import gcl_library as gcl_lib\n",
    "\n",
    "# check if input file/s exists:\n",
    "import sys\n",
    "from pathlib import Path\n",
    "from os import path\n",
    "# for threading:\n",
    "import threading\n",
    "# math tools:\n",
    "import numpy as np\n",
    "from scipy.spatial.distance import cdist\n",
    "import math\n",
    "import random\n",
    "# gcl library import:\n",
    "from matplotlib import pyplot as plt\n"
   ]
  },
  {
   "cell_type": "code",
   "execution_count": 2,
   "id": "77245fff-ce39-4e17-94f9-a6d34cb064de",
   "metadata": {},
   "outputs": [],
   "source": [
    "def main_gcl_start(files_arr, jack_knifes=70, num_divisions=10, jack_knife_percentage=0.8, task='jackknife'):\n",
    "    \"\"\"\n",
    "    The main gcl start function to generate and present the histograms.\n",
    "    param files_arr: Array of .CSV files.\n",
    "    param jack_knifes: Number of jackknives for calculation.\n",
    "    param num_divisions: Number of random gene division for calculation.\n",
    "    param jack_knife_percentage: Percentage of cells to choose for jackknife realization.\n",
    "    param task: String, either 'jackknife' or 'regular_calc' for the requested task.\n",
    "    return: none.\n",
    "    \"\"\"\n",
    "    for file in files_arr:\n",
    "        if not path.exists(file):\n",
    "            raise NameError('Invalid File/s!')\n",
    "    result_arr, file_names = [], []\n",
    "    for file in files_arr:\n",
    "        csv_mat = np.genfromtxt(file, delimiter=',')\n",
    "        file_names.append(Path(file).stem)\n",
    "        if task == 'jackknife':\n",
    "            result_arr.append(gcl_lib.jackknife(csv_mat, jack_knifes, jack_knife_percentage, num_divisions))\n",
    "        elif task == 'regular_calc':\n",
    "            result_arr.append(gcl_lib.gcl(csv_mat, num_divisions))\n",
    "            print('GCL value of ' + file_names[-1] + ' is: ' + str(result_arr[-1]))\n",
    "        else:\n",
    "            raise NameError('Invalid Task!')\n",
    "    # plotting the histogram/s:\n",
    "    plt.figure(figsize=(10, 10))\n",
    "    if task == 'jackknife':\n",
    "        for result in range(len(result_arr)):\n",
    "            plt.hist(result_arr[result], 8, density=False, edgecolor='black', label=file_names[result], alpha=.8)\n",
    "        plot_title = 'GCL ' + (\n",
    "            'jackknife ' if task == 'jackknife' else 'Regular Calculation ') + 'Hist. with: ' + str(\n",
    "            jack_knifes) + ' realizations' + ', ' + str(jack_knife_percentage * 100) + '%'\n",
    "        plt.title(plot_title, fontsize=26)\n",
    "    # plot settings:\n",
    "    plt.xticks(fontsize=20)\n",
    "    plt.yticks(fontsize=20)\n",
    "    plt.xlabel('GCL', fontsize=32)\n",
    "    plt.ylabel('Iterations', fontsize=32)\n",
    "    plt.rc('legend', fontsize=26)\n",
    "    plt.legend(loc='upper right')\n",
    "    plt.show()"
   ]
  },
  {
   "cell_type": "code",
   "execution_count": null,
   "id": "101e1031-c3a1-4f14-b25c-5c141f3eab2b",
   "metadata": {},
   "outputs": [],
   "source": [
    "'''\n",
    "Run main_gcl_start with received arguments or default values.\n",
    "* Input: (as arguments, in the following order. for default write: 'default')\n",
    "*       1) data_arr [mandatory] - files array data with all the files in the current folder to make the GCL on.\n",
    "*       2) jackknife [optional] - Number of jackknives iterations for calculation.\n",
    "*       3) jackknife_percentage [optional] - Percentage of cells to choose for jackknife realization.\n",
    "*       4) task_option [optional] - either 'jackknife' or 'regular_calc' for the requested task.\n",
    "*       5) num_division [optional] - Number of random gene division iterations for calculation.\n",
    "'''\n",
    "\n",
    "data_arr = [\"/gpfs/home/meyin/code/old_control.csv\", \"/gpfs/home/meyin/code/old_exercise.csv\"]\n",
    "\n",
    "jack_knife = 70\n",
    "\n",
    "jackknife_percentage = 0.8\n",
    "\n",
    "task_option = 'jackknife'\n",
    "\n",
    "num_division = 10\n",
    "\n",
    "main_gcl_start(data_arr, jack_knife, num_division, jackknife_percentage, task_option)"
   ]
  },
  {
   "cell_type": "code",
   "execution_count": null,
   "id": "2f1338ad-995f-4662-87ab-e24178a28dea",
   "metadata": {},
   "outputs": [],
   "source": []
  }
 ],
 "metadata": {
  "kernelspec": {
   "display_name": "Python 3.11.4",
   "language": "python",
   "name": "python3-dev"
  },
  "language_info": {
   "codemirror_mode": {
    "name": "ipython",
    "version": 3
   },
   "file_extension": ".py",
   "mimetype": "text/x-python",
   "name": "python",
   "nbconvert_exporter": "python",
   "pygments_lexer": "ipython3",
   "version": "3.11.4"
  }
 },
 "nbformat": 4,
 "nbformat_minor": 5
}

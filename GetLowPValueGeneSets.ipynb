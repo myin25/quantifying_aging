{
 "cells": [
  {
   "cell_type": "code",
   "execution_count": null,
   "id": "ba47b808-2255-4fd6-b65d-21d8987da3c8",
   "metadata": {},
   "outputs": [],
   "source": [
    "library(ggplot2)\n",
    "library(tidyverse)\n",
    "library(lubridate)\n",
    "library(Seurat)"
   ]
  },
  {
   "cell_type": "code",
   "execution_count": null,
   "id": "1c3c5643-948c-476a-a2c6-c2d5d61444ba",
   "metadata": {
    "scrolled": true
   },
   "outputs": [],
   "source": [
    "filename <- \"/gpfs/home/meyin/published_data/parabiosis/pb_combined.rds?download=1\"\n",
    "data <- readRDS(filename)"
   ]
  },
  {
   "cell_type": "code",
   "execution_count": null,
   "id": "46b375bd-0ae7-40c1-9530-79cefba21c8c",
   "metadata": {},
   "outputs": [],
   "source": [
    "head(data, 10)"
   ]
  },
  {
   "cell_type": "code",
   "execution_count": null,
   "id": "385e1021-c6c8-4b99-a244-2f79532e195b",
   "metadata": {
    "scrolled": true
   },
   "outputs": [],
   "source": [
    "dim(data)\n",
    "dimnames(data)"
   ]
  },
  {
   "cell_type": "code",
   "execution_count": null,
   "id": "a6e666c6-194c-4115-8e61-c8bcfc2eeb61",
   "metadata": {
    "scrolled": true
   },
   "outputs": [],
   "source": [
    "colnames(data)"
   ]
  },
  {
   "cell_type": "code",
   "execution_count": null,
   "id": "14441283-5d31-4608-936e-b6feb863ca4f",
   "metadata": {},
   "outputs": [],
   "source": [
    "colnames(data@meta.data)"
   ]
  },
  {
   "cell_type": "code",
   "execution_count": null,
   "id": "494e5cc3-5016-458d-9982-5bbe31c76748",
   "metadata": {},
   "outputs": [],
   "source": [
    "table(data@meta.data$Celltype.LowRes)"
   ]
  },
  {
   "cell_type": "code",
   "execution_count": null,
   "id": "e1298923-681d-4cc3-bda9-4018c61ddeb0",
   "metadata": {},
   "outputs": [],
   "source": [
    "# Quality Control"
   ]
  },
  {
   "cell_type": "code",
   "execution_count": null,
   "id": "5f41ee40-c3cc-4f4e-a417-6b7a3923af35",
   "metadata": {},
   "outputs": [],
   "source": [
    "metadata <- data@meta.data %>% filter(data@meta.data$Celltype.LowRes != \"Doublet\")"
   ]
  },
  {
   "cell_type": "code",
   "execution_count": null,
   "id": "d038b2eb-e6d8-452c-9a77-07d522b70810",
   "metadata": {},
   "outputs": [],
   "source": [
    "# Split off Old Control data\n",
    "ocontroldata <- metadata %>% filter(AgeCond==\"O_Control\")\n",
    "head(ocontroldata)"
   ]
  },
  {
   "cell_type": "code",
   "execution_count": null,
   "id": "b9182b39-4da7-481d-a4cb-31302035ecc1",
   "metadata": {},
   "outputs": [],
   "source": [
    "# Split off Old Exercise data\n",
    "oexercisedata <- metadata %>% filter(AgeCond==\"O_Exercise\")\n",
    "head(oexercisedata)"
   ]
  },
  {
   "cell_type": "code",
   "execution_count": null,
   "id": "d65067df-780a-4647-916a-9f023be6b6c4",
   "metadata": {},
   "outputs": [],
   "source": [
    "# Split off Young Control data\n",
    "ycontroldata <- metadata %>% filter(AgeCond==\"Y_Control\")\n",
    "head(ycontroldata)"
   ]
  },
  {
   "cell_type": "code",
   "execution_count": null,
   "id": "68dd24b2-59ac-4633-9874-1779c6fc775f",
   "metadata": {},
   "outputs": [],
   "source": [
    "# Split off Young Exercise data\n",
    "yexercisedata <- metadata %>% filter(AgeCond==\"Y_Exercise\")\n",
    "head(yexercisedata)"
   ]
  },
  {
   "cell_type": "code",
   "execution_count": null,
   "id": "b9c9cfd6-68a9-4ed5-9ea9-919aba3b29ab",
   "metadata": {},
   "outputs": [],
   "source": [
    "# Look at differences in transcriptional noise in different cell types + see how they change with age"
   ]
  },
  {
   "cell_type": "code",
   "execution_count": null,
   "id": "da83411a-9dab-48c6-8e68-798032d6c745",
   "metadata": {},
   "outputs": [],
   "source": [
    "seurat_list <- SplitObject(data, split.by = \"ID\")"
   ]
  },
  {
   "cell_type": "code",
   "execution_count": null,
   "id": "8f012796-e1f4-4a8e-97e7-c8cf1057f8fe",
   "metadata": {},
   "outputs": [],
   "source": [
    "initial_matrices <- lapply(seurat_list, function(x) GetAssayData(x, slot = \"data\"))"
   ]
  },
  {
   "cell_type": "code",
   "execution_count": null,
   "id": "03051624-6d9c-4b0d-aeaa-13eac13fc2c4",
   "metadata": {},
   "outputs": [],
   "source": [
    "# Find transcriptional noise across all individuals and compare\n",
    "noiselist <- c();\n",
    "\n",
    "idlist <- c(\"O2\", \"O3\", \"O4\", \"O5\", \"O6\", \"O7\", \"O8\", \"Y1\", \"Y2\", \"Y3\", \"Y4\", \"Y5\", \"Y6\", \"Y7\", \"Y8\");\n",
    "\n",
    "experimentalgroup <- c(\"old control\", \"old exercise\", \"old exercise\", \"old control\", \"old exercise\", \"old control\", \"old exercise\", \n",
    "         \"young control\", \"young control\", \"young exercise\", \"young exercise\", \"young control\", \"young exercise\", \"young control\", \"young exercise\");\n",
    "\n",
    "cols <- c(\"violet\", \"lavender\", \"lavender\", \"violet\", \"lavender\", \"violet\", \"lavender\",\n",
    "          \"red\", \"red\", \"pink\", \"pink\", \"red\", \"pink\", \"red\", \"pink\")\n",
    "\n",
    "for (x in 1:15) {\n",
    "    noise <- (seurat_list[[x]]$nCount_SCT %>% sd())/(seurat_list[[x]]$nCount_SCT %>% mean())\n",
    "    noiselist <- c(noiselist, noise)\n",
    "}"
   ]
  },
  {
   "cell_type": "code",
   "execution_count": null,
   "id": "47dc1e97-31e0-44c8-b193-55afcd080ea2",
   "metadata": {},
   "outputs": [],
   "source": [
    "idstoname <- function(ids) {\n",
    "    ids <- unlist(strsplit(ids, \"/\"))\n",
    "    genenames <- mapIds(org.Mm.eg.db, keys = ids, column = \"SYMBOL\", keytype = \"ENTREZID\", multiVals = \"first\")\n",
    "    paste(genenames, collapse = \"/\")\n",
    "}"
   ]
  },
  {
   "cell_type": "code",
   "execution_count": null,
   "id": "a904067a-c2a4-4d11-97e3-7166330af77c",
   "metadata": {},
   "outputs": [],
   "source": [
    "celltypes <- unique(data@meta.data$Celltype.LowRes)"
   ]
  },
  {
   "cell_type": "code",
   "execution_count": null,
   "id": "555efbf9-034d-4fb5-a339-0290b578faf3",
   "metadata": {},
   "outputs": [],
   "source": [
    "extract_gene_names <- function(df) {\n",
    "  df <- df %>%\n",
    "    separate_rows(gene_names, sep = \"/\")\n",
    "  \n",
    "  gene_list <- unique(df$gene_names)\n",
    "  \n",
    "  return(gene_list)\n",
    "}"
   ]
  },
  {
   "cell_type": "code",
   "execution_count": null,
   "id": "c4656054-c72b-439e-ab9d-18d0994de09e",
   "metadata": {},
   "outputs": [],
   "source": [
    "library(ggrepel)\n",
    "library(clusterProfiler)\n",
    "library(org.Mm.eg.db)\n",
    "library(GOSemSim)\n",
    "\n",
    "controlid <- c(\"O2\", \"O5\", \"O7\")\n",
    "exerciseid <- c(\"O3\", \"O4\", \"O6\", \"O8\")\n",
    "controlname <- \"OldControl\"\n",
    "exercisename <- \"OldExercise\"\n",
    "prefix <- \"Old\"\n",
    "\n",
    "metadata$group <- ifelse(metadata$ID %in% controlid, controlname, \n",
    "                     ifelse(metadata$ID %in% exerciseid, exercisename, NA))\n",
    "data@meta.data <- metadata\n",
    "\n",
    "for (celltype in celltypes) {\n",
    "    prefix <- \"Old\"\n",
    "\n",
    "    print(celltype)\n",
    "    prefix = paste(celltype, prefix)\n",
    "    \n",
    "    de_results <- FindMarkers(subset(data, subset = Celltype.LowRes == celltype), ident.1 = exercisename, ident.2 = controlname, group.by = \"group\", logfc.threshold = 0)\n",
    "\n",
    "    de_results <- de_results %>%\n",
    "                    mutate(significant = ifelse(p_val_adj < 0.005 & abs(avg_log2FC) > 0.25, \"yes\", \"no\"))\n",
    "    significantdata <- de_results %>% filter(significant == \"yes\")\n",
    "    \n",
    "    significantgenes <- rownames(significantdata)\n",
    "\n",
    "    geneIDs <- list(select(org.Mm.eg.db, keys = significantgenes, columns = c(\"ENTREZID\"), keytype = \"SYMBOL\")$ENTREZID)\n",
    "\n",
    "    geneIDs <- as.numeric(as.character(unlist(geneIDs[[1]])))\n",
    "    \n",
    "    ego <- enrichGO(gene = geneIDs,\n",
    "                OrgDb = org.Mm.eg.db,\n",
    "                keyType = \"ENTREZID\",\n",
    "                ont = \"BP\",\n",
    "                pAdjustMethod = \"BH\",\n",
    "                pvalueCutoff = 0.05,\n",
    "                qvalueCutoff = 0.05)\n",
    "    \n",
    "    if (!is.null(ego)){\n",
    "        egowithgenenames <- as.data.frame(ego) %>%\n",
    "            rowwise() %>%\n",
    "            mutate(gene_names = idstoname(geneID))\n",
    "            \n",
    "        egowithgenenames <- ungroup(egowithgenenames)\n",
    "        \n",
    "        egowithgenenames <- egowithgenenames %>%\n",
    "            mutate(TermCoverage = as.numeric(str_extract(GeneRatio, \"^[0-9]+\"))/as.numeric(str_extract(BgRatio, \"^[0-9]+\")))\n",
    "    \n",
    "        bottom10pvalues <- egowithgenenames[order(egowithgenenames$pvalue),][1:10,]\n",
    "        \n",
    "        all_gene_names <- extract_gene_names(bottom10pvalues)\n",
    "\n",
    "        output_file <- paste0(\"/gpfs/home/meyin/gene_sets/parabiosis/wilcox_top10/old/\", celltype, \"_genes.txt\")\n",
    "        \n",
    "        writeLines(all_gene_names, output_file)\n",
    "    }\n",
    "}"
   ]
  },
  {
   "cell_type": "code",
   "execution_count": null,
   "id": "90bc0095-6761-4dbf-8344-01d17cf6a2d5",
   "metadata": {},
   "outputs": [],
   "source": [
    "library(ggrepel)\n",
    "library(clusterProfiler)\n",
    "library(org.Mm.eg.db)\n",
    "library(GOSemSim)\n",
    "\n",
    "controlid <- c(\"Y1\", \"Y2\", \"Y5\", \"Y7\")\n",
    "exerciseid <- c(\"Y3\", \"Y4\", \"Y6\", \"Y8\")\n",
    "controlname <- \"YoungControl\"\n",
    "exercisename <- \"YoungExercise\"\n",
    "prefix <- \"Young\"\n",
    "\n",
    "metadata$group <- ifelse(metadata$ID %in% controlid, controlname, \n",
    "                     ifelse(metadata$ID %in% exerciseid, exercisename, NA))\n",
    "data@meta.data <- metadata\n",
    "\n",
    "for (celltype in celltypes) {\n",
    "    prefix <- \"Young\"\n",
    "\n",
    "    print(celltype)\n",
    "    prefix = paste(celltype, prefix)\n",
    "    \n",
    "    de_results <- FindMarkers(subset(data, subset = Celltype.LowRes == celltype), ident.1 = exercisename, ident.2 = controlname, group.by = \"group\", logfc.threshold = 0)\n",
    "\n",
    "    de_results <- de_results %>%\n",
    "                    mutate(significant = ifelse(p_val_adj < 0.005 & abs(avg_log2FC) > 0.25, \"yes\", \"no\"))\n",
    "    significantdata <- de_results %>% filter(significant == \"yes\")\n",
    "    \n",
    "    significantgenes <- rownames(significantdata)\n",
    "\n",
    "    geneIDs <- list(select(org.Mm.eg.db, keys = significantgenes, columns = c(\"ENTREZID\"), keytype = \"SYMBOL\")$ENTREZID)\n",
    "\n",
    "    geneIDs <- as.numeric(as.character(unlist(geneIDs[[1]])))\n",
    "    \n",
    "    ego <- enrichGO(gene = geneIDs,\n",
    "                OrgDb = org.Mm.eg.db,\n",
    "                keyType = \"ENTREZID\",\n",
    "                ont = \"BP\",\n",
    "                pAdjustMethod = \"BH\",\n",
    "                pvalueCutoff = 0.05,\n",
    "                qvalueCutoff = 0.05)\n",
    "    \n",
    "    if (!is.null(ego)){\n",
    "        egowithgenenames <- as.data.frame(ego) %>%\n",
    "            rowwise() %>%\n",
    "            mutate(gene_names = idstoname(geneID))\n",
    "            \n",
    "        egowithgenenames <- ungroup(egowithgenenames)\n",
    "        \n",
    "        egowithgenenames <- egowithgenenames %>%\n",
    "            mutate(TermCoverage = as.numeric(str_extract(GeneRatio, \"^[0-9]+\"))/as.numeric(str_extract(BgRatio, \"^[0-9]+\")))\n",
    "    \n",
    "        bottom10pvalues <- egowithgenenames[order(egowithgenenames$pvalue),][1:10,]\n",
    "        \n",
    "        all_gene_names <- extract_gene_names(bottom10pvalues)\n",
    "\n",
    "        output_file <- paste0(\"/gpfs/home/meyin/gene_sets/parabiosis/young\", celltype, \"_genes.txt\")\n",
    "        \n",
    "        writeLines(all_gene_names, output_file)\n",
    "    }\n",
    "}"
   ]
  },
  {
   "cell_type": "code",
   "execution_count": null,
   "id": "a0a95bbc-24e4-4a86-9890-99184c854e1d",
   "metadata": {},
   "outputs": [],
   "source": []
  },
  {
   "cell_type": "code",
   "execution_count": null,
   "id": "3e091fa4-03b9-4b27-8d17-b407a2d9737c",
   "metadata": {},
   "outputs": [],
   "source": []
  },
  {
   "cell_type": "code",
   "execution_count": null,
   "id": "c7affce0-93a8-4ea6-aab8-e842687c473f",
   "metadata": {},
   "outputs": [],
   "source": []
  },
  {
   "cell_type": "code",
   "execution_count": null,
   "id": "48f3ea32-4e24-40eb-b66a-a0eb357360a5",
   "metadata": {},
   "outputs": [],
   "source": []
  },
  {
   "cell_type": "code",
   "execution_count": null,
   "id": "ddaf6859-a920-444e-8142-1a4937e02689",
   "metadata": {},
   "outputs": [],
   "source": []
  },
  {
   "cell_type": "code",
   "execution_count": null,
   "id": "5c68523c-d16b-4ecb-9c28-694d36ae2b7a",
   "metadata": {},
   "outputs": [],
   "source": []
  },
  {
   "cell_type": "code",
   "execution_count": null,
   "id": "b59f65d4-6c0c-48a2-ba96-5de527a2d717",
   "metadata": {},
   "outputs": [],
   "source": []
  },
  {
   "cell_type": "code",
   "execution_count": null,
   "id": "112768d1-4e53-4e49-a0ef-7402ab8fa3f8",
   "metadata": {},
   "outputs": [],
   "source": []
  }
 ],
 "metadata": {
  "kernelspec": {
   "display_name": "R4.0.0",
   "language": "R",
   "name": "ir"
  },
  "language_info": {
   "codemirror_mode": "r",
   "file_extension": ".r",
   "mimetype": "text/x-r-source",
   "name": "R",
   "pygments_lexer": "r",
   "version": "4.0.0"
  }
 },
 "nbformat": 4,
 "nbformat_minor": 5
}

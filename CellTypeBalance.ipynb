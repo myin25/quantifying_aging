{
 "cells": [
  {
   "cell_type": "code",
   "execution_count": 1,
   "id": "050dc0fc-840a-4839-bb40-bccf1e9b8d30",
   "metadata": {},
   "outputs": [
    {
     "name": "stderr",
     "output_type": "stream",
     "text": [
      "── \u001b[1mAttaching core tidyverse packages\u001b[22m ──────────────────────── tidyverse 2.0.0 ──\n",
      "\u001b[32m✔\u001b[39m \u001b[34mdplyr    \u001b[39m 1.1.4     \u001b[32m✔\u001b[39m \u001b[34mreadr    \u001b[39m 2.1.4\n",
      "\u001b[32m✔\u001b[39m \u001b[34mforcats  \u001b[39m 1.0.0     \u001b[32m✔\u001b[39m \u001b[34mstringr  \u001b[39m 1.5.1\n",
      "\u001b[32m✔\u001b[39m \u001b[34mlubridate\u001b[39m 1.9.3     \u001b[32m✔\u001b[39m \u001b[34mtibble   \u001b[39m 3.2.1\n",
      "\u001b[32m✔\u001b[39m \u001b[34mpurrr    \u001b[39m 1.0.2     \u001b[32m✔\u001b[39m \u001b[34mtidyr    \u001b[39m 1.3.0\n",
      "── \u001b[1mConflicts\u001b[22m ────────────────────────────────────────── tidyverse_conflicts() ──\n",
      "\u001b[31m✖\u001b[39m \u001b[34mdplyr\u001b[39m::\u001b[32mfilter()\u001b[39m masks \u001b[34mstats\u001b[39m::filter()\n",
      "\u001b[31m✖\u001b[39m \u001b[34mdplyr\u001b[39m::\u001b[32mlag()\u001b[39m    masks \u001b[34mstats\u001b[39m::lag()\n",
      "\u001b[36mℹ\u001b[39m Use the conflicted package (\u001b[3m\u001b[34m<http://conflicted.r-lib.org/>\u001b[39m\u001b[23m) to force all conflicts to become errors\n",
      "Attaching SeuratObject\n",
      "\n",
      "‘SeuratObject’ was built with package ‘Matrix’ 1.6.1.1 but the current\n",
      "version is 1.6.4; it is recomended that you reinstall ‘SeuratObject’ as\n",
      "the ABI for ‘Matrix’ may have changed\n",
      "\n"
     ]
    }
   ],
   "source": [
    "library(ggplot2)\n",
    "library(tidyverse)\n",
    "library(lubridate)\n",
    "library(Seurat)"
   ]
  },
  {
   "cell_type": "code",
   "execution_count": 13,
   "id": "6eb971c1-32cc-48b7-9a86-b3f823513549",
   "metadata": {},
   "outputs": [],
   "source": [
    "filename <- \"/gpfs/home/meyin/published_data/parabiosis/pb_combined.rds?download=1\"\n",
    "data <- readRDS(filename)"
   ]
  },
  {
   "cell_type": "code",
   "execution_count": 14,
   "id": "7a418105-2d69-4cd1-9a94-828acc455571",
   "metadata": {
    "scrolled": true
   },
   "outputs": [
    {
     "data": {
      "text/html": [
       "<table class=\"dataframe\">\n",
       "<caption>A data.frame: 10 × 41</caption>\n",
       "<thead>\n",
       "\t<tr><th></th><th scope=col>orig.ident</th><th scope=col>nCount_RNA</th><th scope=col>nFeature_RNA</th><th scope=col>percent.mt</th><th scope=col>RNA_snn_res.0.15</th><th scope=col>seurat_clusters</th><th scope=col>RNA_snn_res.0.25</th><th scope=col>RNA_snn_res.0.5</th><th scope=col>LMO_maxID</th><th scope=col>LMO_secondID</th><th scope=col>⋯</th><th scope=col>Experiment</th><th scope=col>nGene</th><th scope=col>nUMI</th><th scope=col>percent.mito</th><th scope=col>res.0.2</th><th scope=col>SCT_snn_res.0.5</th><th scope=col>SCT_snn_res.0.6</th><th scope=col>SCT_snn_res.0.55</th><th scope=col>SCT_snn_res.0.52</th><th scope=col>SCT_snn_res.0.53</th></tr>\n",
       "\t<tr><th></th><th scope=col>&lt;chr&gt;</th><th scope=col>&lt;dbl&gt;</th><th scope=col>&lt;int&gt;</th><th scope=col>&lt;dbl&gt;</th><th scope=col>&lt;chr&gt;</th><th scope=col>&lt;fct&gt;</th><th scope=col>&lt;chr&gt;</th><th scope=col>&lt;chr&gt;</th><th scope=col>&lt;chr&gt;</th><th scope=col>&lt;chr&gt;</th><th scope=col>⋯</th><th scope=col>&lt;chr&gt;</th><th scope=col>&lt;int&gt;</th><th scope=col>&lt;dbl&gt;</th><th scope=col>&lt;dbl&gt;</th><th scope=col>&lt;chr&gt;</th><th scope=col>&lt;fct&gt;</th><th scope=col>&lt;fct&gt;</th><th scope=col>&lt;fct&gt;</th><th scope=col>&lt;fct&gt;</th><th scope=col>&lt;fct&gt;</th></tr>\n",
       "</thead>\n",
       "<tbody>\n",
       "\t<tr><th scope=row>20_AAACCCATCGGTAGGA-1_1</th><td>GEX1</td><td> 5461</td><td>2259</td><td>3.918696</td><td>3</td><td>3</td><td>3</td><td>3</td><td>BC2-Young-Het-5.10-1B-B1-14300-TCAATGGC</td><td>BC1-Old-Het-20.50-1A-B1-25000-TGTGATGG </td><td>⋯</td><td>2020</td><td>NA</td><td>NA</td><td>NA</td><td>NA</td><td>1</td><td>2 </td><td>1</td><td>1</td><td>3</td></tr>\n",
       "\t<tr><th scope=row>20_AAACGAACAACCAACT-1_1</th><td>GEX1</td><td> 7542</td><td>2698</td><td>4.627420</td><td>1</td><td>7</td><td>4</td><td>4</td><td>BC3-Old-Iso-20.50-6A-B1-35260-CTCTAGAC </td><td>BC4-Old-Iso-20.50-6B-B1-16224-ACCAATGC </td><td>⋯</td><td>2020</td><td>NA</td><td>NA</td><td>NA</td><td>NA</td><td>5</td><td>5 </td><td>5</td><td>4</td><td>7</td></tr>\n",
       "\t<tr><th scope=row>20_AAACGAACAGGTTCAT-1_1</th><td>GEX1</td><td>15424</td><td>3461</td><td>3.060166</td><td>0</td><td>8</td><td>7</td><td>8</td><td>BC4-Old-Iso-20.50-6B-B1-16224-ACCAATGC </td><td>BC6-Old-Iso-20.50-9B-B1-29863-CGAACAAG </td><td>⋯</td><td>2020</td><td>NA</td><td>NA</td><td>NA</td><td>NA</td><td>0</td><td>7 </td><td>0</td><td>0</td><td>8</td></tr>\n",
       "\t<tr><th scope=row>20_AAACGAACATGGAACG-1_1</th><td>GEX1</td><td>11212</td><td>3462</td><td>4.584374</td><td>5</td><td>6</td><td>4</td><td>6</td><td>BC3-Old-Iso-20.50-6A-B1-35260-CTCTAGAC </td><td>BC4-Old-Iso-20.50-6B-B1-16224-ACCAATGC </td><td>⋯</td><td>2020</td><td>NA</td><td>NA</td><td>NA</td><td>NA</td><td>7</td><td>8 </td><td>7</td><td>4</td><td>6</td></tr>\n",
       "\t<tr><th scope=row>20_AAACGAAGTTGCGGCT-1_1</th><td>GEX1</td><td>10125</td><td>3303</td><td>3.348148</td><td>4</td><td>9</td><td>5</td><td>5</td><td>BC6-Old-Iso-20.50-9B-B1-29863-CGAACAAG </td><td>BC2-Young-Het-5.10-1B-B1-14300-TCAATGGC</td><td>⋯</td><td>2020</td><td>NA</td><td>NA</td><td>NA</td><td>NA</td><td>8</td><td>10</td><td>8</td><td>7</td><td>9</td></tr>\n",
       "\t<tr><th scope=row>20_AAACGAATCGTTCATT-1_1</th><td>GEX1</td><td> 7902</td><td>2773</td><td>3.809162</td><td>3</td><td>3</td><td>3</td><td>3</td><td>BC1-Old-Het-20.50-1A-B1-25000-TGTGATGG </td><td>BC6-Old-Iso-20.50-9B-B1-29863-CGAACAAG </td><td>⋯</td><td>2020</td><td>NA</td><td>NA</td><td>NA</td><td>NA</td><td>1</td><td>2 </td><td>1</td><td>1</td><td>3</td></tr>\n",
       "\t<tr><th scope=row>20_AAACGCTAGCCTAACT-1_1</th><td>GEX1</td><td> 4324</td><td>1829</td><td>3.075856</td><td>3</td><td>3</td><td>3</td><td>3</td><td>BC3-Old-Iso-20.50-6A-B1-35260-CTCTAGAC </td><td>BC6-Old-Iso-20.50-9B-B1-29863-CGAACAAG </td><td>⋯</td><td>2020</td><td>NA</td><td>NA</td><td>NA</td><td>NA</td><td>1</td><td>2 </td><td>1</td><td>1</td><td>3</td></tr>\n",
       "\t<tr><th scope=row>20_AAACGCTAGCGACCCT-1_1</th><td>GEX1</td><td>13439</td><td>3710</td><td>5.305454</td><td>1</td><td>6</td><td>4</td><td>4</td><td>BC4-Old-Iso-20.50-6B-B1-16224-ACCAATGC </td><td>BC5-Old-Iso-20.50-9A-B1-24388-AGTTGCGT </td><td>⋯</td><td>2020</td><td>NA</td><td>NA</td><td>NA</td><td>NA</td><td>7</td><td>8 </td><td>7</td><td>4</td><td>6</td></tr>\n",
       "\t<tr><th scope=row>20_AAACGCTAGGTAGTCG-1_1</th><td>GEX1</td><td> 8253</td><td>2821</td><td>4.640737</td><td>1</td><td>7</td><td>1</td><td>4</td><td>BC4-Old-Iso-20.50-6B-B1-16224-ACCAATGC </td><td>BC2-Young-Het-5.10-1B-B1-14300-TCAATGGC</td><td>⋯</td><td>2020</td><td>NA</td><td>NA</td><td>NA</td><td>NA</td><td>5</td><td>5 </td><td>5</td><td>4</td><td>7</td></tr>\n",
       "\t<tr><th scope=row>20_AAACGCTTCGCAGTCG-1_1</th><td>GEX1</td><td> 5762</td><td>2182</td><td>5.900729</td><td>1</td><td>4</td><td>1</td><td>1</td><td>BC2-Young-Het-5.10-1B-B1-14300-TCAATGGC</td><td>BC4-Old-Iso-20.50-6B-B1-16224-ACCAATGC </td><td>⋯</td><td>2020</td><td>NA</td><td>NA</td><td>NA</td><td>NA</td><td>4</td><td>4 </td><td>4</td><td>5</td><td>4</td></tr>\n",
       "</tbody>\n",
       "</table>\n"
      ],
      "text/latex": [
       "A data.frame: 10 × 41\n",
       "\\begin{tabular}{r|lllllllllllllllllllll}\n",
       "  & orig.ident & nCount\\_RNA & nFeature\\_RNA & percent.mt & RNA\\_snn\\_res.0.15 & seurat\\_clusters & RNA\\_snn\\_res.0.25 & RNA\\_snn\\_res.0.5 & LMO\\_maxID & LMO\\_secondID & ⋯ & Experiment & nGene & nUMI & percent.mito & res.0.2 & SCT\\_snn\\_res.0.5 & SCT\\_snn\\_res.0.6 & SCT\\_snn\\_res.0.55 & SCT\\_snn\\_res.0.52 & SCT\\_snn\\_res.0.53\\\\\n",
       "  & <chr> & <dbl> & <int> & <dbl> & <chr> & <fct> & <chr> & <chr> & <chr> & <chr> & ⋯ & <chr> & <int> & <dbl> & <dbl> & <chr> & <fct> & <fct> & <fct> & <fct> & <fct>\\\\\n",
       "\\hline\n",
       "\t20\\_AAACCCATCGGTAGGA-1\\_1 & GEX1 &  5461 & 2259 & 3.918696 & 3 & 3 & 3 & 3 & BC2-Young-Het-5.10-1B-B1-14300-TCAATGGC & BC1-Old-Het-20.50-1A-B1-25000-TGTGATGG  & ⋯ & 2020 & NA & NA & NA & NA & 1 & 2  & 1 & 1 & 3\\\\\n",
       "\t20\\_AAACGAACAACCAACT-1\\_1 & GEX1 &  7542 & 2698 & 4.627420 & 1 & 7 & 4 & 4 & BC3-Old-Iso-20.50-6A-B1-35260-CTCTAGAC  & BC4-Old-Iso-20.50-6B-B1-16224-ACCAATGC  & ⋯ & 2020 & NA & NA & NA & NA & 5 & 5  & 5 & 4 & 7\\\\\n",
       "\t20\\_AAACGAACAGGTTCAT-1\\_1 & GEX1 & 15424 & 3461 & 3.060166 & 0 & 8 & 7 & 8 & BC4-Old-Iso-20.50-6B-B1-16224-ACCAATGC  & BC6-Old-Iso-20.50-9B-B1-29863-CGAACAAG  & ⋯ & 2020 & NA & NA & NA & NA & 0 & 7  & 0 & 0 & 8\\\\\n",
       "\t20\\_AAACGAACATGGAACG-1\\_1 & GEX1 & 11212 & 3462 & 4.584374 & 5 & 6 & 4 & 6 & BC3-Old-Iso-20.50-6A-B1-35260-CTCTAGAC  & BC4-Old-Iso-20.50-6B-B1-16224-ACCAATGC  & ⋯ & 2020 & NA & NA & NA & NA & 7 & 8  & 7 & 4 & 6\\\\\n",
       "\t20\\_AAACGAAGTTGCGGCT-1\\_1 & GEX1 & 10125 & 3303 & 3.348148 & 4 & 9 & 5 & 5 & BC6-Old-Iso-20.50-9B-B1-29863-CGAACAAG  & BC2-Young-Het-5.10-1B-B1-14300-TCAATGGC & ⋯ & 2020 & NA & NA & NA & NA & 8 & 10 & 8 & 7 & 9\\\\\n",
       "\t20\\_AAACGAATCGTTCATT-1\\_1 & GEX1 &  7902 & 2773 & 3.809162 & 3 & 3 & 3 & 3 & BC1-Old-Het-20.50-1A-B1-25000-TGTGATGG  & BC6-Old-Iso-20.50-9B-B1-29863-CGAACAAG  & ⋯ & 2020 & NA & NA & NA & NA & 1 & 2  & 1 & 1 & 3\\\\\n",
       "\t20\\_AAACGCTAGCCTAACT-1\\_1 & GEX1 &  4324 & 1829 & 3.075856 & 3 & 3 & 3 & 3 & BC3-Old-Iso-20.50-6A-B1-35260-CTCTAGAC  & BC6-Old-Iso-20.50-9B-B1-29863-CGAACAAG  & ⋯ & 2020 & NA & NA & NA & NA & 1 & 2  & 1 & 1 & 3\\\\\n",
       "\t20\\_AAACGCTAGCGACCCT-1\\_1 & GEX1 & 13439 & 3710 & 5.305454 & 1 & 6 & 4 & 4 & BC4-Old-Iso-20.50-6B-B1-16224-ACCAATGC  & BC5-Old-Iso-20.50-9A-B1-24388-AGTTGCGT  & ⋯ & 2020 & NA & NA & NA & NA & 7 & 8  & 7 & 4 & 6\\\\\n",
       "\t20\\_AAACGCTAGGTAGTCG-1\\_1 & GEX1 &  8253 & 2821 & 4.640737 & 1 & 7 & 1 & 4 & BC4-Old-Iso-20.50-6B-B1-16224-ACCAATGC  & BC2-Young-Het-5.10-1B-B1-14300-TCAATGGC & ⋯ & 2020 & NA & NA & NA & NA & 5 & 5  & 5 & 4 & 7\\\\\n",
       "\t20\\_AAACGCTTCGCAGTCG-1\\_1 & GEX1 &  5762 & 2182 & 5.900729 & 1 & 4 & 1 & 1 & BC2-Young-Het-5.10-1B-B1-14300-TCAATGGC & BC4-Old-Iso-20.50-6B-B1-16224-ACCAATGC  & ⋯ & 2020 & NA & NA & NA & NA & 4 & 4  & 4 & 5 & 4\\\\\n",
       "\\end{tabular}\n"
      ],
      "text/markdown": [
       "\n",
       "A data.frame: 10 × 41\n",
       "\n",
       "| <!--/--> | orig.ident &lt;chr&gt; | nCount_RNA &lt;dbl&gt; | nFeature_RNA &lt;int&gt; | percent.mt &lt;dbl&gt; | RNA_snn_res.0.15 &lt;chr&gt; | seurat_clusters &lt;fct&gt; | RNA_snn_res.0.25 &lt;chr&gt; | RNA_snn_res.0.5 &lt;chr&gt; | LMO_maxID &lt;chr&gt; | LMO_secondID &lt;chr&gt; | ⋯ ⋯ | Experiment &lt;chr&gt; | nGene &lt;int&gt; | nUMI &lt;dbl&gt; | percent.mito &lt;dbl&gt; | res.0.2 &lt;chr&gt; | SCT_snn_res.0.5 &lt;fct&gt; | SCT_snn_res.0.6 &lt;fct&gt; | SCT_snn_res.0.55 &lt;fct&gt; | SCT_snn_res.0.52 &lt;fct&gt; | SCT_snn_res.0.53 &lt;fct&gt; |\n",
       "|---|---|---|---|---|---|---|---|---|---|---|---|---|---|---|---|---|---|---|---|---|---|\n",
       "| 20_AAACCCATCGGTAGGA-1_1 | GEX1 |  5461 | 2259 | 3.918696 | 3 | 3 | 3 | 3 | BC2-Young-Het-5.10-1B-B1-14300-TCAATGGC | BC1-Old-Het-20.50-1A-B1-25000-TGTGATGG  | ⋯ | 2020 | NA | NA | NA | NA | 1 | 2  | 1 | 1 | 3 |\n",
       "| 20_AAACGAACAACCAACT-1_1 | GEX1 |  7542 | 2698 | 4.627420 | 1 | 7 | 4 | 4 | BC3-Old-Iso-20.50-6A-B1-35260-CTCTAGAC  | BC4-Old-Iso-20.50-6B-B1-16224-ACCAATGC  | ⋯ | 2020 | NA | NA | NA | NA | 5 | 5  | 5 | 4 | 7 |\n",
       "| 20_AAACGAACAGGTTCAT-1_1 | GEX1 | 15424 | 3461 | 3.060166 | 0 | 8 | 7 | 8 | BC4-Old-Iso-20.50-6B-B1-16224-ACCAATGC  | BC6-Old-Iso-20.50-9B-B1-29863-CGAACAAG  | ⋯ | 2020 | NA | NA | NA | NA | 0 | 7  | 0 | 0 | 8 |\n",
       "| 20_AAACGAACATGGAACG-1_1 | GEX1 | 11212 | 3462 | 4.584374 | 5 | 6 | 4 | 6 | BC3-Old-Iso-20.50-6A-B1-35260-CTCTAGAC  | BC4-Old-Iso-20.50-6B-B1-16224-ACCAATGC  | ⋯ | 2020 | NA | NA | NA | NA | 7 | 8  | 7 | 4 | 6 |\n",
       "| 20_AAACGAAGTTGCGGCT-1_1 | GEX1 | 10125 | 3303 | 3.348148 | 4 | 9 | 5 | 5 | BC6-Old-Iso-20.50-9B-B1-29863-CGAACAAG  | BC2-Young-Het-5.10-1B-B1-14300-TCAATGGC | ⋯ | 2020 | NA | NA | NA | NA | 8 | 10 | 8 | 7 | 9 |\n",
       "| 20_AAACGAATCGTTCATT-1_1 | GEX1 |  7902 | 2773 | 3.809162 | 3 | 3 | 3 | 3 | BC1-Old-Het-20.50-1A-B1-25000-TGTGATGG  | BC6-Old-Iso-20.50-9B-B1-29863-CGAACAAG  | ⋯ | 2020 | NA | NA | NA | NA | 1 | 2  | 1 | 1 | 3 |\n",
       "| 20_AAACGCTAGCCTAACT-1_1 | GEX1 |  4324 | 1829 | 3.075856 | 3 | 3 | 3 | 3 | BC3-Old-Iso-20.50-6A-B1-35260-CTCTAGAC  | BC6-Old-Iso-20.50-9B-B1-29863-CGAACAAG  | ⋯ | 2020 | NA | NA | NA | NA | 1 | 2  | 1 | 1 | 3 |\n",
       "| 20_AAACGCTAGCGACCCT-1_1 | GEX1 | 13439 | 3710 | 5.305454 | 1 | 6 | 4 | 4 | BC4-Old-Iso-20.50-6B-B1-16224-ACCAATGC  | BC5-Old-Iso-20.50-9A-B1-24388-AGTTGCGT  | ⋯ | 2020 | NA | NA | NA | NA | 7 | 8  | 7 | 4 | 6 |\n",
       "| 20_AAACGCTAGGTAGTCG-1_1 | GEX1 |  8253 | 2821 | 4.640737 | 1 | 7 | 1 | 4 | BC4-Old-Iso-20.50-6B-B1-16224-ACCAATGC  | BC2-Young-Het-5.10-1B-B1-14300-TCAATGGC | ⋯ | 2020 | NA | NA | NA | NA | 5 | 5  | 5 | 4 | 7 |\n",
       "| 20_AAACGCTTCGCAGTCG-1_1 | GEX1 |  5762 | 2182 | 5.900729 | 1 | 4 | 1 | 1 | BC2-Young-Het-5.10-1B-B1-14300-TCAATGGC | BC4-Old-Iso-20.50-6B-B1-16224-ACCAATGC  | ⋯ | 2020 | NA | NA | NA | NA | 4 | 4  | 4 | 5 | 4 |\n",
       "\n"
      ],
      "text/plain": [
       "                        orig.ident nCount_RNA nFeature_RNA percent.mt\n",
       "20_AAACCCATCGGTAGGA-1_1 GEX1        5461      2259         3.918696  \n",
       "20_AAACGAACAACCAACT-1_1 GEX1        7542      2698         4.627420  \n",
       "20_AAACGAACAGGTTCAT-1_1 GEX1       15424      3461         3.060166  \n",
       "20_AAACGAACATGGAACG-1_1 GEX1       11212      3462         4.584374  \n",
       "20_AAACGAAGTTGCGGCT-1_1 GEX1       10125      3303         3.348148  \n",
       "20_AAACGAATCGTTCATT-1_1 GEX1        7902      2773         3.809162  \n",
       "20_AAACGCTAGCCTAACT-1_1 GEX1        4324      1829         3.075856  \n",
       "20_AAACGCTAGCGACCCT-1_1 GEX1       13439      3710         5.305454  \n",
       "20_AAACGCTAGGTAGTCG-1_1 GEX1        8253      2821         4.640737  \n",
       "20_AAACGCTTCGCAGTCG-1_1 GEX1        5762      2182         5.900729  \n",
       "                        RNA_snn_res.0.15 seurat_clusters RNA_snn_res.0.25\n",
       "20_AAACCCATCGGTAGGA-1_1 3                3               3               \n",
       "20_AAACGAACAACCAACT-1_1 1                7               4               \n",
       "20_AAACGAACAGGTTCAT-1_1 0                8               7               \n",
       "20_AAACGAACATGGAACG-1_1 5                6               4               \n",
       "20_AAACGAAGTTGCGGCT-1_1 4                9               5               \n",
       "20_AAACGAATCGTTCATT-1_1 3                3               3               \n",
       "20_AAACGCTAGCCTAACT-1_1 3                3               3               \n",
       "20_AAACGCTAGCGACCCT-1_1 1                6               4               \n",
       "20_AAACGCTAGGTAGTCG-1_1 1                7               1               \n",
       "20_AAACGCTTCGCAGTCG-1_1 1                4               1               \n",
       "                        RNA_snn_res.0.5 LMO_maxID                              \n",
       "20_AAACCCATCGGTAGGA-1_1 3               BC2-Young-Het-5.10-1B-B1-14300-TCAATGGC\n",
       "20_AAACGAACAACCAACT-1_1 4               BC3-Old-Iso-20.50-6A-B1-35260-CTCTAGAC \n",
       "20_AAACGAACAGGTTCAT-1_1 8               BC4-Old-Iso-20.50-6B-B1-16224-ACCAATGC \n",
       "20_AAACGAACATGGAACG-1_1 6               BC3-Old-Iso-20.50-6A-B1-35260-CTCTAGAC \n",
       "20_AAACGAAGTTGCGGCT-1_1 5               BC6-Old-Iso-20.50-9B-B1-29863-CGAACAAG \n",
       "20_AAACGAATCGTTCATT-1_1 3               BC1-Old-Het-20.50-1A-B1-25000-TGTGATGG \n",
       "20_AAACGCTAGCCTAACT-1_1 3               BC3-Old-Iso-20.50-6A-B1-35260-CTCTAGAC \n",
       "20_AAACGCTAGCGACCCT-1_1 4               BC4-Old-Iso-20.50-6B-B1-16224-ACCAATGC \n",
       "20_AAACGCTAGGTAGTCG-1_1 4               BC4-Old-Iso-20.50-6B-B1-16224-ACCAATGC \n",
       "20_AAACGCTTCGCAGTCG-1_1 1               BC2-Young-Het-5.10-1B-B1-14300-TCAATGGC\n",
       "                        LMO_secondID                            ⋯ Experiment\n",
       "20_AAACCCATCGGTAGGA-1_1 BC1-Old-Het-20.50-1A-B1-25000-TGTGATGG  ⋯ 2020      \n",
       "20_AAACGAACAACCAACT-1_1 BC4-Old-Iso-20.50-6B-B1-16224-ACCAATGC  ⋯ 2020      \n",
       "20_AAACGAACAGGTTCAT-1_1 BC6-Old-Iso-20.50-9B-B1-29863-CGAACAAG  ⋯ 2020      \n",
       "20_AAACGAACATGGAACG-1_1 BC4-Old-Iso-20.50-6B-B1-16224-ACCAATGC  ⋯ 2020      \n",
       "20_AAACGAAGTTGCGGCT-1_1 BC2-Young-Het-5.10-1B-B1-14300-TCAATGGC ⋯ 2020      \n",
       "20_AAACGAATCGTTCATT-1_1 BC6-Old-Iso-20.50-9B-B1-29863-CGAACAAG  ⋯ 2020      \n",
       "20_AAACGCTAGCCTAACT-1_1 BC6-Old-Iso-20.50-9B-B1-29863-CGAACAAG  ⋯ 2020      \n",
       "20_AAACGCTAGCGACCCT-1_1 BC5-Old-Iso-20.50-9A-B1-24388-AGTTGCGT  ⋯ 2020      \n",
       "20_AAACGCTAGGTAGTCG-1_1 BC2-Young-Het-5.10-1B-B1-14300-TCAATGGC ⋯ 2020      \n",
       "20_AAACGCTTCGCAGTCG-1_1 BC4-Old-Iso-20.50-6B-B1-16224-ACCAATGC  ⋯ 2020      \n",
       "                        nGene nUMI percent.mito res.0.2 SCT_snn_res.0.5\n",
       "20_AAACCCATCGGTAGGA-1_1 NA    NA   NA           NA      1              \n",
       "20_AAACGAACAACCAACT-1_1 NA    NA   NA           NA      5              \n",
       "20_AAACGAACAGGTTCAT-1_1 NA    NA   NA           NA      0              \n",
       "20_AAACGAACATGGAACG-1_1 NA    NA   NA           NA      7              \n",
       "20_AAACGAAGTTGCGGCT-1_1 NA    NA   NA           NA      8              \n",
       "20_AAACGAATCGTTCATT-1_1 NA    NA   NA           NA      1              \n",
       "20_AAACGCTAGCCTAACT-1_1 NA    NA   NA           NA      1              \n",
       "20_AAACGCTAGCGACCCT-1_1 NA    NA   NA           NA      7              \n",
       "20_AAACGCTAGGTAGTCG-1_1 NA    NA   NA           NA      5              \n",
       "20_AAACGCTTCGCAGTCG-1_1 NA    NA   NA           NA      4              \n",
       "                        SCT_snn_res.0.6 SCT_snn_res.0.55 SCT_snn_res.0.52\n",
       "20_AAACCCATCGGTAGGA-1_1 2               1                1               \n",
       "20_AAACGAACAACCAACT-1_1 5               5                4               \n",
       "20_AAACGAACAGGTTCAT-1_1 7               0                0               \n",
       "20_AAACGAACATGGAACG-1_1 8               7                4               \n",
       "20_AAACGAAGTTGCGGCT-1_1 10              8                7               \n",
       "20_AAACGAATCGTTCATT-1_1 2               1                1               \n",
       "20_AAACGCTAGCCTAACT-1_1 2               1                1               \n",
       "20_AAACGCTAGCGACCCT-1_1 8               7                4               \n",
       "20_AAACGCTAGGTAGTCG-1_1 5               5                4               \n",
       "20_AAACGCTTCGCAGTCG-1_1 4               4                5               \n",
       "                        SCT_snn_res.0.53\n",
       "20_AAACCCATCGGTAGGA-1_1 3               \n",
       "20_AAACGAACAACCAACT-1_1 7               \n",
       "20_AAACGAACAGGTTCAT-1_1 8               \n",
       "20_AAACGAACATGGAACG-1_1 6               \n",
       "20_AAACGAAGTTGCGGCT-1_1 9               \n",
       "20_AAACGAATCGTTCATT-1_1 3               \n",
       "20_AAACGCTAGCCTAACT-1_1 3               \n",
       "20_AAACGCTAGCGACCCT-1_1 6               \n",
       "20_AAACGCTAGGTAGTCG-1_1 7               \n",
       "20_AAACGCTTCGCAGTCG-1_1 4               "
      ]
     },
     "metadata": {},
     "output_type": "display_data"
    }
   ],
   "source": [
    "head(data)"
   ]
  },
  {
   "cell_type": "code",
   "execution_count": 15,
   "id": "778fe30d-358e-42ba-bc6b-8136fb643648",
   "metadata": {},
   "outputs": [],
   "source": [
    "data@meta.data <- data@meta.data %>%\n",
    "  mutate(ID = sub(\"-.*\", \"\", hash.ID))"
   ]
  },
  {
   "cell_type": "code",
   "execution_count": 16,
   "id": "286891fb-8584-4c2c-a65d-19156226117e",
   "metadata": {},
   "outputs": [],
   "source": [
    "data@meta.data <- data@meta.data %>%\n",
    "  mutate(AgeCond = paste0(substr(Age, 1, 1), \"_\", Type))"
   ]
  },
  {
   "cell_type": "code",
   "execution_count": 18,
   "id": "22cf35b0-e7dc-4442-9386-5bf9d5f40c17",
   "metadata": {},
   "outputs": [
    {
     "data": {
      "text/plain": [
       "\n",
       "NA_NA O_Het O_Iso Y_Het Y_Iso \n",
       "11771  3363  2620  4118  3723 "
      ]
     },
     "metadata": {},
     "output_type": "display_data"
    }
   ],
   "source": [
    "table(data$AgeCond)"
   ]
  },
  {
   "cell_type": "code",
   "execution_count": 20,
   "id": "babe0464-80c7-4d37-a91a-60cbba062df0",
   "metadata": {},
   "outputs": [],
   "source": [
    "ocontroldistributions <- as.data.frame(table(subset(data, subset = AgeCond == \"O_Iso\")$Celltype))\n",
    "oexercisedistributions <- as.data.frame(table(subset(data, subset = AgeCond == \"O_Het\")$Celltype))\n",
    "ycontroldistributions <- as.data.frame(table(subset(data, subset = AgeCond == \"Y_Iso\")$Celltype))\n",
    "yexercisedistributions <- as.data.frame(table(subset(data, subset = AgeCond == \"Y_Het\")$Celltype))"
   ]
  },
  {
   "cell_type": "code",
   "execution_count": 21,
   "id": "3cd37cb1-9aad-410b-b469-5a45bac62626",
   "metadata": {},
   "outputs": [],
   "source": [
    "ocontroldistributions <- ocontroldistributions[ocontroldistributions$Var1 != \"Doublet\", ]\n",
    "oexercisedistributions <- oexercisedistributions[oexercisedistributions$Var1 != \"Doublet\", ]\n",
    "ycontroldistributions <- ycontroldistributions[ycontroldistributions$Var1 != \"Doublet\", ]\n",
    "yexercisedistributions <- yexercisedistributions[yexercisedistributions$Var1 != \"Doublet\", ]"
   ]
  },
  {
   "cell_type": "code",
   "execution_count": 23,
   "id": "1654b18f-26fa-4c92-b138-3935296b559d",
   "metadata": {},
   "outputs": [],
   "source": [
    "colnames(ocontroldistributions)[1] <- \"Cell_Type\"\n",
    "\n",
    "colnames(oexercisedistributions)[1] <- \"Cell_Type\"\n",
    "\n",
    "colnames(ycontroldistributions)[1] <- \"Cell_Type\"\n",
    "\n",
    "colnames(yexercisedistributions)[1] <- \"Cell_Type\""
   ]
  },
  {
   "cell_type": "code",
   "execution_count": 25,
   "id": "09f8ea54-f443-4bb4-ade4-56623f83fbf0",
   "metadata": {},
   "outputs": [],
   "source": [
    "ocontroldistributions$Group <- 'O_Control'\n",
    "oexercisedistributions$Group <- 'O_Exercise'\n",
    "ycontroldistributions$Group <- 'Y_Control'\n",
    "yexercisedistributions$Group <- 'Y_Exercise'"
   ]
  },
  {
   "cell_type": "code",
   "execution_count": 54,
   "id": "e3eab295-28a8-4787-bd46-a2d482aaf2eb",
   "metadata": {},
   "outputs": [],
   "source": [
    "distributions <- rbind(ocontroldistributions, oexercisedistributions)\n",
    "distributions <- rbind(distributions, ycontroldistributions)\n",
    "distributions <- rbind(distributions, yexercisedistributions)"
   ]
  },
  {
   "cell_type": "code",
   "execution_count": 55,
   "id": "0db337b9-79c0-445b-8863-03c6587a0069",
   "metadata": {},
   "outputs": [
    {
     "data": {
      "text/html": [
       "<table class=\"dataframe\">\n",
       "<caption>A data.frame: 6 × 3</caption>\n",
       "<thead>\n",
       "\t<tr><th></th><th scope=col>Cell_Type</th><th scope=col>Freq</th><th scope=col>Group</th></tr>\n",
       "\t<tr><th></th><th scope=col>&lt;fct&gt;</th><th scope=col>&lt;int&gt;</th><th scope=col>&lt;chr&gt;</th></tr>\n",
       "</thead>\n",
       "<tbody>\n",
       "\t<tr><th scope=row>1</th><td>Oligodendro   </td><td>843</td><td>O_Control</td></tr>\n",
       "\t<tr><th scope=row>2</th><td>Microglia     </td><td>749</td><td>O_Control</td></tr>\n",
       "\t<tr><th scope=row>3</th><td>Endothelial   </td><td>271</td><td>O_Control</td></tr>\n",
       "\t<tr><th scope=row>4</th><td>Astrocyte_qNSC</td><td>405</td><td>O_Control</td></tr>\n",
       "\t<tr><th scope=row>5</th><td>Neuroblast    </td><td>128</td><td>O_Control</td></tr>\n",
       "\t<tr><th scope=row>6</th><td>aNSC_NPC      </td><td> 91</td><td>O_Control</td></tr>\n",
       "</tbody>\n",
       "</table>\n"
      ],
      "text/latex": [
       "A data.frame: 6 × 3\n",
       "\\begin{tabular}{r|lll}\n",
       "  & Cell\\_Type & Freq & Group\\\\\n",
       "  & <fct> & <int> & <chr>\\\\\n",
       "\\hline\n",
       "\t1 & Oligodendro    & 843 & O\\_Control\\\\\n",
       "\t2 & Microglia      & 749 & O\\_Control\\\\\n",
       "\t3 & Endothelial    & 271 & O\\_Control\\\\\n",
       "\t4 & Astrocyte\\_qNSC & 405 & O\\_Control\\\\\n",
       "\t5 & Neuroblast     & 128 & O\\_Control\\\\\n",
       "\t6 & aNSC\\_NPC       &  91 & O\\_Control\\\\\n",
       "\\end{tabular}\n"
      ],
      "text/markdown": [
       "\n",
       "A data.frame: 6 × 3\n",
       "\n",
       "| <!--/--> | Cell_Type &lt;fct&gt; | Freq &lt;int&gt; | Group &lt;chr&gt; |\n",
       "|---|---|---|---|\n",
       "| 1 | Oligodendro    | 843 | O_Control |\n",
       "| 2 | Microglia      | 749 | O_Control |\n",
       "| 3 | Endothelial    | 271 | O_Control |\n",
       "| 4 | Astrocyte_qNSC | 405 | O_Control |\n",
       "| 5 | Neuroblast     | 128 | O_Control |\n",
       "| 6 | aNSC_NPC       |  91 | O_Control |\n",
       "\n"
      ],
      "text/plain": [
       "  Cell_Type      Freq Group    \n",
       "1 Oligodendro    843  O_Control\n",
       "2 Microglia      749  O_Control\n",
       "3 Endothelial    271  O_Control\n",
       "4 Astrocyte_qNSC 405  O_Control\n",
       "5 Neuroblast     128  O_Control\n",
       "6 aNSC_NPC        91  O_Control"
      ]
     },
     "metadata": {},
     "output_type": "display_data"
    }
   ],
   "source": [
    "head(distributions)"
   ]
  },
  {
   "cell_type": "code",
   "execution_count": 56,
   "id": "4f5e4ad5-851b-4f96-af5f-985d8b8406a4",
   "metadata": {},
   "outputs": [],
   "source": [
    "distributions <- distributions %>%\n",
    "                      group_by(Group) %>%\n",
    "                      mutate(totalFreq = sum(Freq)) %>%\n",
    "                      mutate(Percent = Freq / totalFreq * 100) %>%\n",
    "                      ungroup() %>%\n",
    "                      select(-totalFreq)"
   ]
  },
  {
   "cell_type": "code",
   "execution_count": 60,
   "id": "ae94f882-9809-42e0-943f-0357af380178",
   "metadata": {},
   "outputs": [],
   "source": [
    "distributions <- transform(distributions, Cell_Type = as.character(Cell_Type)) "
   ]
  },
  {
   "cell_type": "code",
   "execution_count": 61,
   "id": "8e2768b0-ec25-4d5a-95c8-9595081c5655",
   "metadata": {},
   "outputs": [],
   "source": [
    "cellorder <- c(\"Microglia\", \"Astrocyte_qNSC\", \"Endothelial\", \"Neuroblast\", \"Oligodendro\", \"aNSC_NPC\", \"Mural\", \"OPC\", \"Macrophage_Tcell_NK\", \"Neuron\", \"Ependymal\")\n",
    "\n",
    "distributions$Cell_Type <- factor(distributions$Cell_Type, levels = cellorder, ordered = TRUE)\n"
   ]
  },
  {
   "cell_type": "code",
   "execution_count": 44,
   "id": "8836a322-3ceb-4d7c-968d-f0d3e5d9d36e",
   "metadata": {
    "scrolled": true
   },
   "outputs": [],
   "source": [
    "distributions <- distributions[order(distributions$Cell_Type),]"
   ]
  },
  {
   "cell_type": "code",
   "execution_count": 65,
   "id": "614d57ec-3d35-4527-ac93-6ebf894ecc68",
   "metadata": {},
   "outputs": [],
   "source": [
    "cell_type_colors <- c(\n",
    "    \"Microglia\" = \"#F8766D\",\n",
    "    \"Astrocyte_qNSC\" = \"#e48900ff\", \n",
    "    \"Endothelial\" = \"#c39a01ff\", \n",
    "    \"Neuroblast\" = \"#99a801ff\", \n",
    "    \"Oligodendro\" = \"#53b400ff\",\n",
    "    \"aNSC_NPC\" = \"#00bc57ff\",\n",
    "    \"Mural\" = \"#00c094ff\",\n",
    "    \"OPC\" = \"#03bfc4ff\",\n",
    "    \"Macrophage_Tcell_NK\" = \"#01a4ffff\",\n",
    "    \"Neuron\" = \"#df70f8ff\",\n",
    "    \"Ependymal\" = \"#ff66a8ff\")"
   ]
  },
  {
   "cell_type": "code",
   "execution_count": 66,
   "id": "3c0c55e2-62a7-4fe1-afa9-8fa73d05033f",
   "metadata": {},
   "outputs": [
    {
     "data": {
      "image/png": "[encoded data removed]",
      "text/plain": [
       "plot without title"
      ]
     },
     "metadata": {
      "image/png": {
       "height": 420,
       "width": 420
      }
     },
     "output_type": "display_data"
    }
   ],
   "source": [
    "distributions %>% \n",
    " ggplot(aes(fill = Cell_Type, x = Group, y = Freq)) + \n",
    " geom_bar(position = \"stack\", stat = \"identity\") + \n",
    " labs(title = \"Cell Type Distributions\") +\n",
    " scale_fill_manual(values = cell_type_colors)\n"
   ]
  },
  {
   "cell_type": "code",
   "execution_count": 69,
   "id": "b5c759b1-6ef8-40d6-9ed8-7d24ceb413ef",
   "metadata": {},
   "outputs": [],
   "source": [
    "plot <- distributions %>% \n",
    " ggplot(aes(fill = Cell_Type, x = Group, y = Percent)) + \n",
    " geom_bar(position = \"stack\", stat = \"identity\")+\n",
    " labs(title = \"Cell Type Percentage Distributions\")+\n",
    " scale_fill_manual(values = cell_type_colors)\n"
   ]
  },
  {
   "cell_type": "code",
   "execution_count": 70,
   "id": "5ae4f635-a7d5-4cfc-9c70-0dd84b01e66b",
   "metadata": {},
   "outputs": [
    {
     "name": "stderr",
     "output_type": "stream",
     "text": [
      "\u001b[1m\u001b[22mSaving 6.67 x 6.67 in image\n"
     ]
    }
   ],
   "source": [
    "ggsave(\"figures/CellTypeDistributions.png\", plot)"
   ]
  },
  {
   "cell_type": "code",
   "execution_count": null,
   "id": "4fe3dd38-5e89-42c6-a35b-a051ea070329",
   "metadata": {},
   "outputs": [],
   "source": []
  }
 ],
 "metadata": {
  "kernelspec": {
   "display_name": "R4.0.0",
   "language": "R",
   "name": "ir"
  },
  "language_info": {
   "codemirror_mode": "r",
   "file_extension": ".r",
   "mimetype": "text/x-r-source",
   "name": "R",
   "pygments_lexer": "r",
   "version": "4.0.0"
  }
 },
 "nbformat": 4,
 "nbformat_minor": 5
}

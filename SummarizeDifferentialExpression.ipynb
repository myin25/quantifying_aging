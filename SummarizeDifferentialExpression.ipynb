{
 "cells": [
  {
   "cell_type": "markdown",
   "id": "e0a703ce-c31e-485b-91e8-09b6d850dcf4",
   "metadata": {},
   "source": [
    "Notebook summary:\n",
    "- First look at exercise data\n",
    "- Examines possible values for each column\n",
    "- Quality control: Check levels of RNA (including mitochondrial RNA) and genes across the 4 test groups to make sure they're relatively similar and aren't contaminated\n",
    "- Calculates transcriptional noise\n",
    "- Plots included in the notebook:\n",
    "    Bar plot: used for quality control and p values of\n",
    "    Volcano plot: plots log fold between two groups"
   ]
  },
  {
   "cell_type": "code",
   "execution_count": 1,
   "id": "ba47b808-2255-4fd6-b65d-21d8987da3c8",
   "metadata": {},
   "outputs": [
    {
     "name": "stderr",
     "output_type": "stream",
     "text": [
      "── \u001b[1mAttaching core tidyverse packages\u001b[22m ──────────────────────── tidyverse 2.0.0 ──\n",
      "\u001b[32m✔\u001b[39m \u001b[34mdplyr    \u001b[39m 1.1.4     \u001b[32m✔\u001b[39m \u001b[34mreadr    \u001b[39m 2.1.4\n",
      "\u001b[32m✔\u001b[39m \u001b[34mforcats  \u001b[39m 1.0.0     \u001b[32m✔\u001b[39m \u001b[34mstringr  \u001b[39m 1.5.1\n",
      "\u001b[32m✔\u001b[39m \u001b[34mlubridate\u001b[39m 1.9.3     \u001b[32m✔\u001b[39m \u001b[34mtibble   \u001b[39m 3.2.1\n",
      "\u001b[32m✔\u001b[39m \u001b[34mpurrr    \u001b[39m 1.0.2     \u001b[32m✔\u001b[39m \u001b[34mtidyr    \u001b[39m 1.3.0\n",
      "── \u001b[1mConflicts\u001b[22m ────────────────────────────────────────── tidyverse_conflicts() ──\n",
      "\u001b[31m✖\u001b[39m \u001b[34mdplyr\u001b[39m::\u001b[32mfilter()\u001b[39m masks \u001b[34mstats\u001b[39m::filter()\n",
      "\u001b[31m✖\u001b[39m \u001b[34mdplyr\u001b[39m::\u001b[32mlag()\u001b[39m    masks \u001b[34mstats\u001b[39m::lag()\n",
      "\u001b[36mℹ\u001b[39m Use the conflicted package (\u001b[3m\u001b[34m<http://conflicted.r-lib.org/>\u001b[39m\u001b[23m) to force all conflicts to become errors\n",
      "Attaching SeuratObject\n",
      "\n",
      "‘SeuratObject’ was built with package ‘Matrix’ 1.6.1.1 but the current\n",
      "version is 1.6.4; it is recomended that you reinstall ‘SeuratObject’ as\n",
      "the ABI for ‘Matrix’ may have changed\n",
      "\n"
     ]
    }
   ],
   "source": [
    "library(ggplot2)\n",
    "library(tidyverse)\n",
    "library(lubridate)\n",
    "library(Seurat)"
   ]
  },
  {
   "cell_type": "code",
   "execution_count": 2,
   "id": "1cbb52c6-c44c-4791-a83a-7f4d14f5b951",
   "metadata": {},
   "outputs": [],
   "source": [
    "library(pheatmap)"
   ]
  },
  {
   "cell_type": "code",
   "execution_count": 3,
   "id": "1c3c5643-948c-476a-a2c6-c2d5d61444ba",
   "metadata": {
    "scrolled": true
   },
   "outputs": [],
   "source": [
    "filename <- \"/gpfs/home/meyin/published_data/parabiosis/pb_combined.rds?download=1\"\n",
    "data <- readRDS(filename)"
   ]
  },
  {
   "cell_type": "code",
   "execution_count": 4,
   "id": "e1298923-681d-4cc3-bda9-4018c61ddeb0",
   "metadata": {},
   "outputs": [],
   "source": [
    "# Quality Control"
   ]
  },
  {
   "cell_type": "code",
   "execution_count": 5,
   "id": "5f41ee40-c3cc-4f4e-a417-6b7a3923af35",
   "metadata": {},
   "outputs": [],
   "source": [
    "metadata <- data@meta.data %>% filter(data@meta.data$Celltype != \"Doublet\")"
   ]
  },
  {
   "cell_type": "code",
   "execution_count": 6,
   "id": "0f50d08f-4390-4ccf-b72d-d806e5d18983",
   "metadata": {},
   "outputs": [],
   "source": [
    "metadata <- metadata %>%\n",
    "  mutate(ID = sub(\"-.*\", \"\", hash.ID))"
   ]
  },
  {
   "cell_type": "code",
   "execution_count": 7,
   "id": "09f4510e-184c-422e-8566-2376d19bf9cd",
   "metadata": {},
   "outputs": [],
   "source": [
    "data@meta.data <- data@meta.data %>%\n",
    "  mutate(ID = sub(\"-.*\", \"\", hash.ID))"
   ]
  },
  {
   "cell_type": "code",
   "execution_count": 8,
   "id": "6aaa502b-e0cf-4f93-8c61-e5a10ea6eee3",
   "metadata": {},
   "outputs": [],
   "source": [
    "metadata <- metadata %>%\n",
    "  mutate(AgeCond = paste0(substr(Age, 1, 1), \"_\", Type))"
   ]
  },
  {
   "cell_type": "code",
   "execution_count": 9,
   "id": "28ee5197-4aca-4b40-a378-bacd4426087b",
   "metadata": {},
   "outputs": [],
   "source": [
    "data@meta.data <- data@meta.data %>%\n",
    "  mutate(AgeCond = paste0(substr(Age, 1, 1), \"_\", Type))"
   ]
  },
  {
   "cell_type": "code",
   "execution_count": 10,
   "id": "d038b2eb-e6d8-452c-9a77-07d522b70810",
   "metadata": {},
   "outputs": [
    {
     "data": {
      "text/html": [
       "<table class=\"dataframe\">\n",
       "<caption>A data.frame: 6 × 42</caption>\n",
       "<thead>\n",
       "\t<tr><th></th><th scope=col>orig.ident</th><th scope=col>nCount_RNA</th><th scope=col>nFeature_RNA</th><th scope=col>percent.mt</th><th scope=col>RNA_snn_res.0.15</th><th scope=col>seurat_clusters</th><th scope=col>RNA_snn_res.0.25</th><th scope=col>RNA_snn_res.0.5</th><th scope=col>LMO_maxID</th><th scope=col>LMO_secondID</th><th scope=col>⋯</th><th scope=col>nGene</th><th scope=col>nUMI</th><th scope=col>percent.mito</th><th scope=col>res.0.2</th><th scope=col>SCT_snn_res.0.5</th><th scope=col>SCT_snn_res.0.6</th><th scope=col>SCT_snn_res.0.55</th><th scope=col>SCT_snn_res.0.52</th><th scope=col>SCT_snn_res.0.53</th><th scope=col>ID</th></tr>\n",
       "\t<tr><th></th><th scope=col>&lt;chr&gt;</th><th scope=col>&lt;dbl&gt;</th><th scope=col>&lt;int&gt;</th><th scope=col>&lt;dbl&gt;</th><th scope=col>&lt;chr&gt;</th><th scope=col>&lt;fct&gt;</th><th scope=col>&lt;chr&gt;</th><th scope=col>&lt;chr&gt;</th><th scope=col>&lt;chr&gt;</th><th scope=col>&lt;chr&gt;</th><th scope=col>⋯</th><th scope=col>&lt;int&gt;</th><th scope=col>&lt;dbl&gt;</th><th scope=col>&lt;dbl&gt;</th><th scope=col>&lt;chr&gt;</th><th scope=col>&lt;fct&gt;</th><th scope=col>&lt;fct&gt;</th><th scope=col>&lt;fct&gt;</th><th scope=col>&lt;fct&gt;</th><th scope=col>&lt;fct&gt;</th><th scope=col>&lt;chr&gt;</th></tr>\n",
       "</thead>\n",
       "<tbody>\n",
       "\t<tr><th scope=row>20_AAACGAACAACCAACT-1_1</th><td>GEX1</td><td> 7542</td><td>2698</td><td>4.627420</td><td>1</td><td>7</td><td>4</td><td>4</td><td>BC3-Old-Iso-20.50-6A-B1-35260-CTCTAGAC</td><td>BC4-Old-Iso-20.50-6B-B1-16224-ACCAATGC </td><td>⋯</td><td>NA</td><td>NA</td><td>NA</td><td>NA</td><td>5</td><td>5 </td><td>5</td><td>4</td><td>7</td><td>BC3</td></tr>\n",
       "\t<tr><th scope=row>20_AAACGAACAGGTTCAT-1_1</th><td>GEX1</td><td>15424</td><td>3461</td><td>3.060166</td><td>0</td><td>8</td><td>7</td><td>8</td><td>BC4-Old-Iso-20.50-6B-B1-16224-ACCAATGC</td><td>BC6-Old-Iso-20.50-9B-B1-29863-CGAACAAG </td><td>⋯</td><td>NA</td><td>NA</td><td>NA</td><td>NA</td><td>0</td><td>7 </td><td>0</td><td>0</td><td>8</td><td>BC4</td></tr>\n",
       "\t<tr><th scope=row>20_AAACGAACATGGAACG-1_1</th><td>GEX1</td><td>11212</td><td>3462</td><td>4.584374</td><td>5</td><td>6</td><td>4</td><td>6</td><td>BC3-Old-Iso-20.50-6A-B1-35260-CTCTAGAC</td><td>BC4-Old-Iso-20.50-6B-B1-16224-ACCAATGC </td><td>⋯</td><td>NA</td><td>NA</td><td>NA</td><td>NA</td><td>7</td><td>8 </td><td>7</td><td>4</td><td>6</td><td>BC3</td></tr>\n",
       "\t<tr><th scope=row>20_AAACGAAGTTGCGGCT-1_1</th><td>GEX1</td><td>10125</td><td>3303</td><td>3.348148</td><td>4</td><td>9</td><td>5</td><td>5</td><td>BC6-Old-Iso-20.50-9B-B1-29863-CGAACAAG</td><td>BC2-Young-Het-5.10-1B-B1-14300-TCAATGGC</td><td>⋯</td><td>NA</td><td>NA</td><td>NA</td><td>NA</td><td>8</td><td>10</td><td>8</td><td>7</td><td>9</td><td>BC6</td></tr>\n",
       "\t<tr><th scope=row>20_AAACGCTAGCCTAACT-1_1</th><td>GEX1</td><td> 4324</td><td>1829</td><td>3.075856</td><td>3</td><td>3</td><td>3</td><td>3</td><td>BC3-Old-Iso-20.50-6A-B1-35260-CTCTAGAC</td><td>BC6-Old-Iso-20.50-9B-B1-29863-CGAACAAG </td><td>⋯</td><td>NA</td><td>NA</td><td>NA</td><td>NA</td><td>1</td><td>2 </td><td>1</td><td>1</td><td>3</td><td>BC3</td></tr>\n",
       "\t<tr><th scope=row>20_AAACGCTAGCGACCCT-1_1</th><td>GEX1</td><td>13439</td><td>3710</td><td>5.305454</td><td>1</td><td>6</td><td>4</td><td>4</td><td>BC4-Old-Iso-20.50-6B-B1-16224-ACCAATGC</td><td>BC5-Old-Iso-20.50-9A-B1-24388-AGTTGCGT </td><td>⋯</td><td>NA</td><td>NA</td><td>NA</td><td>NA</td><td>7</td><td>8 </td><td>7</td><td>4</td><td>6</td><td>BC4</td></tr>\n",
       "</tbody>\n",
       "</table>\n"
      ],
      "text/latex": [
       "A data.frame: 6 × 42\n",
       "\\begin{tabular}{r|lllllllllllllllllllll}\n",
       "  & orig.ident & nCount\\_RNA & nFeature\\_RNA & percent.mt & RNA\\_snn\\_res.0.15 & seurat\\_clusters & RNA\\_snn\\_res.0.25 & RNA\\_snn\\_res.0.5 & LMO\\_maxID & LMO\\_secondID & ⋯ & nGene & nUMI & percent.mito & res.0.2 & SCT\\_snn\\_res.0.5 & SCT\\_snn\\_res.0.6 & SCT\\_snn\\_res.0.55 & SCT\\_snn\\_res.0.52 & SCT\\_snn\\_res.0.53 & ID\\\\\n",
       "  & <chr> & <dbl> & <int> & <dbl> & <chr> & <fct> & <chr> & <chr> & <chr> & <chr> & ⋯ & <int> & <dbl> & <dbl> & <chr> & <fct> & <fct> & <fct> & <fct> & <fct> & <chr>\\\\\n",
       "\\hline\n",
       "\t20\\_AAACGAACAACCAACT-1\\_1 & GEX1 &  7542 & 2698 & 4.627420 & 1 & 7 & 4 & 4 & BC3-Old-Iso-20.50-6A-B1-35260-CTCTAGAC & BC4-Old-Iso-20.50-6B-B1-16224-ACCAATGC  & ⋯ & NA & NA & NA & NA & 5 & 5  & 5 & 4 & 7 & BC3\\\\\n",
       "\t20\\_AAACGAACAGGTTCAT-1\\_1 & GEX1 & 15424 & 3461 & 3.060166 & 0 & 8 & 7 & 8 & BC4-Old-Iso-20.50-6B-B1-16224-ACCAATGC & BC6-Old-Iso-20.50-9B-B1-29863-CGAACAAG  & ⋯ & NA & NA & NA & NA & 0 & 7  & 0 & 0 & 8 & BC4\\\\\n",
       "\t20\\_AAACGAACATGGAACG-1\\_1 & GEX1 & 11212 & 3462 & 4.584374 & 5 & 6 & 4 & 6 & BC3-Old-Iso-20.50-6A-B1-35260-CTCTAGAC & BC4-Old-Iso-20.50-6B-B1-16224-ACCAATGC  & ⋯ & NA & NA & NA & NA & 7 & 8  & 7 & 4 & 6 & BC3\\\\\n",
       "\t20\\_AAACGAAGTTGCGGCT-1\\_1 & GEX1 & 10125 & 3303 & 3.348148 & 4 & 9 & 5 & 5 & BC6-Old-Iso-20.50-9B-B1-29863-CGAACAAG & BC2-Young-Het-5.10-1B-B1-14300-TCAATGGC & ⋯ & NA & NA & NA & NA & 8 & 10 & 8 & 7 & 9 & BC6\\\\\n",
       "\t20\\_AAACGCTAGCCTAACT-1\\_1 & GEX1 &  4324 & 1829 & 3.075856 & 3 & 3 & 3 & 3 & BC3-Old-Iso-20.50-6A-B1-35260-CTCTAGAC & BC6-Old-Iso-20.50-9B-B1-29863-CGAACAAG  & ⋯ & NA & NA & NA & NA & 1 & 2  & 1 & 1 & 3 & BC3\\\\\n",
       "\t20\\_AAACGCTAGCGACCCT-1\\_1 & GEX1 & 13439 & 3710 & 5.305454 & 1 & 6 & 4 & 4 & BC4-Old-Iso-20.50-6B-B1-16224-ACCAATGC & BC5-Old-Iso-20.50-9A-B1-24388-AGTTGCGT  & ⋯ & NA & NA & NA & NA & 7 & 8  & 7 & 4 & 6 & BC4\\\\\n",
       "\\end{tabular}\n"
      ],
      "text/markdown": [
       "\n",
       "A data.frame: 6 × 42\n",
       "\n",
       "| <!--/--> | orig.ident &lt;chr&gt; | nCount_RNA &lt;dbl&gt; | nFeature_RNA &lt;int&gt; | percent.mt &lt;dbl&gt; | RNA_snn_res.0.15 &lt;chr&gt; | seurat_clusters &lt;fct&gt; | RNA_snn_res.0.25 &lt;chr&gt; | RNA_snn_res.0.5 &lt;chr&gt; | LMO_maxID &lt;chr&gt; | LMO_secondID &lt;chr&gt; | ⋯ ⋯ | nGene &lt;int&gt; | nUMI &lt;dbl&gt; | percent.mito &lt;dbl&gt; | res.0.2 &lt;chr&gt; | SCT_snn_res.0.5 &lt;fct&gt; | SCT_snn_res.0.6 &lt;fct&gt; | SCT_snn_res.0.55 &lt;fct&gt; | SCT_snn_res.0.52 &lt;fct&gt; | SCT_snn_res.0.53 &lt;fct&gt; | ID &lt;chr&gt; |\n",
       "|---|---|---|---|---|---|---|---|---|---|---|---|---|---|---|---|---|---|---|---|---|---|\n",
       "| 20_AAACGAACAACCAACT-1_1 | GEX1 |  7542 | 2698 | 4.627420 | 1 | 7 | 4 | 4 | BC3-Old-Iso-20.50-6A-B1-35260-CTCTAGAC | BC4-Old-Iso-20.50-6B-B1-16224-ACCAATGC  | ⋯ | NA | NA | NA | NA | 5 | 5  | 5 | 4 | 7 | BC3 |\n",
       "| 20_AAACGAACAGGTTCAT-1_1 | GEX1 | 15424 | 3461 | 3.060166 | 0 | 8 | 7 | 8 | BC4-Old-Iso-20.50-6B-B1-16224-ACCAATGC | BC6-Old-Iso-20.50-9B-B1-29863-CGAACAAG  | ⋯ | NA | NA | NA | NA | 0 | 7  | 0 | 0 | 8 | BC4 |\n",
       "| 20_AAACGAACATGGAACG-1_1 | GEX1 | 11212 | 3462 | 4.584374 | 5 | 6 | 4 | 6 | BC3-Old-Iso-20.50-6A-B1-35260-CTCTAGAC | BC4-Old-Iso-20.50-6B-B1-16224-ACCAATGC  | ⋯ | NA | NA | NA | NA | 7 | 8  | 7 | 4 | 6 | BC3 |\n",
       "| 20_AAACGAAGTTGCGGCT-1_1 | GEX1 | 10125 | 3303 | 3.348148 | 4 | 9 | 5 | 5 | BC6-Old-Iso-20.50-9B-B1-29863-CGAACAAG | BC2-Young-Het-5.10-1B-B1-14300-TCAATGGC | ⋯ | NA | NA | NA | NA | 8 | 10 | 8 | 7 | 9 | BC6 |\n",
       "| 20_AAACGCTAGCCTAACT-1_1 | GEX1 |  4324 | 1829 | 3.075856 | 3 | 3 | 3 | 3 | BC3-Old-Iso-20.50-6A-B1-35260-CTCTAGAC | BC6-Old-Iso-20.50-9B-B1-29863-CGAACAAG  | ⋯ | NA | NA | NA | NA | 1 | 2  | 1 | 1 | 3 | BC3 |\n",
       "| 20_AAACGCTAGCGACCCT-1_1 | GEX1 | 13439 | 3710 | 5.305454 | 1 | 6 | 4 | 4 | BC4-Old-Iso-20.50-6B-B1-16224-ACCAATGC | BC5-Old-Iso-20.50-9A-B1-24388-AGTTGCGT  | ⋯ | NA | NA | NA | NA | 7 | 8  | 7 | 4 | 6 | BC4 |\n",
       "\n"
      ],
      "text/plain": [
       "                        orig.ident nCount_RNA nFeature_RNA percent.mt\n",
       "20_AAACGAACAACCAACT-1_1 GEX1        7542      2698         4.627420  \n",
       "20_AAACGAACAGGTTCAT-1_1 GEX1       15424      3461         3.060166  \n",
       "20_AAACGAACATGGAACG-1_1 GEX1       11212      3462         4.584374  \n",
       "20_AAACGAAGTTGCGGCT-1_1 GEX1       10125      3303         3.348148  \n",
       "20_AAACGCTAGCCTAACT-1_1 GEX1        4324      1829         3.075856  \n",
       "20_AAACGCTAGCGACCCT-1_1 GEX1       13439      3710         5.305454  \n",
       "                        RNA_snn_res.0.15 seurat_clusters RNA_snn_res.0.25\n",
       "20_AAACGAACAACCAACT-1_1 1                7               4               \n",
       "20_AAACGAACAGGTTCAT-1_1 0                8               7               \n",
       "20_AAACGAACATGGAACG-1_1 5                6               4               \n",
       "20_AAACGAAGTTGCGGCT-1_1 4                9               5               \n",
       "20_AAACGCTAGCCTAACT-1_1 3                3               3               \n",
       "20_AAACGCTAGCGACCCT-1_1 1                6               4               \n",
       "                        RNA_snn_res.0.5 LMO_maxID                             \n",
       "20_AAACGAACAACCAACT-1_1 4               BC3-Old-Iso-20.50-6A-B1-35260-CTCTAGAC\n",
       "20_AAACGAACAGGTTCAT-1_1 8               BC4-Old-Iso-20.50-6B-B1-16224-ACCAATGC\n",
       "20_AAACGAACATGGAACG-1_1 6               BC3-Old-Iso-20.50-6A-B1-35260-CTCTAGAC\n",
       "20_AAACGAAGTTGCGGCT-1_1 5               BC6-Old-Iso-20.50-9B-B1-29863-CGAACAAG\n",
       "20_AAACGCTAGCCTAACT-1_1 3               BC3-Old-Iso-20.50-6A-B1-35260-CTCTAGAC\n",
       "20_AAACGCTAGCGACCCT-1_1 4               BC4-Old-Iso-20.50-6B-B1-16224-ACCAATGC\n",
       "                        LMO_secondID                            ⋯ nGene nUMI\n",
       "20_AAACGAACAACCAACT-1_1 BC4-Old-Iso-20.50-6B-B1-16224-ACCAATGC  ⋯ NA    NA  \n",
       "20_AAACGAACAGGTTCAT-1_1 BC6-Old-Iso-20.50-9B-B1-29863-CGAACAAG  ⋯ NA    NA  \n",
       "20_AAACGAACATGGAACG-1_1 BC4-Old-Iso-20.50-6B-B1-16224-ACCAATGC  ⋯ NA    NA  \n",
       "20_AAACGAAGTTGCGGCT-1_1 BC2-Young-Het-5.10-1B-B1-14300-TCAATGGC ⋯ NA    NA  \n",
       "20_AAACGCTAGCCTAACT-1_1 BC6-Old-Iso-20.50-9B-B1-29863-CGAACAAG  ⋯ NA    NA  \n",
       "20_AAACGCTAGCGACCCT-1_1 BC5-Old-Iso-20.50-9A-B1-24388-AGTTGCGT  ⋯ NA    NA  \n",
       "                        percent.mito res.0.2 SCT_snn_res.0.5 SCT_snn_res.0.6\n",
       "20_AAACGAACAACCAACT-1_1 NA           NA      5               5              \n",
       "20_AAACGAACAGGTTCAT-1_1 NA           NA      0               7              \n",
       "20_AAACGAACATGGAACG-1_1 NA           NA      7               8              \n",
       "20_AAACGAAGTTGCGGCT-1_1 NA           NA      8               10             \n",
       "20_AAACGCTAGCCTAACT-1_1 NA           NA      1               2              \n",
       "20_AAACGCTAGCGACCCT-1_1 NA           NA      7               8              \n",
       "                        SCT_snn_res.0.55 SCT_snn_res.0.52 SCT_snn_res.0.53 ID \n",
       "20_AAACGAACAACCAACT-1_1 5                4                7                BC3\n",
       "20_AAACGAACAGGTTCAT-1_1 0                0                8                BC4\n",
       "20_AAACGAACATGGAACG-1_1 7                4                6                BC3\n",
       "20_AAACGAAGTTGCGGCT-1_1 8                7                9                BC6\n",
       "20_AAACGCTAGCCTAACT-1_1 1                1                3                BC3\n",
       "20_AAACGCTAGCGACCCT-1_1 7                4                6                BC4"
      ]
     },
     "metadata": {},
     "output_type": "display_data"
    }
   ],
   "source": [
    "# Split off Old Control data\n",
    "ocontroldata <- metadata %>% filter(AgeCond==\"O_Iso\")\n",
    "head(ocontroldata)"
   ]
  },
  {
   "cell_type": "code",
   "execution_count": 11,
   "id": "b9182b39-4da7-481d-a4cb-31302035ecc1",
   "metadata": {},
   "outputs": [
    {
     "data": {
      "text/html": [
       "<table class=\"dataframe\">\n",
       "<caption>A data.frame: 6 × 42</caption>\n",
       "<thead>\n",
       "\t<tr><th></th><th scope=col>orig.ident</th><th scope=col>nCount_RNA</th><th scope=col>nFeature_RNA</th><th scope=col>percent.mt</th><th scope=col>RNA_snn_res.0.15</th><th scope=col>seurat_clusters</th><th scope=col>RNA_snn_res.0.25</th><th scope=col>RNA_snn_res.0.5</th><th scope=col>LMO_maxID</th><th scope=col>LMO_secondID</th><th scope=col>⋯</th><th scope=col>nGene</th><th scope=col>nUMI</th><th scope=col>percent.mito</th><th scope=col>res.0.2</th><th scope=col>SCT_snn_res.0.5</th><th scope=col>SCT_snn_res.0.6</th><th scope=col>SCT_snn_res.0.55</th><th scope=col>SCT_snn_res.0.52</th><th scope=col>SCT_snn_res.0.53</th><th scope=col>ID</th></tr>\n",
       "\t<tr><th></th><th scope=col>&lt;chr&gt;</th><th scope=col>&lt;dbl&gt;</th><th scope=col>&lt;int&gt;</th><th scope=col>&lt;dbl&gt;</th><th scope=col>&lt;chr&gt;</th><th scope=col>&lt;fct&gt;</th><th scope=col>&lt;chr&gt;</th><th scope=col>&lt;chr&gt;</th><th scope=col>&lt;chr&gt;</th><th scope=col>&lt;chr&gt;</th><th scope=col>⋯</th><th scope=col>&lt;int&gt;</th><th scope=col>&lt;dbl&gt;</th><th scope=col>&lt;dbl&gt;</th><th scope=col>&lt;chr&gt;</th><th scope=col>&lt;fct&gt;</th><th scope=col>&lt;fct&gt;</th><th scope=col>&lt;fct&gt;</th><th scope=col>&lt;fct&gt;</th><th scope=col>&lt;fct&gt;</th><th scope=col>&lt;chr&gt;</th></tr>\n",
       "</thead>\n",
       "<tbody>\n",
       "\t<tr><th scope=row>20_AAACGAATCGTTCATT-1_1</th><td>GEX1</td><td> 7902</td><td>2773</td><td>3.809162</td><td>3 </td><td>3 </td><td>3 </td><td>3 </td><td>BC1-Old-Het-20.50-1A-B1-25000-TGTGATGG</td><td>BC6-Old-Iso-20.50-9B-B1-29863-CGAACAAG </td><td>⋯</td><td>NA</td><td>NA</td><td>NA</td><td>NA</td><td>1 </td><td>2 </td><td>1 </td><td>1 </td><td>3 </td><td>BC1</td></tr>\n",
       "\t<tr><th scope=row>20_AAAGAACCACTGGATT-1_1</th><td>GEX1</td><td> 7086</td><td>2607</td><td>4.106689</td><td>3 </td><td>3 </td><td>3 </td><td>3 </td><td>BC1-Old-Het-20.50-1A-B1-25000-TGTGATGG</td><td>BC6-Old-Iso-20.50-9B-B1-29863-CGAACAAG </td><td>⋯</td><td>NA</td><td>NA</td><td>NA</td><td>NA</td><td>1 </td><td>2 </td><td>1 </td><td>1 </td><td>3 </td><td>BC1</td></tr>\n",
       "\t<tr><th scope=row>20_AAAGAACCATACTGAC-1_1</th><td>GEX1</td><td> 6149</td><td>2400</td><td>7.188161</td><td>1 </td><td>4 </td><td>1 </td><td>1 </td><td>BC1-Old-Het-20.50-1A-B1-25000-TGTGATGG</td><td>BC5-Old-Iso-20.50-9A-B1-24388-AGTTGCGT </td><td>⋯</td><td>NA</td><td>NA</td><td>NA</td><td>NA</td><td>4 </td><td>4 </td><td>4 </td><td>5 </td><td>4 </td><td>BC1</td></tr>\n",
       "\t<tr><th scope=row>20_AAAGTCCAGTTGTCAC-1_1</th><td>GEX1</td><td> 6349</td><td>1991</td><td>2.819342</td><td>0 </td><td>8 </td><td>0 </td><td>0 </td><td>BC1-Old-Het-20.50-1A-B1-25000-TGTGATGG</td><td>BC6-Old-Iso-20.50-9B-B1-29863-CGAACAAG </td><td>⋯</td><td>NA</td><td>NA</td><td>NA</td><td>NA</td><td>0 </td><td>7 </td><td>0 </td><td>0 </td><td>8 </td><td>BC1</td></tr>\n",
       "\t<tr><th scope=row>20_AACAAGAAGAACTCCT-1_1</th><td>GEX1</td><td> 7780</td><td>2448</td><td>4.023136</td><td>0 </td><td>1 </td><td>0 </td><td>0 </td><td>BC1-Old-Het-20.50-1A-B1-25000-TGTGATGG</td><td>BC2-Young-Het-5.10-1B-B1-14300-TCAATGGC</td><td>⋯</td><td>NA</td><td>NA</td><td>NA</td><td>NA</td><td>0 </td><td>1 </td><td>0 </td><td>0 </td><td>1 </td><td>BC1</td></tr>\n",
       "\t<tr><th scope=row>20_AACCAACGTCCCAAAT-1_1</th><td>GEX1</td><td>17656</td><td>4983</td><td>2.611010</td><td>10</td><td>19</td><td>10</td><td>13</td><td>BC1-Old-Het-20.50-1A-B1-25000-TGTGATGG</td><td>BC2-Young-Het-5.10-1B-B1-14300-TCAATGGC</td><td>⋯</td><td>NA</td><td>NA</td><td>NA</td><td>NA</td><td>18</td><td>19</td><td>19</td><td>13</td><td>19</td><td>BC1</td></tr>\n",
       "</tbody>\n",
       "</table>\n"
      ],
      "text/latex": [
       "A data.frame: 6 × 42\n",
       "\\begin{tabular}{r|lllllllllllllllllllll}\n",
       "  & orig.ident & nCount\\_RNA & nFeature\\_RNA & percent.mt & RNA\\_snn\\_res.0.15 & seurat\\_clusters & RNA\\_snn\\_res.0.25 & RNA\\_snn\\_res.0.5 & LMO\\_maxID & LMO\\_secondID & ⋯ & nGene & nUMI & percent.mito & res.0.2 & SCT\\_snn\\_res.0.5 & SCT\\_snn\\_res.0.6 & SCT\\_snn\\_res.0.55 & SCT\\_snn\\_res.0.52 & SCT\\_snn\\_res.0.53 & ID\\\\\n",
       "  & <chr> & <dbl> & <int> & <dbl> & <chr> & <fct> & <chr> & <chr> & <chr> & <chr> & ⋯ & <int> & <dbl> & <dbl> & <chr> & <fct> & <fct> & <fct> & <fct> & <fct> & <chr>\\\\\n",
       "\\hline\n",
       "\t20\\_AAACGAATCGTTCATT-1\\_1 & GEX1 &  7902 & 2773 & 3.809162 & 3  & 3  & 3  & 3  & BC1-Old-Het-20.50-1A-B1-25000-TGTGATGG & BC6-Old-Iso-20.50-9B-B1-29863-CGAACAAG  & ⋯ & NA & NA & NA & NA & 1  & 2  & 1  & 1  & 3  & BC1\\\\\n",
       "\t20\\_AAAGAACCACTGGATT-1\\_1 & GEX1 &  7086 & 2607 & 4.106689 & 3  & 3  & 3  & 3  & BC1-Old-Het-20.50-1A-B1-25000-TGTGATGG & BC6-Old-Iso-20.50-9B-B1-29863-CGAACAAG  & ⋯ & NA & NA & NA & NA & 1  & 2  & 1  & 1  & 3  & BC1\\\\\n",
       "\t20\\_AAAGAACCATACTGAC-1\\_1 & GEX1 &  6149 & 2400 & 7.188161 & 1  & 4  & 1  & 1  & BC1-Old-Het-20.50-1A-B1-25000-TGTGATGG & BC5-Old-Iso-20.50-9A-B1-24388-AGTTGCGT  & ⋯ & NA & NA & NA & NA & 4  & 4  & 4  & 5  & 4  & BC1\\\\\n",
       "\t20\\_AAAGTCCAGTTGTCAC-1\\_1 & GEX1 &  6349 & 1991 & 2.819342 & 0  & 8  & 0  & 0  & BC1-Old-Het-20.50-1A-B1-25000-TGTGATGG & BC6-Old-Iso-20.50-9B-B1-29863-CGAACAAG  & ⋯ & NA & NA & NA & NA & 0  & 7  & 0  & 0  & 8  & BC1\\\\\n",
       "\t20\\_AACAAGAAGAACTCCT-1\\_1 & GEX1 &  7780 & 2448 & 4.023136 & 0  & 1  & 0  & 0  & BC1-Old-Het-20.50-1A-B1-25000-TGTGATGG & BC2-Young-Het-5.10-1B-B1-14300-TCAATGGC & ⋯ & NA & NA & NA & NA & 0  & 1  & 0  & 0  & 1  & BC1\\\\\n",
       "\t20\\_AACCAACGTCCCAAAT-1\\_1 & GEX1 & 17656 & 4983 & 2.611010 & 10 & 19 & 10 & 13 & BC1-Old-Het-20.50-1A-B1-25000-TGTGATGG & BC2-Young-Het-5.10-1B-B1-14300-TCAATGGC & ⋯ & NA & NA & NA & NA & 18 & 19 & 19 & 13 & 19 & BC1\\\\\n",
       "\\end{tabular}\n"
      ],
      "text/markdown": [
       "\n",
       "A data.frame: 6 × 42\n",
       "\n",
       "| <!--/--> | orig.ident &lt;chr&gt; | nCount_RNA &lt;dbl&gt; | nFeature_RNA &lt;int&gt; | percent.mt &lt;dbl&gt; | RNA_snn_res.0.15 &lt;chr&gt; | seurat_clusters &lt;fct&gt; | RNA_snn_res.0.25 &lt;chr&gt; | RNA_snn_res.0.5 &lt;chr&gt; | LMO_maxID &lt;chr&gt; | LMO_secondID &lt;chr&gt; | ⋯ ⋯ | nGene &lt;int&gt; | nUMI &lt;dbl&gt; | percent.mito &lt;dbl&gt; | res.0.2 &lt;chr&gt; | SCT_snn_res.0.5 &lt;fct&gt; | SCT_snn_res.0.6 &lt;fct&gt; | SCT_snn_res.0.55 &lt;fct&gt; | SCT_snn_res.0.52 &lt;fct&gt; | SCT_snn_res.0.53 &lt;fct&gt; | ID &lt;chr&gt; |\n",
       "|---|---|---|---|---|---|---|---|---|---|---|---|---|---|---|---|---|---|---|---|---|---|\n",
       "| 20_AAACGAATCGTTCATT-1_1 | GEX1 |  7902 | 2773 | 3.809162 | 3  | 3  | 3  | 3  | BC1-Old-Het-20.50-1A-B1-25000-TGTGATGG | BC6-Old-Iso-20.50-9B-B1-29863-CGAACAAG  | ⋯ | NA | NA | NA | NA | 1  | 2  | 1  | 1  | 3  | BC1 |\n",
       "| 20_AAAGAACCACTGGATT-1_1 | GEX1 |  7086 | 2607 | 4.106689 | 3  | 3  | 3  | 3  | BC1-Old-Het-20.50-1A-B1-25000-TGTGATGG | BC6-Old-Iso-20.50-9B-B1-29863-CGAACAAG  | ⋯ | NA | NA | NA | NA | 1  | 2  | 1  | 1  | 3  | BC1 |\n",
       "| 20_AAAGAACCATACTGAC-1_1 | GEX1 |  6149 | 2400 | 7.188161 | 1  | 4  | 1  | 1  | BC1-Old-Het-20.50-1A-B1-25000-TGTGATGG | BC5-Old-Iso-20.50-9A-B1-24388-AGTTGCGT  | ⋯ | NA | NA | NA | NA | 4  | 4  | 4  | 5  | 4  | BC1 |\n",
       "| 20_AAAGTCCAGTTGTCAC-1_1 | GEX1 |  6349 | 1991 | 2.819342 | 0  | 8  | 0  | 0  | BC1-Old-Het-20.50-1A-B1-25000-TGTGATGG | BC6-Old-Iso-20.50-9B-B1-29863-CGAACAAG  | ⋯ | NA | NA | NA | NA | 0  | 7  | 0  | 0  | 8  | BC1 |\n",
       "| 20_AACAAGAAGAACTCCT-1_1 | GEX1 |  7780 | 2448 | 4.023136 | 0  | 1  | 0  | 0  | BC1-Old-Het-20.50-1A-B1-25000-TGTGATGG | BC2-Young-Het-5.10-1B-B1-14300-TCAATGGC | ⋯ | NA | NA | NA | NA | 0  | 1  | 0  | 0  | 1  | BC1 |\n",
       "| 20_AACCAACGTCCCAAAT-1_1 | GEX1 | 17656 | 4983 | 2.611010 | 10 | 19 | 10 | 13 | BC1-Old-Het-20.50-1A-B1-25000-TGTGATGG | BC2-Young-Het-5.10-1B-B1-14300-TCAATGGC | ⋯ | NA | NA | NA | NA | 18 | 19 | 19 | 13 | 19 | BC1 |\n",
       "\n"
      ],
      "text/plain": [
       "                        orig.ident nCount_RNA nFeature_RNA percent.mt\n",
       "20_AAACGAATCGTTCATT-1_1 GEX1        7902      2773         3.809162  \n",
       "20_AAAGAACCACTGGATT-1_1 GEX1        7086      2607         4.106689  \n",
       "20_AAAGAACCATACTGAC-1_1 GEX1        6149      2400         7.188161  \n",
       "20_AAAGTCCAGTTGTCAC-1_1 GEX1        6349      1991         2.819342  \n",
       "20_AACAAGAAGAACTCCT-1_1 GEX1        7780      2448         4.023136  \n",
       "20_AACCAACGTCCCAAAT-1_1 GEX1       17656      4983         2.611010  \n",
       "                        RNA_snn_res.0.15 seurat_clusters RNA_snn_res.0.25\n",
       "20_AAACGAATCGTTCATT-1_1 3                3               3               \n",
       "20_AAAGAACCACTGGATT-1_1 3                3               3               \n",
       "20_AAAGAACCATACTGAC-1_1 1                4               1               \n",
       "20_AAAGTCCAGTTGTCAC-1_1 0                8               0               \n",
       "20_AACAAGAAGAACTCCT-1_1 0                1               0               \n",
       "20_AACCAACGTCCCAAAT-1_1 10               19              10              \n",
       "                        RNA_snn_res.0.5 LMO_maxID                             \n",
       "20_AAACGAATCGTTCATT-1_1 3               BC1-Old-Het-20.50-1A-B1-25000-TGTGATGG\n",
       "20_AAAGAACCACTGGATT-1_1 3               BC1-Old-Het-20.50-1A-B1-25000-TGTGATGG\n",
       "20_AAAGAACCATACTGAC-1_1 1               BC1-Old-Het-20.50-1A-B1-25000-TGTGATGG\n",
       "20_AAAGTCCAGTTGTCAC-1_1 0               BC1-Old-Het-20.50-1A-B1-25000-TGTGATGG\n",
       "20_AACAAGAAGAACTCCT-1_1 0               BC1-Old-Het-20.50-1A-B1-25000-TGTGATGG\n",
       "20_AACCAACGTCCCAAAT-1_1 13              BC1-Old-Het-20.50-1A-B1-25000-TGTGATGG\n",
       "                        LMO_secondID                            ⋯ nGene nUMI\n",
       "20_AAACGAATCGTTCATT-1_1 BC6-Old-Iso-20.50-9B-B1-29863-CGAACAAG  ⋯ NA    NA  \n",
       "20_AAAGAACCACTGGATT-1_1 BC6-Old-Iso-20.50-9B-B1-29863-CGAACAAG  ⋯ NA    NA  \n",
       "20_AAAGAACCATACTGAC-1_1 BC5-Old-Iso-20.50-9A-B1-24388-AGTTGCGT  ⋯ NA    NA  \n",
       "20_AAAGTCCAGTTGTCAC-1_1 BC6-Old-Iso-20.50-9B-B1-29863-CGAACAAG  ⋯ NA    NA  \n",
       "20_AACAAGAAGAACTCCT-1_1 BC2-Young-Het-5.10-1B-B1-14300-TCAATGGC ⋯ NA    NA  \n",
       "20_AACCAACGTCCCAAAT-1_1 BC2-Young-Het-5.10-1B-B1-14300-TCAATGGC ⋯ NA    NA  \n",
       "                        percent.mito res.0.2 SCT_snn_res.0.5 SCT_snn_res.0.6\n",
       "20_AAACGAATCGTTCATT-1_1 NA           NA      1               2              \n",
       "20_AAAGAACCACTGGATT-1_1 NA           NA      1               2              \n",
       "20_AAAGAACCATACTGAC-1_1 NA           NA      4               4              \n",
       "20_AAAGTCCAGTTGTCAC-1_1 NA           NA      0               7              \n",
       "20_AACAAGAAGAACTCCT-1_1 NA           NA      0               1              \n",
       "20_AACCAACGTCCCAAAT-1_1 NA           NA      18              19             \n",
       "                        SCT_snn_res.0.55 SCT_snn_res.0.52 SCT_snn_res.0.53 ID \n",
       "20_AAACGAATCGTTCATT-1_1 1                1                3                BC1\n",
       "20_AAAGAACCACTGGATT-1_1 1                1                3                BC1\n",
       "20_AAAGAACCATACTGAC-1_1 4                5                4                BC1\n",
       "20_AAAGTCCAGTTGTCAC-1_1 0                0                8                BC1\n",
       "20_AACAAGAAGAACTCCT-1_1 0                0                1                BC1\n",
       "20_AACCAACGTCCCAAAT-1_1 19               13               19               BC1"
      ]
     },
     "metadata": {},
     "output_type": "display_data"
    }
   ],
   "source": [
    "# Split off Old Exercise data\n",
    "oexercisedata <- metadata %>% filter(AgeCond==\"O_Het\")\n",
    "head(oexercisedata)"
   ]
  },
  {
   "cell_type": "code",
   "execution_count": 12,
   "id": "d65067df-780a-4647-916a-9f023be6b6c4",
   "metadata": {},
   "outputs": [
    {
     "data": {
      "text/html": [
       "<table class=\"dataframe\">\n",
       "<caption>A data.frame: 6 × 42</caption>\n",
       "<thead>\n",
       "\t<tr><th></th><th scope=col>orig.ident</th><th scope=col>nCount_RNA</th><th scope=col>nFeature_RNA</th><th scope=col>percent.mt</th><th scope=col>RNA_snn_res.0.15</th><th scope=col>seurat_clusters</th><th scope=col>RNA_snn_res.0.25</th><th scope=col>RNA_snn_res.0.5</th><th scope=col>LMO_maxID</th><th scope=col>LMO_secondID</th><th scope=col>⋯</th><th scope=col>nGene</th><th scope=col>nUMI</th><th scope=col>percent.mito</th><th scope=col>res.0.2</th><th scope=col>SCT_snn_res.0.5</th><th scope=col>SCT_snn_res.0.6</th><th scope=col>SCT_snn_res.0.55</th><th scope=col>SCT_snn_res.0.52</th><th scope=col>SCT_snn_res.0.53</th><th scope=col>ID</th></tr>\n",
       "\t<tr><th></th><th scope=col>&lt;chr&gt;</th><th scope=col>&lt;dbl&gt;</th><th scope=col>&lt;int&gt;</th><th scope=col>&lt;dbl&gt;</th><th scope=col>&lt;chr&gt;</th><th scope=col>&lt;fct&gt;</th><th scope=col>&lt;chr&gt;</th><th scope=col>&lt;chr&gt;</th><th scope=col>&lt;chr&gt;</th><th scope=col>&lt;chr&gt;</th><th scope=col>⋯</th><th scope=col>&lt;int&gt;</th><th scope=col>&lt;dbl&gt;</th><th scope=col>&lt;dbl&gt;</th><th scope=col>&lt;chr&gt;</th><th scope=col>&lt;fct&gt;</th><th scope=col>&lt;fct&gt;</th><th scope=col>&lt;fct&gt;</th><th scope=col>&lt;fct&gt;</th><th scope=col>&lt;fct&gt;</th><th scope=col>&lt;chr&gt;</th></tr>\n",
       "</thead>\n",
       "<tbody>\n",
       "\t<tr><th scope=row>20_AAACCCAGTACCGTGC-1_2</th><td>GEX2</td><td> 3131</td><td>1434</td><td>4.535292</td><td>NA</td><td>3</td><td>NA</td><td>2</td><td>BC11-Young-Iso-5.67-10A-B2-70700-GAGTCGAT</td><td>BC10-Old-Iso-20.53-7B-B2-21000-ATTCGCAC</td><td>⋯</td><td>NA</td><td>NA</td><td>NA</td><td>NA</td><td>1</td><td>2</td><td>1</td><td>1</td><td>3</td><td>BC11</td></tr>\n",
       "\t<tr><th scope=row>20_AAACCCATCCCGGTAG-1_2</th><td>GEX2</td><td>10213</td><td>3255</td><td>3.446588</td><td>NA</td><td>6</td><td>NA</td><td>4</td><td>BC12-Young-Iso-5.67-10B-B2-70100-AAGGCTAG</td><td>BC9-Old-Iso-20.53-7A-B2-33700-AAGTACGC </td><td>⋯</td><td>NA</td><td>NA</td><td>NA</td><td>NA</td><td>7</td><td>8</td><td>7</td><td>4</td><td>6</td><td>BC12</td></tr>\n",
       "\t<tr><th scope=row>20_AAACGAAAGCTCTGTA-1_2</th><td>GEX2</td><td> 3182</td><td>1497</td><td>3.048397</td><td>NA</td><td>2</td><td>NA</td><td>3</td><td>BC12-Young-Iso-5.67-10B-B2-70100-AAGGCTAG</td><td>BC10-Old-Iso-20.53-7B-B2-21000-ATTCGCAC</td><td>⋯</td><td>NA</td><td>NA</td><td>NA</td><td>NA</td><td>3</td><td>3</td><td>3</td><td>3</td><td>2</td><td>BC12</td></tr>\n",
       "\t<tr><th scope=row>20_AAACGCTCAACTCCAA-1_2</th><td>GEX2</td><td> 5224</td><td>2231</td><td>4.364472</td><td>NA</td><td>0</td><td>NA</td><td>1</td><td>BC12-Young-Iso-5.67-10B-B2-70100-AAGGCTAG</td><td>BC10-Old-Iso-20.53-7B-B2-21000-ATTCGCAC</td><td>⋯</td><td>NA</td><td>NA</td><td>NA</td><td>NA</td><td>2</td><td>0</td><td>5</td><td>2</td><td>0</td><td>BC12</td></tr>\n",
       "\t<tr><th scope=row>20_AAACGCTTCGAGCCTG-1_2</th><td>GEX2</td><td> 5157</td><td>2078</td><td>5.080473</td><td>NA</td><td>4</td><td>NA</td><td>1</td><td>BC12-Young-Iso-5.67-10B-B2-70100-AAGGCTAG</td><td>BC9-Old-Iso-20.53-7A-B2-33700-AAGTACGC </td><td>⋯</td><td>NA</td><td>NA</td><td>NA</td><td>NA</td><td>4</td><td>4</td><td>4</td><td>5</td><td>4</td><td>BC12</td></tr>\n",
       "\t<tr><th scope=row>20_AAAGGATAGTAAGCAT-1_2</th><td>GEX2</td><td> 2550</td><td>1234</td><td>0.745098</td><td>NA</td><td>8</td><td>NA</td><td>0</td><td>BC12-Young-Iso-5.67-10B-B2-70100-AAGGCTAG</td><td>BC10-Old-Iso-20.53-7B-B2-21000-ATTCGCAC</td><td>⋯</td><td>NA</td><td>NA</td><td>NA</td><td>NA</td><td>0</td><td>7</td><td>0</td><td>0</td><td>8</td><td>BC12</td></tr>\n",
       "</tbody>\n",
       "</table>\n"
      ],
      "text/latex": [
       "A data.frame: 6 × 42\n",
       "\\begin{tabular}{r|lllllllllllllllllllll}\n",
       "  & orig.ident & nCount\\_RNA & nFeature\\_RNA & percent.mt & RNA\\_snn\\_res.0.15 & seurat\\_clusters & RNA\\_snn\\_res.0.25 & RNA\\_snn\\_res.0.5 & LMO\\_maxID & LMO\\_secondID & ⋯ & nGene & nUMI & percent.mito & res.0.2 & SCT\\_snn\\_res.0.5 & SCT\\_snn\\_res.0.6 & SCT\\_snn\\_res.0.55 & SCT\\_snn\\_res.0.52 & SCT\\_snn\\_res.0.53 & ID\\\\\n",
       "  & <chr> & <dbl> & <int> & <dbl> & <chr> & <fct> & <chr> & <chr> & <chr> & <chr> & ⋯ & <int> & <dbl> & <dbl> & <chr> & <fct> & <fct> & <fct> & <fct> & <fct> & <chr>\\\\\n",
       "\\hline\n",
       "\t20\\_AAACCCAGTACCGTGC-1\\_2 & GEX2 &  3131 & 1434 & 4.535292 & NA & 3 & NA & 2 & BC11-Young-Iso-5.67-10A-B2-70700-GAGTCGAT & BC10-Old-Iso-20.53-7B-B2-21000-ATTCGCAC & ⋯ & NA & NA & NA & NA & 1 & 2 & 1 & 1 & 3 & BC11\\\\\n",
       "\t20\\_AAACCCATCCCGGTAG-1\\_2 & GEX2 & 10213 & 3255 & 3.446588 & NA & 6 & NA & 4 & BC12-Young-Iso-5.67-10B-B2-70100-AAGGCTAG & BC9-Old-Iso-20.53-7A-B2-33700-AAGTACGC  & ⋯ & NA & NA & NA & NA & 7 & 8 & 7 & 4 & 6 & BC12\\\\\n",
       "\t20\\_AAACGAAAGCTCTGTA-1\\_2 & GEX2 &  3182 & 1497 & 3.048397 & NA & 2 & NA & 3 & BC12-Young-Iso-5.67-10B-B2-70100-AAGGCTAG & BC10-Old-Iso-20.53-7B-B2-21000-ATTCGCAC & ⋯ & NA & NA & NA & NA & 3 & 3 & 3 & 3 & 2 & BC12\\\\\n",
       "\t20\\_AAACGCTCAACTCCAA-1\\_2 & GEX2 &  5224 & 2231 & 4.364472 & NA & 0 & NA & 1 & BC12-Young-Iso-5.67-10B-B2-70100-AAGGCTAG & BC10-Old-Iso-20.53-7B-B2-21000-ATTCGCAC & ⋯ & NA & NA & NA & NA & 2 & 0 & 5 & 2 & 0 & BC12\\\\\n",
       "\t20\\_AAACGCTTCGAGCCTG-1\\_2 & GEX2 &  5157 & 2078 & 5.080473 & NA & 4 & NA & 1 & BC12-Young-Iso-5.67-10B-B2-70100-AAGGCTAG & BC9-Old-Iso-20.53-7A-B2-33700-AAGTACGC  & ⋯ & NA & NA & NA & NA & 4 & 4 & 4 & 5 & 4 & BC12\\\\\n",
       "\t20\\_AAAGGATAGTAAGCAT-1\\_2 & GEX2 &  2550 & 1234 & 0.745098 & NA & 8 & NA & 0 & BC12-Young-Iso-5.67-10B-B2-70100-AAGGCTAG & BC10-Old-Iso-20.53-7B-B2-21000-ATTCGCAC & ⋯ & NA & NA & NA & NA & 0 & 7 & 0 & 0 & 8 & BC12\\\\\n",
       "\\end{tabular}\n"
      ],
      "text/markdown": [
       "\n",
       "A data.frame: 6 × 42\n",
       "\n",
       "| <!--/--> | orig.ident &lt;chr&gt; | nCount_RNA &lt;dbl&gt; | nFeature_RNA &lt;int&gt; | percent.mt &lt;dbl&gt; | RNA_snn_res.0.15 &lt;chr&gt; | seurat_clusters &lt;fct&gt; | RNA_snn_res.0.25 &lt;chr&gt; | RNA_snn_res.0.5 &lt;chr&gt; | LMO_maxID &lt;chr&gt; | LMO_secondID &lt;chr&gt; | ⋯ ⋯ | nGene &lt;int&gt; | nUMI &lt;dbl&gt; | percent.mito &lt;dbl&gt; | res.0.2 &lt;chr&gt; | SCT_snn_res.0.5 &lt;fct&gt; | SCT_snn_res.0.6 &lt;fct&gt; | SCT_snn_res.0.55 &lt;fct&gt; | SCT_snn_res.0.52 &lt;fct&gt; | SCT_snn_res.0.53 &lt;fct&gt; | ID &lt;chr&gt; |\n",
       "|---|---|---|---|---|---|---|---|---|---|---|---|---|---|---|---|---|---|---|---|---|---|\n",
       "| 20_AAACCCAGTACCGTGC-1_2 | GEX2 |  3131 | 1434 | 4.535292 | NA | 3 | NA | 2 | BC11-Young-Iso-5.67-10A-B2-70700-GAGTCGAT | BC10-Old-Iso-20.53-7B-B2-21000-ATTCGCAC | ⋯ | NA | NA | NA | NA | 1 | 2 | 1 | 1 | 3 | BC11 |\n",
       "| 20_AAACCCATCCCGGTAG-1_2 | GEX2 | 10213 | 3255 | 3.446588 | NA | 6 | NA | 4 | BC12-Young-Iso-5.67-10B-B2-70100-AAGGCTAG | BC9-Old-Iso-20.53-7A-B2-33700-AAGTACGC  | ⋯ | NA | NA | NA | NA | 7 | 8 | 7 | 4 | 6 | BC12 |\n",
       "| 20_AAACGAAAGCTCTGTA-1_2 | GEX2 |  3182 | 1497 | 3.048397 | NA | 2 | NA | 3 | BC12-Young-Iso-5.67-10B-B2-70100-AAGGCTAG | BC10-Old-Iso-20.53-7B-B2-21000-ATTCGCAC | ⋯ | NA | NA | NA | NA | 3 | 3 | 3 | 3 | 2 | BC12 |\n",
       "| 20_AAACGCTCAACTCCAA-1_2 | GEX2 |  5224 | 2231 | 4.364472 | NA | 0 | NA | 1 | BC12-Young-Iso-5.67-10B-B2-70100-AAGGCTAG | BC10-Old-Iso-20.53-7B-B2-21000-ATTCGCAC | ⋯ | NA | NA | NA | NA | 2 | 0 | 5 | 2 | 0 | BC12 |\n",
       "| 20_AAACGCTTCGAGCCTG-1_2 | GEX2 |  5157 | 2078 | 5.080473 | NA | 4 | NA | 1 | BC12-Young-Iso-5.67-10B-B2-70100-AAGGCTAG | BC9-Old-Iso-20.53-7A-B2-33700-AAGTACGC  | ⋯ | NA | NA | NA | NA | 4 | 4 | 4 | 5 | 4 | BC12 |\n",
       "| 20_AAAGGATAGTAAGCAT-1_2 | GEX2 |  2550 | 1234 | 0.745098 | NA | 8 | NA | 0 | BC12-Young-Iso-5.67-10B-B2-70100-AAGGCTAG | BC10-Old-Iso-20.53-7B-B2-21000-ATTCGCAC | ⋯ | NA | NA | NA | NA | 0 | 7 | 0 | 0 | 8 | BC12 |\n",
       "\n"
      ],
      "text/plain": [
       "                        orig.ident nCount_RNA nFeature_RNA percent.mt\n",
       "20_AAACCCAGTACCGTGC-1_2 GEX2        3131      1434         4.535292  \n",
       "20_AAACCCATCCCGGTAG-1_2 GEX2       10213      3255         3.446588  \n",
       "20_AAACGAAAGCTCTGTA-1_2 GEX2        3182      1497         3.048397  \n",
       "20_AAACGCTCAACTCCAA-1_2 GEX2        5224      2231         4.364472  \n",
       "20_AAACGCTTCGAGCCTG-1_2 GEX2        5157      2078         5.080473  \n",
       "20_AAAGGATAGTAAGCAT-1_2 GEX2        2550      1234         0.745098  \n",
       "                        RNA_snn_res.0.15 seurat_clusters RNA_snn_res.0.25\n",
       "20_AAACCCAGTACCGTGC-1_2 NA               3               NA              \n",
       "20_AAACCCATCCCGGTAG-1_2 NA               6               NA              \n",
       "20_AAACGAAAGCTCTGTA-1_2 NA               2               NA              \n",
       "20_AAACGCTCAACTCCAA-1_2 NA               0               NA              \n",
       "20_AAACGCTTCGAGCCTG-1_2 NA               4               NA              \n",
       "20_AAAGGATAGTAAGCAT-1_2 NA               8               NA              \n",
       "                        RNA_snn_res.0.5\n",
       "20_AAACCCAGTACCGTGC-1_2 2              \n",
       "20_AAACCCATCCCGGTAG-1_2 4              \n",
       "20_AAACGAAAGCTCTGTA-1_2 3              \n",
       "20_AAACGCTCAACTCCAA-1_2 1              \n",
       "20_AAACGCTTCGAGCCTG-1_2 1              \n",
       "20_AAAGGATAGTAAGCAT-1_2 0              \n",
       "                        LMO_maxID                                \n",
       "20_AAACCCAGTACCGTGC-1_2 BC11-Young-Iso-5.67-10A-B2-70700-GAGTCGAT\n",
       "20_AAACCCATCCCGGTAG-1_2 BC12-Young-Iso-5.67-10B-B2-70100-AAGGCTAG\n",
       "20_AAACGAAAGCTCTGTA-1_2 BC12-Young-Iso-5.67-10B-B2-70100-AAGGCTAG\n",
       "20_AAACGCTCAACTCCAA-1_2 BC12-Young-Iso-5.67-10B-B2-70100-AAGGCTAG\n",
       "20_AAACGCTTCGAGCCTG-1_2 BC12-Young-Iso-5.67-10B-B2-70100-AAGGCTAG\n",
       "20_AAAGGATAGTAAGCAT-1_2 BC12-Young-Iso-5.67-10B-B2-70100-AAGGCTAG\n",
       "                        LMO_secondID                            ⋯ nGene nUMI\n",
       "20_AAACCCAGTACCGTGC-1_2 BC10-Old-Iso-20.53-7B-B2-21000-ATTCGCAC ⋯ NA    NA  \n",
       "20_AAACCCATCCCGGTAG-1_2 BC9-Old-Iso-20.53-7A-B2-33700-AAGTACGC  ⋯ NA    NA  \n",
       "20_AAACGAAAGCTCTGTA-1_2 BC10-Old-Iso-20.53-7B-B2-21000-ATTCGCAC ⋯ NA    NA  \n",
       "20_AAACGCTCAACTCCAA-1_2 BC10-Old-Iso-20.53-7B-B2-21000-ATTCGCAC ⋯ NA    NA  \n",
       "20_AAACGCTTCGAGCCTG-1_2 BC9-Old-Iso-20.53-7A-B2-33700-AAGTACGC  ⋯ NA    NA  \n",
       "20_AAAGGATAGTAAGCAT-1_2 BC10-Old-Iso-20.53-7B-B2-21000-ATTCGCAC ⋯ NA    NA  \n",
       "                        percent.mito res.0.2 SCT_snn_res.0.5 SCT_snn_res.0.6\n",
       "20_AAACCCAGTACCGTGC-1_2 NA           NA      1               2              \n",
       "20_AAACCCATCCCGGTAG-1_2 NA           NA      7               8              \n",
       "20_AAACGAAAGCTCTGTA-1_2 NA           NA      3               3              \n",
       "20_AAACGCTCAACTCCAA-1_2 NA           NA      2               0              \n",
       "20_AAACGCTTCGAGCCTG-1_2 NA           NA      4               4              \n",
       "20_AAAGGATAGTAAGCAT-1_2 NA           NA      0               7              \n",
       "                        SCT_snn_res.0.55 SCT_snn_res.0.52 SCT_snn_res.0.53 ID  \n",
       "20_AAACCCAGTACCGTGC-1_2 1                1                3                BC11\n",
       "20_AAACCCATCCCGGTAG-1_2 7                4                6                BC12\n",
       "20_AAACGAAAGCTCTGTA-1_2 3                3                2                BC12\n",
       "20_AAACGCTCAACTCCAA-1_2 5                2                0                BC12\n",
       "20_AAACGCTTCGAGCCTG-1_2 4                5                4                BC12\n",
       "20_AAAGGATAGTAAGCAT-1_2 0                0                8                BC12"
      ]
     },
     "metadata": {},
     "output_type": "display_data"
    }
   ],
   "source": [
    "# Split off Young Control data\n",
    "ycontroldata <- metadata %>% filter(AgeCond==\"Y_Iso\")\n",
    "head(ycontroldata)"
   ]
  },
  {
   "cell_type": "code",
   "execution_count": 13,
   "id": "68dd24b2-59ac-4633-9874-1779c6fc775f",
   "metadata": {},
   "outputs": [
    {
     "data": {
      "text/html": [
       "<table class=\"dataframe\">\n",
       "<caption>A data.frame: 6 × 42</caption>\n",
       "<thead>\n",
       "\t<tr><th></th><th scope=col>orig.ident</th><th scope=col>nCount_RNA</th><th scope=col>nFeature_RNA</th><th scope=col>percent.mt</th><th scope=col>RNA_snn_res.0.15</th><th scope=col>seurat_clusters</th><th scope=col>RNA_snn_res.0.25</th><th scope=col>RNA_snn_res.0.5</th><th scope=col>LMO_maxID</th><th scope=col>LMO_secondID</th><th scope=col>⋯</th><th scope=col>nGene</th><th scope=col>nUMI</th><th scope=col>percent.mito</th><th scope=col>res.0.2</th><th scope=col>SCT_snn_res.0.5</th><th scope=col>SCT_snn_res.0.6</th><th scope=col>SCT_snn_res.0.55</th><th scope=col>SCT_snn_res.0.52</th><th scope=col>SCT_snn_res.0.53</th><th scope=col>ID</th></tr>\n",
       "\t<tr><th></th><th scope=col>&lt;chr&gt;</th><th scope=col>&lt;dbl&gt;</th><th scope=col>&lt;int&gt;</th><th scope=col>&lt;dbl&gt;</th><th scope=col>&lt;chr&gt;</th><th scope=col>&lt;fct&gt;</th><th scope=col>&lt;chr&gt;</th><th scope=col>&lt;chr&gt;</th><th scope=col>&lt;chr&gt;</th><th scope=col>&lt;chr&gt;</th><th scope=col>⋯</th><th scope=col>&lt;int&gt;</th><th scope=col>&lt;dbl&gt;</th><th scope=col>&lt;dbl&gt;</th><th scope=col>&lt;chr&gt;</th><th scope=col>&lt;fct&gt;</th><th scope=col>&lt;fct&gt;</th><th scope=col>&lt;fct&gt;</th><th scope=col>&lt;fct&gt;</th><th scope=col>&lt;fct&gt;</th><th scope=col>&lt;chr&gt;</th></tr>\n",
       "</thead>\n",
       "<tbody>\n",
       "\t<tr><th scope=row>20_AAACCCATCGGTAGGA-1_1</th><td>GEX1</td><td> 5461</td><td>2259</td><td>3.9186962</td><td>3</td><td>3</td><td>3</td><td>3</td><td>BC2-Young-Het-5.10-1B-B1-14300-TCAATGGC</td><td>BC1-Old-Het-20.50-1A-B1-25000-TGTGATGG</td><td>⋯</td><td>NA</td><td>NA</td><td>NA</td><td>NA</td><td>1</td><td>2 </td><td>1</td><td>1</td><td>3</td><td>BC2</td></tr>\n",
       "\t<tr><th scope=row>20_AAACGCTTCGCAGTCG-1_1</th><td>GEX1</td><td> 5762</td><td>2182</td><td>5.9007289</td><td>1</td><td>4</td><td>1</td><td>1</td><td>BC2-Young-Het-5.10-1B-B1-14300-TCAATGGC</td><td>BC4-Old-Iso-20.50-6B-B1-16224-ACCAATGC</td><td>⋯</td><td>NA</td><td>NA</td><td>NA</td><td>NA</td><td>4</td><td>4 </td><td>4</td><td>5</td><td>4</td><td>BC2</td></tr>\n",
       "\t<tr><th scope=row>20_AAAGGATAGGAAACGA-1_1</th><td>GEX1</td><td>12454</td><td>3794</td><td>4.0308335</td><td>4</td><td>9</td><td>5</td><td>5</td><td>BC2-Young-Het-5.10-1B-B1-14300-TCAATGGC</td><td>BC1-Old-Het-20.50-1A-B1-25000-TGTGATGG</td><td>⋯</td><td>NA</td><td>NA</td><td>NA</td><td>NA</td><td>8</td><td>10</td><td>8</td><td>7</td><td>9</td><td>BC2</td></tr>\n",
       "\t<tr><th scope=row>20_AAATGGATCACAATGC-1_1</th><td>GEX1</td><td> 6266</td><td>2143</td><td>2.0108522</td><td>0</td><td>1</td><td>0</td><td>0</td><td>BC2-Young-Het-5.10-1B-B1-14300-TCAATGGC</td><td>BC4-Old-Iso-20.50-6B-B1-16224-ACCAATGC</td><td>⋯</td><td>NA</td><td>NA</td><td>NA</td><td>NA</td><td>0</td><td>1 </td><td>0</td><td>0</td><td>1</td><td>BC2</td></tr>\n",
       "\t<tr><th scope=row>20_AACCAACTCTCCTGTG-1_1</th><td>GEX1</td><td> 3006</td><td>1403</td><td>0.7984032</td><td>0</td><td>8</td><td>0</td><td>0</td><td>BC2-Young-Het-5.10-1B-B1-14300-TCAATGGC</td><td>BC5-Old-Iso-20.50-9A-B1-24388-AGTTGCGT</td><td>⋯</td><td>NA</td><td>NA</td><td>NA</td><td>NA</td><td>0</td><td>7 </td><td>0</td><td>0</td><td>8</td><td>BC2</td></tr>\n",
       "\t<tr><th scope=row>20_AACCACAAGCATGCAG-1_1</th><td>GEX1</td><td>14970</td><td>3999</td><td>5.6112224</td><td>1</td><td>4</td><td>1</td><td>1</td><td>BC2-Young-Het-5.10-1B-B1-14300-TCAATGGC</td><td>BC6-Old-Iso-20.50-9B-B1-29863-CGAACAAG</td><td>⋯</td><td>NA</td><td>NA</td><td>NA</td><td>NA</td><td>4</td><td>4 </td><td>4</td><td>5</td><td>4</td><td>BC2</td></tr>\n",
       "</tbody>\n",
       "</table>\n"
      ],
      "text/latex": [
       "A data.frame: 6 × 42\n",
       "\\begin{tabular}{r|lllllllllllllllllllll}\n",
       "  & orig.ident & nCount\\_RNA & nFeature\\_RNA & percent.mt & RNA\\_snn\\_res.0.15 & seurat\\_clusters & RNA\\_snn\\_res.0.25 & RNA\\_snn\\_res.0.5 & LMO\\_maxID & LMO\\_secondID & ⋯ & nGene & nUMI & percent.mito & res.0.2 & SCT\\_snn\\_res.0.5 & SCT\\_snn\\_res.0.6 & SCT\\_snn\\_res.0.55 & SCT\\_snn\\_res.0.52 & SCT\\_snn\\_res.0.53 & ID\\\\\n",
       "  & <chr> & <dbl> & <int> & <dbl> & <chr> & <fct> & <chr> & <chr> & <chr> & <chr> & ⋯ & <int> & <dbl> & <dbl> & <chr> & <fct> & <fct> & <fct> & <fct> & <fct> & <chr>\\\\\n",
       "\\hline\n",
       "\t20\\_AAACCCATCGGTAGGA-1\\_1 & GEX1 &  5461 & 2259 & 3.9186962 & 3 & 3 & 3 & 3 & BC2-Young-Het-5.10-1B-B1-14300-TCAATGGC & BC1-Old-Het-20.50-1A-B1-25000-TGTGATGG & ⋯ & NA & NA & NA & NA & 1 & 2  & 1 & 1 & 3 & BC2\\\\\n",
       "\t20\\_AAACGCTTCGCAGTCG-1\\_1 & GEX1 &  5762 & 2182 & 5.9007289 & 1 & 4 & 1 & 1 & BC2-Young-Het-5.10-1B-B1-14300-TCAATGGC & BC4-Old-Iso-20.50-6B-B1-16224-ACCAATGC & ⋯ & NA & NA & NA & NA & 4 & 4  & 4 & 5 & 4 & BC2\\\\\n",
       "\t20\\_AAAGGATAGGAAACGA-1\\_1 & GEX1 & 12454 & 3794 & 4.0308335 & 4 & 9 & 5 & 5 & BC2-Young-Het-5.10-1B-B1-14300-TCAATGGC & BC1-Old-Het-20.50-1A-B1-25000-TGTGATGG & ⋯ & NA & NA & NA & NA & 8 & 10 & 8 & 7 & 9 & BC2\\\\\n",
       "\t20\\_AAATGGATCACAATGC-1\\_1 & GEX1 &  6266 & 2143 & 2.0108522 & 0 & 1 & 0 & 0 & BC2-Young-Het-5.10-1B-B1-14300-TCAATGGC & BC4-Old-Iso-20.50-6B-B1-16224-ACCAATGC & ⋯ & NA & NA & NA & NA & 0 & 1  & 0 & 0 & 1 & BC2\\\\\n",
       "\t20\\_AACCAACTCTCCTGTG-1\\_1 & GEX1 &  3006 & 1403 & 0.7984032 & 0 & 8 & 0 & 0 & BC2-Young-Het-5.10-1B-B1-14300-TCAATGGC & BC5-Old-Iso-20.50-9A-B1-24388-AGTTGCGT & ⋯ & NA & NA & NA & NA & 0 & 7  & 0 & 0 & 8 & BC2\\\\\n",
       "\t20\\_AACCACAAGCATGCAG-1\\_1 & GEX1 & 14970 & 3999 & 5.6112224 & 1 & 4 & 1 & 1 & BC2-Young-Het-5.10-1B-B1-14300-TCAATGGC & BC6-Old-Iso-20.50-9B-B1-29863-CGAACAAG & ⋯ & NA & NA & NA & NA & 4 & 4  & 4 & 5 & 4 & BC2\\\\\n",
       "\\end{tabular}\n"
      ],
      "text/markdown": [
       "\n",
       "A data.frame: 6 × 42\n",
       "\n",
       "| <!--/--> | orig.ident &lt;chr&gt; | nCount_RNA &lt;dbl&gt; | nFeature_RNA &lt;int&gt; | percent.mt &lt;dbl&gt; | RNA_snn_res.0.15 &lt;chr&gt; | seurat_clusters &lt;fct&gt; | RNA_snn_res.0.25 &lt;chr&gt; | RNA_snn_res.0.5 &lt;chr&gt; | LMO_maxID &lt;chr&gt; | LMO_secondID &lt;chr&gt; | ⋯ ⋯ | nGene &lt;int&gt; | nUMI &lt;dbl&gt; | percent.mito &lt;dbl&gt; | res.0.2 &lt;chr&gt; | SCT_snn_res.0.5 &lt;fct&gt; | SCT_snn_res.0.6 &lt;fct&gt; | SCT_snn_res.0.55 &lt;fct&gt; | SCT_snn_res.0.52 &lt;fct&gt; | SCT_snn_res.0.53 &lt;fct&gt; | ID &lt;chr&gt; |\n",
       "|---|---|---|---|---|---|---|---|---|---|---|---|---|---|---|---|---|---|---|---|---|---|\n",
       "| 20_AAACCCATCGGTAGGA-1_1 | GEX1 |  5461 | 2259 | 3.9186962 | 3 | 3 | 3 | 3 | BC2-Young-Het-5.10-1B-B1-14300-TCAATGGC | BC1-Old-Het-20.50-1A-B1-25000-TGTGATGG | ⋯ | NA | NA | NA | NA | 1 | 2  | 1 | 1 | 3 | BC2 |\n",
       "| 20_AAACGCTTCGCAGTCG-1_1 | GEX1 |  5762 | 2182 | 5.9007289 | 1 | 4 | 1 | 1 | BC2-Young-Het-5.10-1B-B1-14300-TCAATGGC | BC4-Old-Iso-20.50-6B-B1-16224-ACCAATGC | ⋯ | NA | NA | NA | NA | 4 | 4  | 4 | 5 | 4 | BC2 |\n",
       "| 20_AAAGGATAGGAAACGA-1_1 | GEX1 | 12454 | 3794 | 4.0308335 | 4 | 9 | 5 | 5 | BC2-Young-Het-5.10-1B-B1-14300-TCAATGGC | BC1-Old-Het-20.50-1A-B1-25000-TGTGATGG | ⋯ | NA | NA | NA | NA | 8 | 10 | 8 | 7 | 9 | BC2 |\n",
       "| 20_AAATGGATCACAATGC-1_1 | GEX1 |  6266 | 2143 | 2.0108522 | 0 | 1 | 0 | 0 | BC2-Young-Het-5.10-1B-B1-14300-TCAATGGC | BC4-Old-Iso-20.50-6B-B1-16224-ACCAATGC | ⋯ | NA | NA | NA | NA | 0 | 1  | 0 | 0 | 1 | BC2 |\n",
       "| 20_AACCAACTCTCCTGTG-1_1 | GEX1 |  3006 | 1403 | 0.7984032 | 0 | 8 | 0 | 0 | BC2-Young-Het-5.10-1B-B1-14300-TCAATGGC | BC5-Old-Iso-20.50-9A-B1-24388-AGTTGCGT | ⋯ | NA | NA | NA | NA | 0 | 7  | 0 | 0 | 8 | BC2 |\n",
       "| 20_AACCACAAGCATGCAG-1_1 | GEX1 | 14970 | 3999 | 5.6112224 | 1 | 4 | 1 | 1 | BC2-Young-Het-5.10-1B-B1-14300-TCAATGGC | BC6-Old-Iso-20.50-9B-B1-29863-CGAACAAG | ⋯ | NA | NA | NA | NA | 4 | 4  | 4 | 5 | 4 | BC2 |\n",
       "\n"
      ],
      "text/plain": [
       "                        orig.ident nCount_RNA nFeature_RNA percent.mt\n",
       "20_AAACCCATCGGTAGGA-1_1 GEX1        5461      2259         3.9186962 \n",
       "20_AAACGCTTCGCAGTCG-1_1 GEX1        5762      2182         5.9007289 \n",
       "20_AAAGGATAGGAAACGA-1_1 GEX1       12454      3794         4.0308335 \n",
       "20_AAATGGATCACAATGC-1_1 GEX1        6266      2143         2.0108522 \n",
       "20_AACCAACTCTCCTGTG-1_1 GEX1        3006      1403         0.7984032 \n",
       "20_AACCACAAGCATGCAG-1_1 GEX1       14970      3999         5.6112224 \n",
       "                        RNA_snn_res.0.15 seurat_clusters RNA_snn_res.0.25\n",
       "20_AAACCCATCGGTAGGA-1_1 3                3               3               \n",
       "20_AAACGCTTCGCAGTCG-1_1 1                4               1               \n",
       "20_AAAGGATAGGAAACGA-1_1 4                9               5               \n",
       "20_AAATGGATCACAATGC-1_1 0                1               0               \n",
       "20_AACCAACTCTCCTGTG-1_1 0                8               0               \n",
       "20_AACCACAAGCATGCAG-1_1 1                4               1               \n",
       "                        RNA_snn_res.0.5 LMO_maxID                              \n",
       "20_AAACCCATCGGTAGGA-1_1 3               BC2-Young-Het-5.10-1B-B1-14300-TCAATGGC\n",
       "20_AAACGCTTCGCAGTCG-1_1 1               BC2-Young-Het-5.10-1B-B1-14300-TCAATGGC\n",
       "20_AAAGGATAGGAAACGA-1_1 5               BC2-Young-Het-5.10-1B-B1-14300-TCAATGGC\n",
       "20_AAATGGATCACAATGC-1_1 0               BC2-Young-Het-5.10-1B-B1-14300-TCAATGGC\n",
       "20_AACCAACTCTCCTGTG-1_1 0               BC2-Young-Het-5.10-1B-B1-14300-TCAATGGC\n",
       "20_AACCACAAGCATGCAG-1_1 1               BC2-Young-Het-5.10-1B-B1-14300-TCAATGGC\n",
       "                        LMO_secondID                           ⋯ nGene nUMI\n",
       "20_AAACCCATCGGTAGGA-1_1 BC1-Old-Het-20.50-1A-B1-25000-TGTGATGG ⋯ NA    NA  \n",
       "20_AAACGCTTCGCAGTCG-1_1 BC4-Old-Iso-20.50-6B-B1-16224-ACCAATGC ⋯ NA    NA  \n",
       "20_AAAGGATAGGAAACGA-1_1 BC1-Old-Het-20.50-1A-B1-25000-TGTGATGG ⋯ NA    NA  \n",
       "20_AAATGGATCACAATGC-1_1 BC4-Old-Iso-20.50-6B-B1-16224-ACCAATGC ⋯ NA    NA  \n",
       "20_AACCAACTCTCCTGTG-1_1 BC5-Old-Iso-20.50-9A-B1-24388-AGTTGCGT ⋯ NA    NA  \n",
       "20_AACCACAAGCATGCAG-1_1 BC6-Old-Iso-20.50-9B-B1-29863-CGAACAAG ⋯ NA    NA  \n",
       "                        percent.mito res.0.2 SCT_snn_res.0.5 SCT_snn_res.0.6\n",
       "20_AAACCCATCGGTAGGA-1_1 NA           NA      1               2              \n",
       "20_AAACGCTTCGCAGTCG-1_1 NA           NA      4               4              \n",
       "20_AAAGGATAGGAAACGA-1_1 NA           NA      8               10             \n",
       "20_AAATGGATCACAATGC-1_1 NA           NA      0               1              \n",
       "20_AACCAACTCTCCTGTG-1_1 NA           NA      0               7              \n",
       "20_AACCACAAGCATGCAG-1_1 NA           NA      4               4              \n",
       "                        SCT_snn_res.0.55 SCT_snn_res.0.52 SCT_snn_res.0.53 ID \n",
       "20_AAACCCATCGGTAGGA-1_1 1                1                3                BC2\n",
       "20_AAACGCTTCGCAGTCG-1_1 4                5                4                BC2\n",
       "20_AAAGGATAGGAAACGA-1_1 8                7                9                BC2\n",
       "20_AAATGGATCACAATGC-1_1 0                0                1                BC2\n",
       "20_AACCAACTCTCCTGTG-1_1 0                0                8                BC2\n",
       "20_AACCACAAGCATGCAG-1_1 4                5                4                BC2"
      ]
     },
     "metadata": {},
     "output_type": "display_data"
    }
   ],
   "source": [
    "# Split off Young Exercise data\n",
    "yexercisedata <- metadata %>% filter(AgeCond==\"Y_Het\")\n",
    "head(yexercisedata)"
   ]
  },
  {
   "cell_type": "code",
   "execution_count": 14,
   "id": "b9c9cfd6-68a9-4ed5-9ea9-919aba3b29ab",
   "metadata": {},
   "outputs": [],
   "source": [
    "# Look at differences in transcriptional noise in different cell types + see how they change with age"
   ]
  },
  {
   "cell_type": "code",
   "execution_count": 15,
   "id": "32adf37f-2862-4489-a375-6163f7c90c6c",
   "metadata": {},
   "outputs": [],
   "source": [
    "data <- subset(data, subset = hash.ID != \"NA\")"
   ]
  },
  {
   "cell_type": "code",
   "execution_count": 16,
   "id": "2c2b0c02-4da1-45e7-a41f-4ce6ca60aa6d",
   "metadata": {},
   "outputs": [],
   "source": [
    "data@meta.data <- data@meta.data %>%\n",
    "  mutate(ID = sub(\"-.*\", \"\", hash.ID))"
   ]
  },
  {
   "cell_type": "code",
   "execution_count": 17,
   "id": "da83411a-9dab-48c6-8e68-798032d6c745",
   "metadata": {},
   "outputs": [],
   "source": [
    "seurat_list <- SplitObject(data, split.by = \"ID\")"
   ]
  },
  {
   "cell_type": "code",
   "execution_count": 18,
   "id": "8f012796-e1f4-4a8e-97e7-c8cf1057f8fe",
   "metadata": {},
   "outputs": [],
   "source": [
    "initial_matrices <- lapply(seurat_list, function(x) GetAssayData(x, slot = \"data\"))"
   ]
  },
  {
   "cell_type": "code",
   "execution_count": 19,
   "id": "03051624-6d9c-4b0d-aeaa-13eac13fc2c4",
   "metadata": {},
   "outputs": [],
   "source": [
    "# Find transcriptional noise across all individuals and compare\n",
    "noiselist <- c();\n",
    "\n",
    "hashidlist <- c('BC2-Young-Het-5.10-1B-B1-14300-TCAATGGC', 'BC3-Old-Iso-20.50-6A-B1-35260-CTCTAGAC', \n",
    "            'BC4-Old-Iso-20.50-6B-B1-16224-ACCAATGC', 'BC6-Old-Iso-20.50-9B-B1-29863-CGAACAAG', \n",
    "            'BC1-Old-Het-20.50-1A-B1-25000-TGTGATGG', 'BC5-Old-Iso-20.50-9A-B1-24388-AGTTGCGT',\n",
    "            'BC7-Old-Het-20.53-2A-B2-51000-GTACCTGT', 'BC13-Old-Het-20.53-5A-B2-50000-CAGTTAGG',\n",
    "            'BC11-Young-Iso-5.67-10A-B2-70700-GAGTCGAT', 'BC9-Old-Iso-20.53-7A-B2-33700-AAGTACGC',\n",
    "            'BC12-Young-Iso-5.67-10B-B2-70100-AAGGCTAG', 'BC8-Young-Het-5.13-2B-B2-30500-GAAGCTTG',\n",
    "            'BC14-Young-Het-5.13-5B-B2-50100-AACCGAAC', 'BC10-Old-Iso-20.53-7B-B2-21000-ATTCGCAC',\n",
    "            'BC23-Young-Iso-4.60-15A-B4-28000-ATCTACGG', 'BC22-Young-Het-5.40-14B-B4-38000-CGATTAGC',\n",
    "            'BC21-Old-Het-20.80-14A-B4-24000-GAGAGACT', 'BC24-Young-Iso-4.60-15B-B4-22800-TGTACCAG');\n",
    "\n",
    "idlist <- c('BC2', 'BC3', \n",
    "            'BC4', 'BC6', \n",
    "            'BC1', 'BC5',\n",
    "            'BC7', 'BC13',\n",
    "            'BC11', 'BC9',\n",
    "            'BC12', 'BC8',\n",
    "            'BC14', 'BC10',\n",
    "            'BC23', 'BC22',\n",
    "            'BC21', 'BC24');\n",
    "\n",
    "experimentalgroup <- c(\"young het\", \"old iso\", \"old iso\", \"old iso\", \"old het\", \"old iso\", \"old het\", \"old het\", \"young iso\", \n",
    "                       \"old iso\", \"young iso\", \"young het\", \"young het\", \"old iso\", \"young iso\", \"young het\", \"old het\", \"young iso\");\n",
    "\n",
    "cols <- c(\"#556F44\", \"#78CDD7\", \"#78CDD7\", \"#78CDD7\", \"#235789\", \"#78CDD7\", \"#235789\", \"#235789\", \"#A7A650\", \n",
    "                       \"#78CDD7\", \"#A7A650\", \"#556F44\", \"#556F44\", \"#78CDD7\", \"#A7A650\", \"#556F44\", \"#235789\", \"#A7A650\");\n",
    "\n",
    "for (x in 1:15) {\n",
    "    noise <- (seurat_list[[x]]$nCount_SCT %>% sd())/(seurat_list[[x]]$nCount_SCT %>% mean())\n",
    "    noiselist <- c(noiselist, noise)\n",
    "}\n"
   ]
  },
  {
   "cell_type": "code",
   "execution_count": 20,
   "id": "9c670246-8ddc-4c00-8966-f7c75104ce6a",
   "metadata": {},
   "outputs": [],
   "source": [
    "calculateNoise <- function(gene){\n",
    "sd(gene)/mean(gene)\n",
    "}"
   ]
  },
  {
   "cell_type": "code",
   "execution_count": 21,
   "id": "12605cc7-4c51-4843-ab72-90f840f56add",
   "metadata": {},
   "outputs": [],
   "source": [
    "# For each matrix in initial_matrices, go row by row (gene by gene) and calculate noise for that gene\n",
    "noiseDistributions <- lapply(initial_matrices, function(matrix) {\n",
    "apply(matrix, MARGIN = 2, FUN = calculateNoise)\n",
    "})"
   ]
  },
  {
   "cell_type": "code",
   "execution_count": 22,
   "id": "07fe6dbe-faf1-4038-b905-3c1504aac1cc",
   "metadata": {},
   "outputs": [],
   "source": [
    "# Convect noiseDistributions to a dataframe again\n",
    "noiseDistributions_asDF <- do.call(rbind, lapply(seq_along(noiseDistributions), function(i) {\n",
    "  data.frame(ID = names(noiseDistributions)[i], Value = noiseDistributions[[i]])\n",
    "}))"
   ]
  },
  {
   "cell_type": "code",
   "execution_count": 23,
   "id": "8f21000c-fdf5-4df5-a068-3fd6f1c94488",
   "metadata": {},
   "outputs": [
    {
     "data": {
      "text/html": [
       "<table class=\"dataframe\">\n",
       "<caption>A data.frame: 6 × 2</caption>\n",
       "<thead>\n",
       "\t<tr><th></th><th scope=col>ID</th><th scope=col>Value</th></tr>\n",
       "\t<tr><th></th><th scope=col>&lt;chr&gt;</th><th scope=col>&lt;dbl&gt;</th></tr>\n",
       "</thead>\n",
       "<tbody>\n",
       "\t<tr><th scope=row>20_AAACCCATCGGTAGGA-1_1</th><td>BC2</td><td>3.076132</td></tr>\n",
       "\t<tr><th scope=row>20_AAACGCTTCGCAGTCG-1_1</th><td>BC2</td><td>3.149995</td></tr>\n",
       "\t<tr><th scope=row>20_AAAGGATAGGAAACGA-1_1</th><td>BC2</td><td>2.995256</td></tr>\n",
       "\t<tr><th scope=row>20_AAATGGATCACAATGC-1_1</th><td>BC2</td><td>3.241494</td></tr>\n",
       "\t<tr><th scope=row>20_AACCAACTCTCCTGTG-1_1</th><td>BC2</td><td>4.094403</td></tr>\n",
       "\t<tr><th scope=row>20_AACCACAAGCATGCAG-1_1</th><td>BC2</td><td>3.335202</td></tr>\n",
       "</tbody>\n",
       "</table>\n"
      ],
      "text/latex": [
       "A data.frame: 6 × 2\n",
       "\\begin{tabular}{r|ll}\n",
       "  & ID & Value\\\\\n",
       "  & <chr> & <dbl>\\\\\n",
       "\\hline\n",
       "\t20\\_AAACCCATCGGTAGGA-1\\_1 & BC2 & 3.076132\\\\\n",
       "\t20\\_AAACGCTTCGCAGTCG-1\\_1 & BC2 & 3.149995\\\\\n",
       "\t20\\_AAAGGATAGGAAACGA-1\\_1 & BC2 & 2.995256\\\\\n",
       "\t20\\_AAATGGATCACAATGC-1\\_1 & BC2 & 3.241494\\\\\n",
       "\t20\\_AACCAACTCTCCTGTG-1\\_1 & BC2 & 4.094403\\\\\n",
       "\t20\\_AACCACAAGCATGCAG-1\\_1 & BC2 & 3.335202\\\\\n",
       "\\end{tabular}\n"
      ],
      "text/markdown": [
       "\n",
       "A data.frame: 6 × 2\n",
       "\n",
       "| <!--/--> | ID &lt;chr&gt; | Value &lt;dbl&gt; |\n",
       "|---|---|---|\n",
       "| 20_AAACCCATCGGTAGGA-1_1 | BC2 | 3.076132 |\n",
       "| 20_AAACGCTTCGCAGTCG-1_1 | BC2 | 3.149995 |\n",
       "| 20_AAAGGATAGGAAACGA-1_1 | BC2 | 2.995256 |\n",
       "| 20_AAATGGATCACAATGC-1_1 | BC2 | 3.241494 |\n",
       "| 20_AACCAACTCTCCTGTG-1_1 | BC2 | 4.094403 |\n",
       "| 20_AACCACAAGCATGCAG-1_1 | BC2 | 3.335202 |\n",
       "\n"
      ],
      "text/plain": [
       "                        ID  Value   \n",
       "20_AAACCCATCGGTAGGA-1_1 BC2 3.076132\n",
       "20_AAACGCTTCGCAGTCG-1_1 BC2 3.149995\n",
       "20_AAAGGATAGGAAACGA-1_1 BC2 2.995256\n",
       "20_AAATGGATCACAATGC-1_1 BC2 3.241494\n",
       "20_AACCAACTCTCCTGTG-1_1 BC2 4.094403\n",
       "20_AACCACAAGCATGCAG-1_1 BC2 3.335202"
      ]
     },
     "metadata": {},
     "output_type": "display_data"
    }
   ],
   "source": [
    "head(noiseDistributions_asDF)"
   ]
  },
  {
   "cell_type": "code",
   "execution_count": 24,
   "id": "383741d5-3945-46dc-aeb5-041664262f51",
   "metadata": {
    "scrolled": true
   },
   "outputs": [
    {
     "data": {
      "text/html": [
       "<table class=\"dataframe\">\n",
       "<caption>A tibble: 18 × 2</caption>\n",
       "<thead>\n",
       "\t<tr><th scope=col>ID</th><th scope=col>MedianValue</th></tr>\n",
       "\t<tr><th scope=col>&lt;chr&gt;</th><th scope=col>&lt;dbl&gt;</th></tr>\n",
       "</thead>\n",
       "<tbody>\n",
       "\t<tr><td>BC1 </td><td>3.234427</td></tr>\n",
       "\t<tr><td>BC10</td><td>3.277864</td></tr>\n",
       "\t<tr><td>BC11</td><td>3.255911</td></tr>\n",
       "\t<tr><td>BC12</td><td>3.204199</td></tr>\n",
       "\t<tr><td>BC13</td><td>3.229412</td></tr>\n",
       "\t<tr><td>BC14</td><td>3.173003</td></tr>\n",
       "\t<tr><td>BC2 </td><td>3.129944</td></tr>\n",
       "\t<tr><td>BC21</td><td>3.262629</td></tr>\n",
       "\t<tr><td>BC22</td><td>3.152871</td></tr>\n",
       "\t<tr><td>BC23</td><td>3.177993</td></tr>\n",
       "\t<tr><td>BC24</td><td>3.177374</td></tr>\n",
       "\t<tr><td>BC3 </td><td>3.128533</td></tr>\n",
       "\t<tr><td>BC4 </td><td>3.106666</td></tr>\n",
       "\t<tr><td>BC5 </td><td>3.114005</td></tr>\n",
       "\t<tr><td>BC6 </td><td>3.090674</td></tr>\n",
       "\t<tr><td>BC7 </td><td>3.262603</td></tr>\n",
       "\t<tr><td>BC8 </td><td>3.193850</td></tr>\n",
       "\t<tr><td>BC9 </td><td>3.300561</td></tr>\n",
       "</tbody>\n",
       "</table>\n"
      ],
      "text/latex": [
       "A tibble: 18 × 2\n",
       "\\begin{tabular}{ll}\n",
       " ID & MedianValue\\\\\n",
       " <chr> & <dbl>\\\\\n",
       "\\hline\n",
       "\t BC1  & 3.234427\\\\\n",
       "\t BC10 & 3.277864\\\\\n",
       "\t BC11 & 3.255911\\\\\n",
       "\t BC12 & 3.204199\\\\\n",
       "\t BC13 & 3.229412\\\\\n",
       "\t BC14 & 3.173003\\\\\n",
       "\t BC2  & 3.129944\\\\\n",
       "\t BC21 & 3.262629\\\\\n",
       "\t BC22 & 3.152871\\\\\n",
       "\t BC23 & 3.177993\\\\\n",
       "\t BC24 & 3.177374\\\\\n",
       "\t BC3  & 3.128533\\\\\n",
       "\t BC4  & 3.106666\\\\\n",
       "\t BC5  & 3.114005\\\\\n",
       "\t BC6  & 3.090674\\\\\n",
       "\t BC7  & 3.262603\\\\\n",
       "\t BC8  & 3.193850\\\\\n",
       "\t BC9  & 3.300561\\\\\n",
       "\\end{tabular}\n"
      ],
      "text/markdown": [
       "\n",
       "A tibble: 18 × 2\n",
       "\n",
       "| ID &lt;chr&gt; | MedianValue &lt;dbl&gt; |\n",
       "|---|---|\n",
       "| BC1  | 3.234427 |\n",
       "| BC10 | 3.277864 |\n",
       "| BC11 | 3.255911 |\n",
       "| BC12 | 3.204199 |\n",
       "| BC13 | 3.229412 |\n",
       "| BC14 | 3.173003 |\n",
       "| BC2  | 3.129944 |\n",
       "| BC21 | 3.262629 |\n",
       "| BC22 | 3.152871 |\n",
       "| BC23 | 3.177993 |\n",
       "| BC24 | 3.177374 |\n",
       "| BC3  | 3.128533 |\n",
       "| BC4  | 3.106666 |\n",
       "| BC5  | 3.114005 |\n",
       "| BC6  | 3.090674 |\n",
       "| BC7  | 3.262603 |\n",
       "| BC8  | 3.193850 |\n",
       "| BC9  | 3.300561 |\n",
       "\n"
      ],
      "text/plain": [
       "   ID   MedianValue\n",
       "1  BC1  3.234427   \n",
       "2  BC10 3.277864   \n",
       "3  BC11 3.255911   \n",
       "4  BC12 3.204199   \n",
       "5  BC13 3.229412   \n",
       "6  BC14 3.173003   \n",
       "7  BC2  3.129944   \n",
       "8  BC21 3.262629   \n",
       "9  BC22 3.152871   \n",
       "10 BC23 3.177993   \n",
       "11 BC24 3.177374   \n",
       "12 BC3  3.128533   \n",
       "13 BC4  3.106666   \n",
       "14 BC5  3.114005   \n",
       "15 BC6  3.090674   \n",
       "16 BC7  3.262603   \n",
       "17 BC8  3.193850   \n",
       "18 BC9  3.300561   "
      ]
     },
     "metadata": {},
     "output_type": "display_data"
    }
   ],
   "source": [
    "medians <- noiseDistributions_asDF %>%\n",
    "  group_by(ID) %>%\n",
    "  summarize(MedianValue = median(Value, na.rm = TRUE))\n",
    "medians"
   ]
  },
  {
   "cell_type": "code",
   "execution_count": 25,
   "id": "d2a7298a-2b0f-4b8e-b51a-d2cdcc67805d",
   "metadata": {},
   "outputs": [],
   "source": [
    "medians <- medians %>%\n",
    "  mutate(ExperimentalGroup = experimentalgroup)"
   ]
  },
  {
   "cell_type": "code",
   "execution_count": 26,
   "id": "47dc1e97-31e0-44c8-b193-55afcd080ea2",
   "metadata": {},
   "outputs": [],
   "source": [
    "idstoname <- function(ids) {\n",
    "    ids <- unlist(strsplit(ids, \"/\"))\n",
    "    genenames <- mapIds(org.Mm.eg.db, keys = ids, column = \"SYMBOL\", keytype = \"ENTREZID\", multiVals = \"first\")\n",
    "    paste(genenames, collapse = \"/\")\n",
    "}"
   ]
  },
  {
   "cell_type": "code",
   "execution_count": 27,
   "id": "c99362c7-7e04-415b-ba44-9a0fecc2a6e4",
   "metadata": {},
   "outputs": [],
   "source": [
    "clean_cell <- function(cell) {\n",
    "  if (length(cell) == 0) {\n",
    "    return(0)\n",
    "  }\n",
    "\n",
    "  return(cell[1])\n",
    "}"
   ]
  },
  {
   "cell_type": "code",
   "execution_count": 28,
   "id": "ac48753b-0da8-4e40-841a-d82be3a812cb",
   "metadata": {},
   "outputs": [],
   "source": [
    "differentially_expressed_genes_old <- c()\n",
    "differentially_expressed_genes_young <- c()\n",
    "\n",
    "list_of_cell_specific_de_results_OLD <- data.frame()\n",
    "list_of_cell_specific_de_results_YOUNG <- data.frame()\n",
    "\n",
    "significant_genes_celltype_specific_OLD <- c()\n",
    "significant_genes_celltype_specific_YOUNG <- c()"
   ]
  },
  {
   "cell_type": "code",
   "execution_count": 29,
   "id": "eb3872f7-5ac0-4bf3-b7da-d85d22196cc6",
   "metadata": {},
   "outputs": [],
   "source": [
    "celltypes <- unique(data@meta.data$Celltype)"
   ]
  },
  {
   "cell_type": "code",
   "execution_count": 30,
   "id": "f7ea8c59-39a8-4e68-9d5e-f5adef902bb1",
   "metadata": {},
   "outputs": [],
   "source": [
    "isoid <- c('BC3', 'BC4', 'BC6', 'BC5', 'BC9', 'BC10')\n",
    "hetid <- c('BC1', 'BC7', 'BC13', 'BC21')\n",
    "isoname <- \"OldIso\"\n",
    "hetname <- \"OldHet\"\n",
    "prefix <- \"Old\"\n",
    "\n",
    "metadata$group <- ifelse(metadata$ID %in% isoid, isoname, \n",
    "                     ifelse(metadata$ID %in% hetid, hetname, NA))\n",
    "data@meta.data <- metadata\n",
    "\n",
    "# get list of important genes for old\n",
    "old_de_results <- FindMarkers(data, ident.1 = hetname, ident.2 = isoname, group.by = \"group\", logfc.threshold = 0)\n",
    "old_de_results <- old_de_results %>%\n",
    "                mutate(significant = ifelse(p_val_adj < 0.005 & abs(avg_log2FC) > 0.25, \"yes\", \"no\"))\n",
    "\n",
    "old_significant_data <- old_de_results %>% filter(significant == \"yes\")\n",
    "\n",
    "old_significant_genes <- rownames(old_significant_data)"
   ]
  },
  {
   "cell_type": "code",
   "execution_count": null,
   "id": "8e1a61bd-dfa3-4006-bd88-766fcdcddb8c",
   "metadata": {
    "scrolled": true
   },
   "outputs": [],
   "source": [
    "isoid <- c('BC11', 'BC12', 'BC23', 'BC24')\n",
    "hetid <- c('BC2', 'BC8', 'BC14', 'BC22')\n",
    "\n",
    "\n",
    "isoname <- \"YoungIso\"\n",
    "hetname <- \"YoungHet\"\n",
    "prefix <- \"Young\"\n",
    "\n",
    "metadata$group <- ifelse(metadata$ID %in% isoid, isoname, \n",
    "                     ifelse(metadata$ID %in% hetid, hetname, NA))\n",
    "data@meta.data <- metadata\n",
    "\n",
    "young_de_results <- FindMarkers(data, ident.1 = hetname, ident.2 = isoname, group.by = \"group\", logfc.threshold = 0)\n",
    "young_de_results <- young_de_results %>%\n",
    "                mutate(significant = ifelse(p_val_adj < 0.005 & abs(avg_log2FC) > 0.25, \"yes\", \"no\"))\n",
    "\n",
    "young_significant_data <- young_de_results %>% filter(significant == \"yes\")\n",
    "\n",
    "young_significant_genes <- rownames(young_significant_data)\n"
   ]
  },
  {
   "cell_type": "code",
   "execution_count": null,
   "id": "1b31aa2b-fa53-480e-a942-dad0a12b45da",
   "metadata": {},
   "outputs": [],
   "source": [
    "all_significant_genes <- c(old_significant_genes, young_significant_genes)"
   ]
  },
  {
   "cell_type": "code",
   "execution_count": null,
   "id": "dad7b0a1-d426-4d37-949a-67f8e4e453ce",
   "metadata": {},
   "outputs": [],
   "source": [
    "length(all_significant_genes)"
   ]
  },
  {
   "cell_type": "code",
   "execution_count": null,
   "id": "58b150a6-4cf7-4353-a5cd-bbdaf57bd638",
   "metadata": {},
   "outputs": [],
   "source": [
    "# iterate through all cell types, get the de_results, add to list of de results\n",
    "for (celltype in celltypes[-11]) {\n",
    "    prefix <- \"Old\"\n",
    "\n",
    "    print(celltype)\n",
    "    prefix = paste(celltype, prefix)\n",
    "    \n",
    "    de_results <- FindMarkers(subset(data, subset = Celltype == celltype), ident.1 = hetname, ident.2 = isoname, group.by = \"group\", logfc.threshold = 0)\n",
    "    de_results <- de_results %>%\n",
    "                    mutate(significant = ifelse(p_val_adj < 0.005 & abs(avg_log2FC) > 0.25, \"yes\", \"no\"))\n",
    "    significantdata <- de_results %>% filter(significant == \"yes\")\n",
    "    \n",
    "    significantgenes <- rownames(significantdata)\n",
    "\n",
    "    df_with_genes <- de_results %>%\n",
    "      rownames_to_column(var = \"gene\")\n",
    "    \n",
    "    df_with_genes <- df_with_genes %>%\n",
    "      filter(gene %in% all_significant_genes)\n",
    "    \n",
    "    df_with_genes[\"Cell_Type\"] <- celltype\n",
    "    \n",
    "    list_of_cell_specific_de_results_OLD <- rbind(list_of_cell_specific_de_results_OLD, df_with_genes)\n",
    "    \n",
    "    significant_genes_celltype_specific_OLD <- c(significant_genes_celltype_specific_OLD, significantgenes)\n",
    "}"
   ]
  },
  {
   "cell_type": "code",
   "execution_count": null,
   "id": "36092399-d8d2-4ce0-a285-d5b1ba600da2",
   "metadata": {},
   "outputs": [],
   "source": [
    "wide_data <- list_of_cell_specific_de_results_OLD %>%\n",
    "  select(gene, Cell_Type, avg_log2FC) %>%\n",
    "  pivot_wider(names_from = Cell_Type, values_from = avg_log2FC)\n",
    "\n",
    "wide_data <- as.data.frame(lapply(wide_data, function(col) sapply(col, clean_cell)))\n",
    "\n",
    "wide_data_df <- as.data.frame(wide_data)\n",
    "\n",
    "rownames(wide_data_df) <- wide_data_df$gene\n",
    "\n",
    "wide_data_df <- wide_data_df %>%\n",
    "  select(-gene)"
   ]
  },
  {
   "cell_type": "code",
   "execution_count": null,
   "id": "e7179f71-e4f6-49ee-aac0-8bd901237973",
   "metadata": {},
   "outputs": [],
   "source": [
    "dim(wide_data_df)"
   ]
  },
  {
   "cell_type": "code",
   "execution_count": null,
   "id": "294b606d-fe7b-43e3-a3a7-d9dfc4fdf38a",
   "metadata": {},
   "outputs": [],
   "source": [
    "pheatmap(as.matrix(wide_data_df), \n",
    "         scale = \"row\", \n",
    "         clustering_distance_rows = \"euclidean\", \n",
    "         clustering_distance_cols = \"euclidean\",\n",
    "         clustering_method = \"complete\",\n",
    "         fontsize_row = 10,\n",
    "         fontsize_col = 10 \n",
    ")"
   ]
  },
  {
   "cell_type": "code",
   "execution_count": null,
   "id": "6428bce9-bb37-4ab7-9be6-8affc4826500",
   "metadata": {},
   "outputs": [],
   "source": [
    "heatmap(as.matrix(wide_data_df), \n",
    "         scale = \"row\", \n",
    "         clustering_distance_rows = \"euclidean\", \n",
    "         clustering_distance_cols = \"euclidean\",\n",
    "         clustering_method = \"complete\",\n",
    "         fontsize_row = 10,\n",
    "         fontsize_col = 10,\n",
    "         Rowv=FALSE\n",
    ")"
   ]
  },
  {
   "cell_type": "code",
   "execution_count": null,
   "id": "1c2a6bc3-82aa-4781-9b5f-c65710fb7ff8",
   "metadata": {},
   "outputs": [],
   "source": [
    "isoid <- c('BC11', 'BC12', 'BC23', 'BC24')\n",
    "hetid <- c('BC2', 'BC8', 'BC14', 'BC22')\n",
    "\n",
    "\n",
    "isoname <- \"YoungIso\"\n",
    "hetname <- \"YoungHet\"\n",
    "prefix <- \"Young\"\n",
    "\n",
    "metadata$group <- ifelse(metadata$ID %in% isoid, isoname, \n",
    "                     ifelse(metadata$ID %in% hetid, hetname, NA))\n",
    "data@meta.data <- metadata"
   ]
  },
  {
   "cell_type": "code",
   "execution_count": null,
   "id": "112768d1-4e53-4e49-a0ef-7402ab8fa3f8",
   "metadata": {
    "scrolled": true
   },
   "outputs": [],
   "source": [
    "# iterate through all cell types, get the de_results, add to list of de results\n",
    "for (celltype in celltypes[-11]) {\n",
    "    prefix <- \"Young\"\n",
    "\n",
    "    print(celltype)\n",
    "    prefix = paste(celltype, prefix)\n",
    "    \n",
    "    de_results <- FindMarkers(subset(data, subset = Celltype == celltype), ident.1 = hetname, ident.2 = isoname, group.by = \"group\", logfc.threshold = 0)\n",
    "    de_results <- de_results %>%\n",
    "                    mutate(significant = ifelse(p_val_adj < 0.005 & abs(avg_log2FC) > 0.25, \"yes\", \"no\"))\n",
    "    significantdata <- de_results %>% filter(significant == \"yes\")\n",
    "    \n",
    "    significantgenes <- rownames(significantdata)\n",
    "\n",
    "    df_with_genes <- de_results %>%\n",
    "      rownames_to_column(var = \"gene\")\n",
    "    \n",
    "    df_with_genes <- df_with_genes %>%\n",
    "      filter(gene %in% all_significant_genes)\n",
    "\n",
    "    if (dim(df_with_genes) > 0)\n",
    "    {\n",
    "        df_with_genes[\"Cell_Type\"] <- celltype\n",
    "    \n",
    "        list_of_cell_specific_de_results_YOUNG <- rbind(list_of_cell_specific_de_results_YOUNG, df_with_genes)\n",
    "    } else {\n",
    "        print(celltype, \"doesn't have any significant genes\")\n",
    "    }\n",
    "\n",
    "    significant_genes_celltype_specific_YOUNG <- c(significant_genes_celltype_specific_YOUNG, significantgenes)\n",
    "    \n",
    "}"
   ]
  },
  {
   "cell_type": "code",
   "execution_count": null,
   "id": "5603c068-a96f-488a-afcb-1b1e096370be",
   "metadata": {},
   "outputs": [],
   "source": [
    "wide_data_YOUNG <- list_of_cell_specific_de_results_YOUNG %>%\n",
    "  select(gene, Cell_Type, avg_log2FC) %>%\n",
    "  pivot_wider(names_from = Cell_Type, values_from = avg_log2FC)\n",
    "\n",
    "wide_data_YOUNG <- as.data.frame(lapply(wide_data_YOUNG, function(col) sapply(col, clean_cell)))\n",
    "\n",
    "wide_data_df_YOUNG <- as.data.frame(wide_data_YOUNG)\n",
    "\n",
    "rownames(wide_data_df_YOUNG) <- wide_data_df_YOUNG$gene\n",
    "\n",
    "wide_data_df_YOUNG <- wide_data_df_YOUNG %>%\n",
    "  select(-gene)"
   ]
  },
  {
   "cell_type": "code",
   "execution_count": null,
   "id": "838028c9-59e0-469c-970b-ca51c6ec1ad4",
   "metadata": {},
   "outputs": [],
   "source": [
    "pheatmap(as.matrix(wide_data_df_YOUNG), \n",
    "         scale = \"row\", \n",
    "         clustering_distance_rows = \"euclidean\", \n",
    "         clustering_distance_cols = \"euclidean\",\n",
    "         clustering_method = \"complete\",\n",
    "         fontsize_row = 10,\n",
    "         fontsize_col = 10 \n",
    ")"
   ]
  },
  {
   "cell_type": "code",
   "execution_count": null,
   "id": "dda92535-6dc3-42b1-8fec-a7a0ae33e6b6",
   "metadata": {},
   "outputs": [],
   "source": [
    "mat <- as.matrix(wide_data_df_YOUNG)\n",
    "\n",
    "mat_sorted <- mat[order(rownames(mat)), order(colnames(mat))]\n"
   ]
  },
  {
   "cell_type": "code",
   "execution_count": null,
   "id": "1c86d87f-7529-487f-9485-d9134f40d31b",
   "metadata": {},
   "outputs": [],
   "source": []
  }
 ],
 "metadata": {
  "kernelspec": {
   "display_name": "R4.0.0",
   "language": "R",
   "name": "ir"
  },
  "language_info": {
   "codemirror_mode": "r",
   "file_extension": ".r",
   "mimetype": "text/x-r-source",
   "name": "R",
   "pygments_lexer": "r",
   "version": "4.0.0"
  }
 },
 "nbformat": 4,
 "nbformat_minor": 5
}
